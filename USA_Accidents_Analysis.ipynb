{
  "nbformat": 4,
  "nbformat_minor": 0,
  "metadata": {
    "colab": {
      "name": "USA Accidents Analysis",
      "provenance": [],
      "authorship_tag": "ABX9TyN0peEFVzpVRPqpd2tHq7Cn",
      "include_colab_link": true
    },
    "kernelspec": {
      "name": "python3",
      "display_name": "Python 3"
    },
    "language_info": {
      "name": "python"
    }
  },
  "cells": [
    {
      "cell_type": "markdown",
      "metadata": {
        "id": "view-in-github",
        "colab_type": "text"
      },
      "source": [
        "<a href=\"https://colab.research.google.com/github/jainam142/Exploratory-Data-Analysis-Project/blob/main/USA_Accidents_Analysis.ipynb\" target=\"_parent\"><img src=\"https://colab.research.google.com/assets/colab-badge.svg\" alt=\"Open In Colab\"/></a>"
      ]
    },
    {
      "cell_type": "markdown",
      "source": [
        "#USA Accidents Exploratory Data Analysis"
      ],
      "metadata": {
        "id": "pUlnd6Nnr5zz"
      }
    },
    {
      "cell_type": "markdown",
      "source": [
        "###Importing dataset from Kaggle"
      ],
      "metadata": {
        "id": "rHK3pvqh1XOb"
      }
    },
    {
      "cell_type": "code",
      "source": [
        "pip install opendatasets --upgrade --quiet"
      ],
      "metadata": {
        "id": "xkIbu_x-sCM7"
      },
      "execution_count": 1,
      "outputs": []
    },
    {
      "cell_type": "code",
      "source": [
        "import opendatasets as od\n",
        "download_url = 'https://www.kaggle.com/datasets/sobhanmoosavi/us-accidents'\n",
        "od.download(download_url)"
      ],
      "metadata": {
        "colab": {
          "base_uri": "https://localhost:8080/"
        },
        "id": "NCb_gQ58sBUY",
        "outputId": "9ae9e25b-7cb5-4778-a3e2-fb1568166764"
      },
      "execution_count": 2,
      "outputs": [
        {
          "output_type": "stream",
          "name": "stdout",
          "text": [
            "Please provide your Kaggle credentials to download this dataset. Learn more: http://bit.ly/kaggle-creds\n",
            "Your Kaggle username: jainambshah\n",
            "Your Kaggle Key: ··········\n",
            "Downloading us-accidents.zip to ./us-accidents\n"
          ]
        },
        {
          "output_type": "stream",
          "name": "stderr",
          "text": [
            "100%|██████████| 269M/269M [00:02<00:00, 123MB/s]\n"
          ]
        },
        {
          "output_type": "stream",
          "name": "stdout",
          "text": [
            "\n"
          ]
        }
      ]
    },
    {
      "cell_type": "code",
      "source": [
        "data_filename = './us-accidents/US_Accidents_Dec21_updated.csv'"
      ],
      "metadata": {
        "id": "A80q6jkasBNC"
      },
      "execution_count": 3,
      "outputs": []
    },
    {
      "cell_type": "markdown",
      "source": [
        "##Data Praparation and Cleaning\n",
        "\n",
        "\n",
        "1.   load the file using pandas\n",
        "2.   look at some information about the data & columns.\n",
        "3.   fix any missing or incorrect values\n",
        "\n"
      ],
      "metadata": {
        "id": "-BGI_sKusDMd"
      }
    },
    {
      "cell_type": "code",
      "source": [
        "import pandas as pd"
      ],
      "metadata": {
        "id": "WdD2m1J4sBKa"
      },
      "execution_count": 4,
      "outputs": []
    },
    {
      "cell_type": "code",
      "source": [
        "df = pd.read_csv(data_filename)"
      ],
      "metadata": {
        "id": "_gQn46MOsBHu"
      },
      "execution_count": 5,
      "outputs": []
    },
    {
      "cell_type": "code",
      "source": [
        "df"
      ],
      "metadata": {
        "colab": {
          "base_uri": "https://localhost:8080/",
          "height": 939
        },
        "id": "Vh9YZC-3sBFU",
        "outputId": "077d90f1-b036-4e44-cfa7-a1505a155ff9"
      },
      "execution_count": 6,
      "outputs": [
        {
          "output_type": "execute_result",
          "data": {
            "text/plain": [
              "                ID  Severity           Start_Time             End_Time  \\\n",
              "0              A-1         3  2016-02-08 00:37:08  2016-02-08 06:37:08   \n",
              "1              A-2         2  2016-02-08 05:56:20  2016-02-08 11:56:20   \n",
              "2              A-3         2  2016-02-08 06:15:39  2016-02-08 12:15:39   \n",
              "3              A-4         2  2016-02-08 06:51:45  2016-02-08 12:51:45   \n",
              "4              A-5         3  2016-02-08 07:53:43  2016-02-08 13:53:43   \n",
              "...            ...       ...                  ...                  ...   \n",
              "2845337  A-2845338         2  2019-08-23 18:03:25  2019-08-23 18:32:01   \n",
              "2845338  A-2845339         2  2019-08-23 19:11:30  2019-08-23 19:38:23   \n",
              "2845339  A-2845340         2  2019-08-23 19:00:21  2019-08-23 19:28:49   \n",
              "2845340  A-2845341         2  2019-08-23 19:00:21  2019-08-23 19:29:42   \n",
              "2845341  A-2845342         2  2019-08-23 18:52:06  2019-08-23 19:21:31   \n",
              "\n",
              "         Start_Lat   Start_Lng    End_Lat     End_Lng  Distance(mi)  \\\n",
              "0        40.108910  -83.092860  40.112060  -83.031870         3.230   \n",
              "1        39.865420  -84.062800  39.865010  -84.048730         0.747   \n",
              "2        39.102660  -84.524680  39.102090  -84.523960         0.055   \n",
              "3        41.062130  -81.537840  41.062170  -81.535470         0.123   \n",
              "4        39.172393  -84.492792  39.170476  -84.501798         0.500   \n",
              "...            ...         ...        ...         ...           ...   \n",
              "2845337  34.002480 -117.379360  33.998880 -117.370940         0.543   \n",
              "2845338  32.766960 -117.148060  32.765550 -117.153630         0.338   \n",
              "2845339  33.775450 -117.847790  33.777400 -117.857270         0.561   \n",
              "2845340  33.992460 -118.403020  33.983110 -118.395650         0.772   \n",
              "2845341  34.133930 -117.230920  34.137360 -117.239340         0.537   \n",
              "\n",
              "                                               Description  ...  Roundabout  \\\n",
              "0        Between Sawmill Rd/Exit 20 and OH-315/Olentang...  ...       False   \n",
              "1                       At OH-4/OH-235/Exit 41 - Accident.  ...       False   \n",
              "2                         At I-71/US-50/Exit 1 - Accident.  ...       False   \n",
              "3                          At Dart Ave/Exit 21 - Accident.  ...       False   \n",
              "4                       At Mitchell Ave/Exit 6 - Accident.  ...       False   \n",
              "...                                                    ...  ...         ...   \n",
              "2845337                           At Market St - Accident.  ...       False   \n",
              "2845338    At Camino Del Rio/Mission Center Rd - Accident.  ...       False   \n",
              "2845339  At Glassell St/Grand Ave - Accident. in the ri...  ...       False   \n",
              "2845340     At CA-90/Marina Fwy/Jefferson Blvd - Accident.  ...       False   \n",
              "2845341              At Highland Ave/Arden Ave - Accident.  ...       False   \n",
              "\n",
              "        Station   Stop Traffic_Calming Traffic_Signal Turning_Loop  \\\n",
              "0         False  False           False          False        False   \n",
              "1         False  False           False          False        False   \n",
              "2         False  False           False          False        False   \n",
              "3         False  False           False          False        False   \n",
              "4         False  False           False          False        False   \n",
              "...         ...    ...             ...            ...          ...   \n",
              "2845337   False  False           False          False        False   \n",
              "2845338   False  False           False          False        False   \n",
              "2845339   False  False           False          False        False   \n",
              "2845340   False  False           False          False        False   \n",
              "2845341   False  False           False          False        False   \n",
              "\n",
              "        Sunrise_Sunset Civil_Twilight Nautical_Twilight Astronomical_Twilight  \n",
              "0                Night          Night             Night                 Night  \n",
              "1                Night          Night             Night                 Night  \n",
              "2                Night          Night             Night                   Day  \n",
              "3                Night          Night               Day                   Day  \n",
              "4                  Day            Day               Day                   Day  \n",
              "...                ...            ...               ...                   ...  \n",
              "2845337            Day            Day               Day                   Day  \n",
              "2845338            Day            Day               Day                   Day  \n",
              "2845339            Day            Day               Day                   Day  \n",
              "2845340            Day            Day               Day                   Day  \n",
              "2845341            Day            Day               Day                   Day  \n",
              "\n",
              "[2845342 rows x 47 columns]"
            ],
            "text/html": [
              "\n",
              "  <div id=\"df-b4741232-fedb-4ee1-abe8-b195dad6c140\">\n",
              "    <div class=\"colab-df-container\">\n",
              "      <div>\n",
              "<style scoped>\n",
              "    .dataframe tbody tr th:only-of-type {\n",
              "        vertical-align: middle;\n",
              "    }\n",
              "\n",
              "    .dataframe tbody tr th {\n",
              "        vertical-align: top;\n",
              "    }\n",
              "\n",
              "    .dataframe thead th {\n",
              "        text-align: right;\n",
              "    }\n",
              "</style>\n",
              "<table border=\"1\" class=\"dataframe\">\n",
              "  <thead>\n",
              "    <tr style=\"text-align: right;\">\n",
              "      <th></th>\n",
              "      <th>ID</th>\n",
              "      <th>Severity</th>\n",
              "      <th>Start_Time</th>\n",
              "      <th>End_Time</th>\n",
              "      <th>Start_Lat</th>\n",
              "      <th>Start_Lng</th>\n",
              "      <th>End_Lat</th>\n",
              "      <th>End_Lng</th>\n",
              "      <th>Distance(mi)</th>\n",
              "      <th>Description</th>\n",
              "      <th>...</th>\n",
              "      <th>Roundabout</th>\n",
              "      <th>Station</th>\n",
              "      <th>Stop</th>\n",
              "      <th>Traffic_Calming</th>\n",
              "      <th>Traffic_Signal</th>\n",
              "      <th>Turning_Loop</th>\n",
              "      <th>Sunrise_Sunset</th>\n",
              "      <th>Civil_Twilight</th>\n",
              "      <th>Nautical_Twilight</th>\n",
              "      <th>Astronomical_Twilight</th>\n",
              "    </tr>\n",
              "  </thead>\n",
              "  <tbody>\n",
              "    <tr>\n",
              "      <th>0</th>\n",
              "      <td>A-1</td>\n",
              "      <td>3</td>\n",
              "      <td>2016-02-08 00:37:08</td>\n",
              "      <td>2016-02-08 06:37:08</td>\n",
              "      <td>40.108910</td>\n",
              "      <td>-83.092860</td>\n",
              "      <td>40.112060</td>\n",
              "      <td>-83.031870</td>\n",
              "      <td>3.230</td>\n",
              "      <td>Between Sawmill Rd/Exit 20 and OH-315/Olentang...</td>\n",
              "      <td>...</td>\n",
              "      <td>False</td>\n",
              "      <td>False</td>\n",
              "      <td>False</td>\n",
              "      <td>False</td>\n",
              "      <td>False</td>\n",
              "      <td>False</td>\n",
              "      <td>Night</td>\n",
              "      <td>Night</td>\n",
              "      <td>Night</td>\n",
              "      <td>Night</td>\n",
              "    </tr>\n",
              "    <tr>\n",
              "      <th>1</th>\n",
              "      <td>A-2</td>\n",
              "      <td>2</td>\n",
              "      <td>2016-02-08 05:56:20</td>\n",
              "      <td>2016-02-08 11:56:20</td>\n",
              "      <td>39.865420</td>\n",
              "      <td>-84.062800</td>\n",
              "      <td>39.865010</td>\n",
              "      <td>-84.048730</td>\n",
              "      <td>0.747</td>\n",
              "      <td>At OH-4/OH-235/Exit 41 - Accident.</td>\n",
              "      <td>...</td>\n",
              "      <td>False</td>\n",
              "      <td>False</td>\n",
              "      <td>False</td>\n",
              "      <td>False</td>\n",
              "      <td>False</td>\n",
              "      <td>False</td>\n",
              "      <td>Night</td>\n",
              "      <td>Night</td>\n",
              "      <td>Night</td>\n",
              "      <td>Night</td>\n",
              "    </tr>\n",
              "    <tr>\n",
              "      <th>2</th>\n",
              "      <td>A-3</td>\n",
              "      <td>2</td>\n",
              "      <td>2016-02-08 06:15:39</td>\n",
              "      <td>2016-02-08 12:15:39</td>\n",
              "      <td>39.102660</td>\n",
              "      <td>-84.524680</td>\n",
              "      <td>39.102090</td>\n",
              "      <td>-84.523960</td>\n",
              "      <td>0.055</td>\n",
              "      <td>At I-71/US-50/Exit 1 - Accident.</td>\n",
              "      <td>...</td>\n",
              "      <td>False</td>\n",
              "      <td>False</td>\n",
              "      <td>False</td>\n",
              "      <td>False</td>\n",
              "      <td>False</td>\n",
              "      <td>False</td>\n",
              "      <td>Night</td>\n",
              "      <td>Night</td>\n",
              "      <td>Night</td>\n",
              "      <td>Day</td>\n",
              "    </tr>\n",
              "    <tr>\n",
              "      <th>3</th>\n",
              "      <td>A-4</td>\n",
              "      <td>2</td>\n",
              "      <td>2016-02-08 06:51:45</td>\n",
              "      <td>2016-02-08 12:51:45</td>\n",
              "      <td>41.062130</td>\n",
              "      <td>-81.537840</td>\n",
              "      <td>41.062170</td>\n",
              "      <td>-81.535470</td>\n",
              "      <td>0.123</td>\n",
              "      <td>At Dart Ave/Exit 21 - Accident.</td>\n",
              "      <td>...</td>\n",
              "      <td>False</td>\n",
              "      <td>False</td>\n",
              "      <td>False</td>\n",
              "      <td>False</td>\n",
              "      <td>False</td>\n",
              "      <td>False</td>\n",
              "      <td>Night</td>\n",
              "      <td>Night</td>\n",
              "      <td>Day</td>\n",
              "      <td>Day</td>\n",
              "    </tr>\n",
              "    <tr>\n",
              "      <th>4</th>\n",
              "      <td>A-5</td>\n",
              "      <td>3</td>\n",
              "      <td>2016-02-08 07:53:43</td>\n",
              "      <td>2016-02-08 13:53:43</td>\n",
              "      <td>39.172393</td>\n",
              "      <td>-84.492792</td>\n",
              "      <td>39.170476</td>\n",
              "      <td>-84.501798</td>\n",
              "      <td>0.500</td>\n",
              "      <td>At Mitchell Ave/Exit 6 - Accident.</td>\n",
              "      <td>...</td>\n",
              "      <td>False</td>\n",
              "      <td>False</td>\n",
              "      <td>False</td>\n",
              "      <td>False</td>\n",
              "      <td>False</td>\n",
              "      <td>False</td>\n",
              "      <td>Day</td>\n",
              "      <td>Day</td>\n",
              "      <td>Day</td>\n",
              "      <td>Day</td>\n",
              "    </tr>\n",
              "    <tr>\n",
              "      <th>...</th>\n",
              "      <td>...</td>\n",
              "      <td>...</td>\n",
              "      <td>...</td>\n",
              "      <td>...</td>\n",
              "      <td>...</td>\n",
              "      <td>...</td>\n",
              "      <td>...</td>\n",
              "      <td>...</td>\n",
              "      <td>...</td>\n",
              "      <td>...</td>\n",
              "      <td>...</td>\n",
              "      <td>...</td>\n",
              "      <td>...</td>\n",
              "      <td>...</td>\n",
              "      <td>...</td>\n",
              "      <td>...</td>\n",
              "      <td>...</td>\n",
              "      <td>...</td>\n",
              "      <td>...</td>\n",
              "      <td>...</td>\n",
              "      <td>...</td>\n",
              "    </tr>\n",
              "    <tr>\n",
              "      <th>2845337</th>\n",
              "      <td>A-2845338</td>\n",
              "      <td>2</td>\n",
              "      <td>2019-08-23 18:03:25</td>\n",
              "      <td>2019-08-23 18:32:01</td>\n",
              "      <td>34.002480</td>\n",
              "      <td>-117.379360</td>\n",
              "      <td>33.998880</td>\n",
              "      <td>-117.370940</td>\n",
              "      <td>0.543</td>\n",
              "      <td>At Market St - Accident.</td>\n",
              "      <td>...</td>\n",
              "      <td>False</td>\n",
              "      <td>False</td>\n",
              "      <td>False</td>\n",
              "      <td>False</td>\n",
              "      <td>False</td>\n",
              "      <td>False</td>\n",
              "      <td>Day</td>\n",
              "      <td>Day</td>\n",
              "      <td>Day</td>\n",
              "      <td>Day</td>\n",
              "    </tr>\n",
              "    <tr>\n",
              "      <th>2845338</th>\n",
              "      <td>A-2845339</td>\n",
              "      <td>2</td>\n",
              "      <td>2019-08-23 19:11:30</td>\n",
              "      <td>2019-08-23 19:38:23</td>\n",
              "      <td>32.766960</td>\n",
              "      <td>-117.148060</td>\n",
              "      <td>32.765550</td>\n",
              "      <td>-117.153630</td>\n",
              "      <td>0.338</td>\n",
              "      <td>At Camino Del Rio/Mission Center Rd - Accident.</td>\n",
              "      <td>...</td>\n",
              "      <td>False</td>\n",
              "      <td>False</td>\n",
              "      <td>False</td>\n",
              "      <td>False</td>\n",
              "      <td>False</td>\n",
              "      <td>False</td>\n",
              "      <td>Day</td>\n",
              "      <td>Day</td>\n",
              "      <td>Day</td>\n",
              "      <td>Day</td>\n",
              "    </tr>\n",
              "    <tr>\n",
              "      <th>2845339</th>\n",
              "      <td>A-2845340</td>\n",
              "      <td>2</td>\n",
              "      <td>2019-08-23 19:00:21</td>\n",
              "      <td>2019-08-23 19:28:49</td>\n",
              "      <td>33.775450</td>\n",
              "      <td>-117.847790</td>\n",
              "      <td>33.777400</td>\n",
              "      <td>-117.857270</td>\n",
              "      <td>0.561</td>\n",
              "      <td>At Glassell St/Grand Ave - Accident. in the ri...</td>\n",
              "      <td>...</td>\n",
              "      <td>False</td>\n",
              "      <td>False</td>\n",
              "      <td>False</td>\n",
              "      <td>False</td>\n",
              "      <td>False</td>\n",
              "      <td>False</td>\n",
              "      <td>Day</td>\n",
              "      <td>Day</td>\n",
              "      <td>Day</td>\n",
              "      <td>Day</td>\n",
              "    </tr>\n",
              "    <tr>\n",
              "      <th>2845340</th>\n",
              "      <td>A-2845341</td>\n",
              "      <td>2</td>\n",
              "      <td>2019-08-23 19:00:21</td>\n",
              "      <td>2019-08-23 19:29:42</td>\n",
              "      <td>33.992460</td>\n",
              "      <td>-118.403020</td>\n",
              "      <td>33.983110</td>\n",
              "      <td>-118.395650</td>\n",
              "      <td>0.772</td>\n",
              "      <td>At CA-90/Marina Fwy/Jefferson Blvd - Accident.</td>\n",
              "      <td>...</td>\n",
              "      <td>False</td>\n",
              "      <td>False</td>\n",
              "      <td>False</td>\n",
              "      <td>False</td>\n",
              "      <td>False</td>\n",
              "      <td>False</td>\n",
              "      <td>Day</td>\n",
              "      <td>Day</td>\n",
              "      <td>Day</td>\n",
              "      <td>Day</td>\n",
              "    </tr>\n",
              "    <tr>\n",
              "      <th>2845341</th>\n",
              "      <td>A-2845342</td>\n",
              "      <td>2</td>\n",
              "      <td>2019-08-23 18:52:06</td>\n",
              "      <td>2019-08-23 19:21:31</td>\n",
              "      <td>34.133930</td>\n",
              "      <td>-117.230920</td>\n",
              "      <td>34.137360</td>\n",
              "      <td>-117.239340</td>\n",
              "      <td>0.537</td>\n",
              "      <td>At Highland Ave/Arden Ave - Accident.</td>\n",
              "      <td>...</td>\n",
              "      <td>False</td>\n",
              "      <td>False</td>\n",
              "      <td>False</td>\n",
              "      <td>False</td>\n",
              "      <td>False</td>\n",
              "      <td>False</td>\n",
              "      <td>Day</td>\n",
              "      <td>Day</td>\n",
              "      <td>Day</td>\n",
              "      <td>Day</td>\n",
              "    </tr>\n",
              "  </tbody>\n",
              "</table>\n",
              "<p>2845342 rows × 47 columns</p>\n",
              "</div>\n",
              "      <button class=\"colab-df-convert\" onclick=\"convertToInteractive('df-b4741232-fedb-4ee1-abe8-b195dad6c140')\"\n",
              "              title=\"Convert this dataframe to an interactive table.\"\n",
              "              style=\"display:none;\">\n",
              "        \n",
              "  <svg xmlns=\"http://www.w3.org/2000/svg\" height=\"24px\"viewBox=\"0 0 24 24\"\n",
              "       width=\"24px\">\n",
              "    <path d=\"M0 0h24v24H0V0z\" fill=\"none\"/>\n",
              "    <path d=\"M18.56 5.44l.94 2.06.94-2.06 2.06-.94-2.06-.94-.94-2.06-.94 2.06-2.06.94zm-11 1L8.5 8.5l.94-2.06 2.06-.94-2.06-.94L8.5 2.5l-.94 2.06-2.06.94zm10 10l.94 2.06.94-2.06 2.06-.94-2.06-.94-.94-2.06-.94 2.06-2.06.94z\"/><path d=\"M17.41 7.96l-1.37-1.37c-.4-.4-.92-.59-1.43-.59-.52 0-1.04.2-1.43.59L10.3 9.45l-7.72 7.72c-.78.78-.78 2.05 0 2.83L4 21.41c.39.39.9.59 1.41.59.51 0 1.02-.2 1.41-.59l7.78-7.78 2.81-2.81c.8-.78.8-2.07 0-2.86zM5.41 20L4 18.59l7.72-7.72 1.47 1.35L5.41 20z\"/>\n",
              "  </svg>\n",
              "      </button>\n",
              "      \n",
              "  <style>\n",
              "    .colab-df-container {\n",
              "      display:flex;\n",
              "      flex-wrap:wrap;\n",
              "      gap: 12px;\n",
              "    }\n",
              "\n",
              "    .colab-df-convert {\n",
              "      background-color: #E8F0FE;\n",
              "      border: none;\n",
              "      border-radius: 50%;\n",
              "      cursor: pointer;\n",
              "      display: none;\n",
              "      fill: #1967D2;\n",
              "      height: 32px;\n",
              "      padding: 0 0 0 0;\n",
              "      width: 32px;\n",
              "    }\n",
              "\n",
              "    .colab-df-convert:hover {\n",
              "      background-color: #E2EBFA;\n",
              "      box-shadow: 0px 1px 2px rgba(60, 64, 67, 0.3), 0px 1px 3px 1px rgba(60, 64, 67, 0.15);\n",
              "      fill: #174EA6;\n",
              "    }\n",
              "\n",
              "    [theme=dark] .colab-df-convert {\n",
              "      background-color: #3B4455;\n",
              "      fill: #D2E3FC;\n",
              "    }\n",
              "\n",
              "    [theme=dark] .colab-df-convert:hover {\n",
              "      background-color: #434B5C;\n",
              "      box-shadow: 0px 1px 3px 1px rgba(0, 0, 0, 0.15);\n",
              "      filter: drop-shadow(0px 1px 2px rgba(0, 0, 0, 0.3));\n",
              "      fill: #FFFFFF;\n",
              "    }\n",
              "  </style>\n",
              "\n",
              "      <script>\n",
              "        const buttonEl =\n",
              "          document.querySelector('#df-b4741232-fedb-4ee1-abe8-b195dad6c140 button.colab-df-convert');\n",
              "        buttonEl.style.display =\n",
              "          google.colab.kernel.accessAllowed ? 'block' : 'none';\n",
              "\n",
              "        async function convertToInteractive(key) {\n",
              "          const element = document.querySelector('#df-b4741232-fedb-4ee1-abe8-b195dad6c140');\n",
              "          const dataTable =\n",
              "            await google.colab.kernel.invokeFunction('convertToInteractive',\n",
              "                                                     [key], {});\n",
              "          if (!dataTable) return;\n",
              "\n",
              "          const docLinkHtml = 'Like what you see? Visit the ' +\n",
              "            '<a target=\"_blank\" href=https://colab.research.google.com/notebooks/data_table.ipynb>data table notebook</a>'\n",
              "            + ' to learn more about interactive tables.';\n",
              "          element.innerHTML = '';\n",
              "          dataTable['output_type'] = 'display_data';\n",
              "          await google.colab.output.renderOutput(dataTable, element);\n",
              "          const docLink = document.createElement('div');\n",
              "          docLink.innerHTML = docLinkHtml;\n",
              "          element.appendChild(docLink);\n",
              "        }\n",
              "      </script>\n",
              "    </div>\n",
              "  </div>\n",
              "  "
            ]
          },
          "metadata": {},
          "execution_count": 6
        }
      ]
    },
    {
      "cell_type": "code",
      "source": [
        "df.info()"
      ],
      "metadata": {
        "colab": {
          "base_uri": "https://localhost:8080/"
        },
        "id": "BFcfJO9lsKKN",
        "outputId": "dc7ec366-d3ff-4a34-86b7-20c7efffc79b"
      },
      "execution_count": 7,
      "outputs": [
        {
          "output_type": "stream",
          "name": "stdout",
          "text": [
            "<class 'pandas.core.frame.DataFrame'>\n",
            "RangeIndex: 2845342 entries, 0 to 2845341\n",
            "Data columns (total 47 columns):\n",
            " #   Column                 Dtype  \n",
            "---  ------                 -----  \n",
            " 0   ID                     object \n",
            " 1   Severity               int64  \n",
            " 2   Start_Time             object \n",
            " 3   End_Time               object \n",
            " 4   Start_Lat              float64\n",
            " 5   Start_Lng              float64\n",
            " 6   End_Lat                float64\n",
            " 7   End_Lng                float64\n",
            " 8   Distance(mi)           float64\n",
            " 9   Description            object \n",
            " 10  Number                 float64\n",
            " 11  Street                 object \n",
            " 12  Side                   object \n",
            " 13  City                   object \n",
            " 14  County                 object \n",
            " 15  State                  object \n",
            " 16  Zipcode                object \n",
            " 17  Country                object \n",
            " 18  Timezone               object \n",
            " 19  Airport_Code           object \n",
            " 20  Weather_Timestamp      object \n",
            " 21  Temperature(F)         float64\n",
            " 22  Wind_Chill(F)          float64\n",
            " 23  Humidity(%)            float64\n",
            " 24  Pressure(in)           float64\n",
            " 25  Visibility(mi)         float64\n",
            " 26  Wind_Direction         object \n",
            " 27  Wind_Speed(mph)        float64\n",
            " 28  Precipitation(in)      float64\n",
            " 29  Weather_Condition      object \n",
            " 30  Amenity                bool   \n",
            " 31  Bump                   bool   \n",
            " 32  Crossing               bool   \n",
            " 33  Give_Way               bool   \n",
            " 34  Junction               bool   \n",
            " 35  No_Exit                bool   \n",
            " 36  Railway                bool   \n",
            " 37  Roundabout             bool   \n",
            " 38  Station                bool   \n",
            " 39  Stop                   bool   \n",
            " 40  Traffic_Calming        bool   \n",
            " 41  Traffic_Signal         bool   \n",
            " 42  Turning_Loop           bool   \n",
            " 43  Sunrise_Sunset         object \n",
            " 44  Civil_Twilight         object \n",
            " 45  Nautical_Twilight      object \n",
            " 46  Astronomical_Twilight  object \n",
            "dtypes: bool(13), float64(13), int64(1), object(20)\n",
            "memory usage: 773.4+ MB\n"
          ]
        }
      ]
    },
    {
      "cell_type": "code",
      "source": [
        "df.describe()"
      ],
      "metadata": {
        "colab": {
          "base_uri": "https://localhost:8080/",
          "height": 364
        },
        "id": "Sqf0TNF5sKFI",
        "outputId": "e25d1705-729d-4c27-d0bd-76d8da33577e"
      },
      "execution_count": 8,
      "outputs": [
        {
          "output_type": "execute_result",
          "data": {
            "text/plain": [
              "           Severity     Start_Lat     Start_Lng       End_Lat       End_Lng  \\\n",
              "count  2.845342e+06  2.845342e+06  2.845342e+06  2.845342e+06  2.845342e+06   \n",
              "mean   2.137572e+00  3.624520e+01 -9.711463e+01  3.624532e+01 -9.711439e+01   \n",
              "std    4.787216e-01  5.363797e+00  1.831782e+01  5.363873e+00  1.831763e+01   \n",
              "min    1.000000e+00  2.456603e+01 -1.245481e+02  2.456601e+01 -1.245457e+02   \n",
              "25%    2.000000e+00  3.344517e+01 -1.180331e+02  3.344628e+01 -1.180333e+02   \n",
              "50%    2.000000e+00  3.609861e+01 -9.241808e+01  3.609799e+01 -9.241772e+01   \n",
              "75%    2.000000e+00  4.016024e+01 -8.037243e+01  4.016105e+01 -8.037338e+01   \n",
              "max    4.000000e+00  4.900058e+01 -6.711317e+01  4.907500e+01 -6.710924e+01   \n",
              "\n",
              "       Distance(mi)        Number  Temperature(F)  Wind_Chill(F)  \\\n",
              "count  2.845342e+06  1.101431e+06    2.776068e+06   2.375699e+06   \n",
              "mean   7.026779e-01  8.089408e+03    6.179356e+01   5.965823e+01   \n",
              "std    1.560361e+00  1.836009e+04    1.862263e+01   2.116097e+01   \n",
              "min    0.000000e+00  0.000000e+00   -8.900000e+01  -8.900000e+01   \n",
              "25%    5.200000e-02  1.270000e+03    5.000000e+01   4.600000e+01   \n",
              "50%    2.440000e-01  4.007000e+03    6.400000e+01   6.300000e+01   \n",
              "75%    7.640000e-01  9.567000e+03    7.600000e+01   7.600000e+01   \n",
              "max    1.551860e+02  9.999997e+06    1.960000e+02   1.960000e+02   \n",
              "\n",
              "        Humidity(%)  Pressure(in)  Visibility(mi)  Wind_Speed(mph)  \\\n",
              "count  2.772250e+06  2.786142e+06    2.774796e+06     2.687398e+06   \n",
              "mean   6.436545e+01  2.947234e+01    9.099391e+00     7.395044e+00   \n",
              "std    2.287457e+01  1.045286e+00    2.717546e+00     5.527454e+00   \n",
              "min    1.000000e+00  0.000000e+00    0.000000e+00     0.000000e+00   \n",
              "25%    4.800000e+01  2.931000e+01    1.000000e+01     3.500000e+00   \n",
              "50%    6.700000e+01  2.982000e+01    1.000000e+01     7.000000e+00   \n",
              "75%    8.300000e+01  3.001000e+01    1.000000e+01     1.000000e+01   \n",
              "max    1.000000e+02  5.890000e+01    1.400000e+02     1.087000e+03   \n",
              "\n",
              "       Precipitation(in)  \n",
              "count       2.295884e+06  \n",
              "mean        7.016940e-03  \n",
              "std         9.348831e-02  \n",
              "min         0.000000e+00  \n",
              "25%         0.000000e+00  \n",
              "50%         0.000000e+00  \n",
              "75%         0.000000e+00  \n",
              "max         2.400000e+01  "
            ],
            "text/html": [
              "\n",
              "  <div id=\"df-acd2c648-ada0-46dc-8e9f-28ce2b2bd5d4\">\n",
              "    <div class=\"colab-df-container\">\n",
              "      <div>\n",
              "<style scoped>\n",
              "    .dataframe tbody tr th:only-of-type {\n",
              "        vertical-align: middle;\n",
              "    }\n",
              "\n",
              "    .dataframe tbody tr th {\n",
              "        vertical-align: top;\n",
              "    }\n",
              "\n",
              "    .dataframe thead th {\n",
              "        text-align: right;\n",
              "    }\n",
              "</style>\n",
              "<table border=\"1\" class=\"dataframe\">\n",
              "  <thead>\n",
              "    <tr style=\"text-align: right;\">\n",
              "      <th></th>\n",
              "      <th>Severity</th>\n",
              "      <th>Start_Lat</th>\n",
              "      <th>Start_Lng</th>\n",
              "      <th>End_Lat</th>\n",
              "      <th>End_Lng</th>\n",
              "      <th>Distance(mi)</th>\n",
              "      <th>Number</th>\n",
              "      <th>Temperature(F)</th>\n",
              "      <th>Wind_Chill(F)</th>\n",
              "      <th>Humidity(%)</th>\n",
              "      <th>Pressure(in)</th>\n",
              "      <th>Visibility(mi)</th>\n",
              "      <th>Wind_Speed(mph)</th>\n",
              "      <th>Precipitation(in)</th>\n",
              "    </tr>\n",
              "  </thead>\n",
              "  <tbody>\n",
              "    <tr>\n",
              "      <th>count</th>\n",
              "      <td>2.845342e+06</td>\n",
              "      <td>2.845342e+06</td>\n",
              "      <td>2.845342e+06</td>\n",
              "      <td>2.845342e+06</td>\n",
              "      <td>2.845342e+06</td>\n",
              "      <td>2.845342e+06</td>\n",
              "      <td>1.101431e+06</td>\n",
              "      <td>2.776068e+06</td>\n",
              "      <td>2.375699e+06</td>\n",
              "      <td>2.772250e+06</td>\n",
              "      <td>2.786142e+06</td>\n",
              "      <td>2.774796e+06</td>\n",
              "      <td>2.687398e+06</td>\n",
              "      <td>2.295884e+06</td>\n",
              "    </tr>\n",
              "    <tr>\n",
              "      <th>mean</th>\n",
              "      <td>2.137572e+00</td>\n",
              "      <td>3.624520e+01</td>\n",
              "      <td>-9.711463e+01</td>\n",
              "      <td>3.624532e+01</td>\n",
              "      <td>-9.711439e+01</td>\n",
              "      <td>7.026779e-01</td>\n",
              "      <td>8.089408e+03</td>\n",
              "      <td>6.179356e+01</td>\n",
              "      <td>5.965823e+01</td>\n",
              "      <td>6.436545e+01</td>\n",
              "      <td>2.947234e+01</td>\n",
              "      <td>9.099391e+00</td>\n",
              "      <td>7.395044e+00</td>\n",
              "      <td>7.016940e-03</td>\n",
              "    </tr>\n",
              "    <tr>\n",
              "      <th>std</th>\n",
              "      <td>4.787216e-01</td>\n",
              "      <td>5.363797e+00</td>\n",
              "      <td>1.831782e+01</td>\n",
              "      <td>5.363873e+00</td>\n",
              "      <td>1.831763e+01</td>\n",
              "      <td>1.560361e+00</td>\n",
              "      <td>1.836009e+04</td>\n",
              "      <td>1.862263e+01</td>\n",
              "      <td>2.116097e+01</td>\n",
              "      <td>2.287457e+01</td>\n",
              "      <td>1.045286e+00</td>\n",
              "      <td>2.717546e+00</td>\n",
              "      <td>5.527454e+00</td>\n",
              "      <td>9.348831e-02</td>\n",
              "    </tr>\n",
              "    <tr>\n",
              "      <th>min</th>\n",
              "      <td>1.000000e+00</td>\n",
              "      <td>2.456603e+01</td>\n",
              "      <td>-1.245481e+02</td>\n",
              "      <td>2.456601e+01</td>\n",
              "      <td>-1.245457e+02</td>\n",
              "      <td>0.000000e+00</td>\n",
              "      <td>0.000000e+00</td>\n",
              "      <td>-8.900000e+01</td>\n",
              "      <td>-8.900000e+01</td>\n",
              "      <td>1.000000e+00</td>\n",
              "      <td>0.000000e+00</td>\n",
              "      <td>0.000000e+00</td>\n",
              "      <td>0.000000e+00</td>\n",
              "      <td>0.000000e+00</td>\n",
              "    </tr>\n",
              "    <tr>\n",
              "      <th>25%</th>\n",
              "      <td>2.000000e+00</td>\n",
              "      <td>3.344517e+01</td>\n",
              "      <td>-1.180331e+02</td>\n",
              "      <td>3.344628e+01</td>\n",
              "      <td>-1.180333e+02</td>\n",
              "      <td>5.200000e-02</td>\n",
              "      <td>1.270000e+03</td>\n",
              "      <td>5.000000e+01</td>\n",
              "      <td>4.600000e+01</td>\n",
              "      <td>4.800000e+01</td>\n",
              "      <td>2.931000e+01</td>\n",
              "      <td>1.000000e+01</td>\n",
              "      <td>3.500000e+00</td>\n",
              "      <td>0.000000e+00</td>\n",
              "    </tr>\n",
              "    <tr>\n",
              "      <th>50%</th>\n",
              "      <td>2.000000e+00</td>\n",
              "      <td>3.609861e+01</td>\n",
              "      <td>-9.241808e+01</td>\n",
              "      <td>3.609799e+01</td>\n",
              "      <td>-9.241772e+01</td>\n",
              "      <td>2.440000e-01</td>\n",
              "      <td>4.007000e+03</td>\n",
              "      <td>6.400000e+01</td>\n",
              "      <td>6.300000e+01</td>\n",
              "      <td>6.700000e+01</td>\n",
              "      <td>2.982000e+01</td>\n",
              "      <td>1.000000e+01</td>\n",
              "      <td>7.000000e+00</td>\n",
              "      <td>0.000000e+00</td>\n",
              "    </tr>\n",
              "    <tr>\n",
              "      <th>75%</th>\n",
              "      <td>2.000000e+00</td>\n",
              "      <td>4.016024e+01</td>\n",
              "      <td>-8.037243e+01</td>\n",
              "      <td>4.016105e+01</td>\n",
              "      <td>-8.037338e+01</td>\n",
              "      <td>7.640000e-01</td>\n",
              "      <td>9.567000e+03</td>\n",
              "      <td>7.600000e+01</td>\n",
              "      <td>7.600000e+01</td>\n",
              "      <td>8.300000e+01</td>\n",
              "      <td>3.001000e+01</td>\n",
              "      <td>1.000000e+01</td>\n",
              "      <td>1.000000e+01</td>\n",
              "      <td>0.000000e+00</td>\n",
              "    </tr>\n",
              "    <tr>\n",
              "      <th>max</th>\n",
              "      <td>4.000000e+00</td>\n",
              "      <td>4.900058e+01</td>\n",
              "      <td>-6.711317e+01</td>\n",
              "      <td>4.907500e+01</td>\n",
              "      <td>-6.710924e+01</td>\n",
              "      <td>1.551860e+02</td>\n",
              "      <td>9.999997e+06</td>\n",
              "      <td>1.960000e+02</td>\n",
              "      <td>1.960000e+02</td>\n",
              "      <td>1.000000e+02</td>\n",
              "      <td>5.890000e+01</td>\n",
              "      <td>1.400000e+02</td>\n",
              "      <td>1.087000e+03</td>\n",
              "      <td>2.400000e+01</td>\n",
              "    </tr>\n",
              "  </tbody>\n",
              "</table>\n",
              "</div>\n",
              "      <button class=\"colab-df-convert\" onclick=\"convertToInteractive('df-acd2c648-ada0-46dc-8e9f-28ce2b2bd5d4')\"\n",
              "              title=\"Convert this dataframe to an interactive table.\"\n",
              "              style=\"display:none;\">\n",
              "        \n",
              "  <svg xmlns=\"http://www.w3.org/2000/svg\" height=\"24px\"viewBox=\"0 0 24 24\"\n",
              "       width=\"24px\">\n",
              "    <path d=\"M0 0h24v24H0V0z\" fill=\"none\"/>\n",
              "    <path d=\"M18.56 5.44l.94 2.06.94-2.06 2.06-.94-2.06-.94-.94-2.06-.94 2.06-2.06.94zm-11 1L8.5 8.5l.94-2.06 2.06-.94-2.06-.94L8.5 2.5l-.94 2.06-2.06.94zm10 10l.94 2.06.94-2.06 2.06-.94-2.06-.94-.94-2.06-.94 2.06-2.06.94z\"/><path d=\"M17.41 7.96l-1.37-1.37c-.4-.4-.92-.59-1.43-.59-.52 0-1.04.2-1.43.59L10.3 9.45l-7.72 7.72c-.78.78-.78 2.05 0 2.83L4 21.41c.39.39.9.59 1.41.59.51 0 1.02-.2 1.41-.59l7.78-7.78 2.81-2.81c.8-.78.8-2.07 0-2.86zM5.41 20L4 18.59l7.72-7.72 1.47 1.35L5.41 20z\"/>\n",
              "  </svg>\n",
              "      </button>\n",
              "      \n",
              "  <style>\n",
              "    .colab-df-container {\n",
              "      display:flex;\n",
              "      flex-wrap:wrap;\n",
              "      gap: 12px;\n",
              "    }\n",
              "\n",
              "    .colab-df-convert {\n",
              "      background-color: #E8F0FE;\n",
              "      border: none;\n",
              "      border-radius: 50%;\n",
              "      cursor: pointer;\n",
              "      display: none;\n",
              "      fill: #1967D2;\n",
              "      height: 32px;\n",
              "      padding: 0 0 0 0;\n",
              "      width: 32px;\n",
              "    }\n",
              "\n",
              "    .colab-df-convert:hover {\n",
              "      background-color: #E2EBFA;\n",
              "      box-shadow: 0px 1px 2px rgba(60, 64, 67, 0.3), 0px 1px 3px 1px rgba(60, 64, 67, 0.15);\n",
              "      fill: #174EA6;\n",
              "    }\n",
              "\n",
              "    [theme=dark] .colab-df-convert {\n",
              "      background-color: #3B4455;\n",
              "      fill: #D2E3FC;\n",
              "    }\n",
              "\n",
              "    [theme=dark] .colab-df-convert:hover {\n",
              "      background-color: #434B5C;\n",
              "      box-shadow: 0px 1px 3px 1px rgba(0, 0, 0, 0.15);\n",
              "      filter: drop-shadow(0px 1px 2px rgba(0, 0, 0, 0.3));\n",
              "      fill: #FFFFFF;\n",
              "    }\n",
              "  </style>\n",
              "\n",
              "      <script>\n",
              "        const buttonEl =\n",
              "          document.querySelector('#df-acd2c648-ada0-46dc-8e9f-28ce2b2bd5d4 button.colab-df-convert');\n",
              "        buttonEl.style.display =\n",
              "          google.colab.kernel.accessAllowed ? 'block' : 'none';\n",
              "\n",
              "        async function convertToInteractive(key) {\n",
              "          const element = document.querySelector('#df-acd2c648-ada0-46dc-8e9f-28ce2b2bd5d4');\n",
              "          const dataTable =\n",
              "            await google.colab.kernel.invokeFunction('convertToInteractive',\n",
              "                                                     [key], {});\n",
              "          if (!dataTable) return;\n",
              "\n",
              "          const docLinkHtml = 'Like what you see? Visit the ' +\n",
              "            '<a target=\"_blank\" href=https://colab.research.google.com/notebooks/data_table.ipynb>data table notebook</a>'\n",
              "            + ' to learn more about interactive tables.';\n",
              "          element.innerHTML = '';\n",
              "          dataTable['output_type'] = 'display_data';\n",
              "          await google.colab.output.renderOutput(dataTable, element);\n",
              "          const docLink = document.createElement('div');\n",
              "          docLink.innerHTML = docLinkHtml;\n",
              "          element.appendChild(docLink);\n",
              "        }\n",
              "      </script>\n",
              "    </div>\n",
              "  </div>\n",
              "  "
            ]
          },
          "metadata": {},
          "execution_count": 8
        }
      ]
    },
    {
      "cell_type": "code",
      "source": [
        "numerics = ['int16', 'int32', 'int64', 'float16', 'float32', 'float64']\n",
        "numerics_df = df.select_dtypes(include=numerics)\n",
        "len(numerics_df.columns)"
      ],
      "metadata": {
        "colab": {
          "base_uri": "https://localhost:8080/"
        },
        "id": "WZZQ8sFQyf90",
        "outputId": "0e487f8f-951c-457f-d01a-9f3b409cd857"
      },
      "execution_count": 9,
      "outputs": [
        {
          "output_type": "execute_result",
          "data": {
            "text/plain": [
              "14"
            ]
          },
          "metadata": {},
          "execution_count": 9
        }
      ]
    },
    {
      "cell_type": "markdown",
      "source": [
        "Percentage of missing values per column\n"
      ],
      "metadata": {
        "id": "kpN33euizq36"
      }
    },
    {
      "cell_type": "code",
      "source": [
        "df.isna().sum().sort_values(ascending=False)"
      ],
      "metadata": {
        "colab": {
          "base_uri": "https://localhost:8080/"
        },
        "id": "IdZ5BQPqyf0I",
        "outputId": "4446bb93-8fb4-4f89-fd9a-3c9e75302a89"
      },
      "execution_count": 10,
      "outputs": [
        {
          "output_type": "execute_result",
          "data": {
            "text/plain": [
              "Number                   1743911\n",
              "Precipitation(in)         549458\n",
              "Wind_Chill(F)             469643\n",
              "Wind_Speed(mph)           157944\n",
              "Wind_Direction             73775\n",
              "Humidity(%)                73092\n",
              "Weather_Condition          70636\n",
              "Visibility(mi)             70546\n",
              "Temperature(F)             69274\n",
              "Pressure(in)               59200\n",
              "Weather_Timestamp          50736\n",
              "Airport_Code                9549\n",
              "Timezone                    3659\n",
              "Nautical_Twilight           2867\n",
              "Civil_Twilight              2867\n",
              "Sunrise_Sunset              2867\n",
              "Astronomical_Twilight       2867\n",
              "Zipcode                     1319\n",
              "City                         137\n",
              "Street                         2\n",
              "Country                        0\n",
              "Junction                       0\n",
              "Start_Time                     0\n",
              "End_Time                       0\n",
              "Start_Lat                      0\n",
              "Turning_Loop                   0\n",
              "Traffic_Signal                 0\n",
              "Traffic_Calming                0\n",
              "Stop                           0\n",
              "Station                        0\n",
              "Roundabout                     0\n",
              "Railway                        0\n",
              "No_Exit                        0\n",
              "Crossing                       0\n",
              "Give_Way                       0\n",
              "Bump                           0\n",
              "Amenity                        0\n",
              "Start_Lng                      0\n",
              "End_Lat                        0\n",
              "End_Lng                        0\n",
              "Distance(mi)                   0\n",
              "Description                    0\n",
              "Severity                       0\n",
              "Side                           0\n",
              "County                         0\n",
              "State                          0\n",
              "ID                             0\n",
              "dtype: int64"
            ]
          },
          "metadata": {},
          "execution_count": 10
        }
      ]
    },
    {
      "cell_type": "markdown",
      "source": [
        "##Exploratory Analaysis and Visualization for different columns"
      ],
      "metadata": {
        "id": "lWrb4rSD1N60"
      }
    },
    {
      "cell_type": "code",
      "source": [
        "df.columns"
      ],
      "metadata": {
        "colab": {
          "base_uri": "https://localhost:8080/"
        },
        "id": "nhfz1lRY1Nvm",
        "outputId": "038c065d-b5f9-4a8b-916f-f977131a0720"
      },
      "execution_count": 11,
      "outputs": [
        {
          "output_type": "execute_result",
          "data": {
            "text/plain": [
              "Index(['ID', 'Severity', 'Start_Time', 'End_Time', 'Start_Lat', 'Start_Lng',\n",
              "       'End_Lat', 'End_Lng', 'Distance(mi)', 'Description', 'Number', 'Street',\n",
              "       'Side', 'City', 'County', 'State', 'Zipcode', 'Country', 'Timezone',\n",
              "       'Airport_Code', 'Weather_Timestamp', 'Temperature(F)', 'Wind_Chill(F)',\n",
              "       'Humidity(%)', 'Pressure(in)', 'Visibility(mi)', 'Wind_Direction',\n",
              "       'Wind_Speed(mph)', 'Precipitation(in)', 'Weather_Condition', 'Amenity',\n",
              "       'Bump', 'Crossing', 'Give_Way', 'Junction', 'No_Exit', 'Railway',\n",
              "       'Roundabout', 'Station', 'Stop', 'Traffic_Calming', 'Traffic_Signal',\n",
              "       'Turning_Loop', 'Sunrise_Sunset', 'Civil_Twilight', 'Nautical_Twilight',\n",
              "       'Astronomical_Twilight'],\n",
              "      dtype='object')"
            ]
          },
          "metadata": {},
          "execution_count": 11
        }
      ]
    },
    {
      "cell_type": "markdown",
      "source": [
        "###1. City"
      ],
      "metadata": {
        "id": "PjsIC3TB1gu5"
      }
    },
    {
      "cell_type": "code",
      "source": [
        "cities = df.City.unique()\n",
        "len(cities)"
      ],
      "metadata": {
        "colab": {
          "base_uri": "https://localhost:8080/"
        },
        "id": "eUh16XsEyfxS",
        "outputId": "e25eea70-f05b-43b5-9952-2f0a482d6299"
      },
      "execution_count": 12,
      "outputs": [
        {
          "output_type": "execute_result",
          "data": {
            "text/plain": [
              "11682"
            ]
          },
          "metadata": {},
          "execution_count": 12
        }
      ]
    },
    {
      "cell_type": "code",
      "source": [
        "cities_by_accident = df.City.value_counts()\n",
        "cities_by_accident"
      ],
      "metadata": {
        "colab": {
          "base_uri": "https://localhost:8080/"
        },
        "id": "VIO9NGtayfuk",
        "outputId": "877685c8-4db9-49a3-94af-07dcd9be8daf"
      },
      "execution_count": 13,
      "outputs": [
        {
          "output_type": "execute_result",
          "data": {
            "text/plain": [
              "Miami                           106966\n",
              "Los Angeles                      68956\n",
              "Orlando                          54691\n",
              "Dallas                           41979\n",
              "Houston                          39448\n",
              "                                 ...  \n",
              "Ridgedale                            1\n",
              "Sekiu                                1\n",
              "Wooldridge                           1\n",
              "Bullock                              1\n",
              "American Fork-Pleasant Grove         1\n",
              "Name: City, Length: 11681, dtype: int64"
            ]
          },
          "metadata": {},
          "execution_count": 13
        }
      ]
    },
    {
      "cell_type": "code",
      "source": [
        "'NY' in df.State"
      ],
      "metadata": {
        "colab": {
          "base_uri": "https://localhost:8080/"
        },
        "id": "HorK0u1djpio",
        "outputId": "7840ac65-5105-4ceb-aa07-fdedd03c1dae"
      },
      "execution_count": 16,
      "outputs": [
        {
          "output_type": "execute_result",
          "data": {
            "text/plain": [
              "False"
            ]
          },
          "metadata": {},
          "execution_count": 16
        }
      ]
    },
    {
      "cell_type": "code",
      "source": [
        "cities_by_accident[:20].plot(kind='barh')"
      ],
      "metadata": {
        "colab": {
          "base_uri": "https://localhost:8080/",
          "height": 283
        },
        "id": "Ih5-kVNTjpA0",
        "outputId": "f6b4a0a5-0eae-4e85-de83-7b6e0d993c76"
      },
      "execution_count": 17,
      "outputs": [
        {
          "output_type": "execute_result",
          "data": {
            "text/plain": [
              "<matplotlib.axes._subplots.AxesSubplot at 0x7f2d62b28550>"
            ]
          },
          "metadata": {},
          "execution_count": 17
        },
        {
          "output_type": "display_data",
          "data": {
            "text/plain": [
              "<Figure size 432x288 with 1 Axes>"
            ],
            "image/png": "[encoded data removed]"
          },
          "metadata": {
            "needs_background": "light"
          }
        }
      ]
    },
    {
      "cell_type": "code",
      "source": [
        "import seaborn as sns\n",
        "sns.set_style(\"darkgrid\")"
      ],
      "metadata": {
        "id": "hcqJgN6ploGG"
      },
      "execution_count": 18,
      "outputs": []
    },
    {
      "cell_type": "code",
      "source": [
        "sns.histplot(cities_by_accident, log_scale=True)"
      ],
      "metadata": {
        "colab": {
          "base_uri": "https://localhost:8080/",
          "height": 301
        },
        "id": "-fH2po3tln8U",
        "outputId": "c82add59-f178-4e76-f0e0-178ff1a29c48"
      },
      "execution_count": 39,
      "outputs": [
        {
          "output_type": "execute_result",
          "data": {
            "text/plain": [
              "<matplotlib.axes._subplots.AxesSubplot at 0x7f2d3c431610>"
            ]
          },
          "metadata": {},
          "execution_count": 39
        },
        {
          "output_type": "display_data",
          "data": {
            "text/plain": [
              "<Figure size 432x288 with 1 Axes>"
            ],
            "image/png": "[encoded data removed]"
          },
          "metadata": {}
        }
      ]
    },
    {
      "cell_type": "code",
      "source": [
        "cities_by_accident[cities_by_accident == 1]"
      ],
      "metadata": {
        "colab": {
          "base_uri": "https://localhost:8080/"
        },
        "id": "rawoEih1xdjP",
        "outputId": "064301dd-7fc2-4782-943e-771cd28a836d"
      },
      "execution_count": 40,
      "outputs": [
        {
          "output_type": "execute_result",
          "data": {
            "text/plain": [
              "Carney                          1\n",
              "Waverly Hall                    1\n",
              "Center Sandwich                 1\n",
              "Glen Flora                      1\n",
              "Sulphur Springs                 1\n",
              "                               ..\n",
              "Ridgedale                       1\n",
              "Sekiu                           1\n",
              "Wooldridge                      1\n",
              "Bullock                         1\n",
              "American Fork-Pleasant Grove    1\n",
              "Name: City, Length: 1110, dtype: int64"
            ]
          },
          "metadata": {},
          "execution_count": 40
        }
      ]
    },
    {
      "cell_type": "code",
      "source": [
        "high_accident_cities = cities_by_accident[cities_by_accident >=1000]\n",
        "low_accident_cities = cities_by_accident[cities_by_accident <1000]\n",
        "len(high_accident_cities) / len(low_accident_cities)*100"
      ],
      "metadata": {
        "colab": {
          "base_uri": "https://localhost:8080/"
        },
        "id": "vz-3EPLElnxC",
        "outputId": "7908d5dc-c9c5-4602-d7dc-da078fb9f89e"
      },
      "execution_count": 31,
      "outputs": [
        {
          "output_type": "execute_result",
          "data": {
            "text/plain": [
              "4.434510505140814"
            ]
          },
          "metadata": {},
          "execution_count": 31
        }
      ]
    },
    {
      "cell_type": "code",
      "source": [
        "sns.distplot(high_accident_cities)"
      ],
      "metadata": {
        "colab": {
          "base_uri": "https://localhost:8080/",
          "height": 353
        },
        "id": "e8LzSImSoPkb",
        "outputId": "a09c5822-e794-4921-f116-7a33be5bcef4"
      },
      "execution_count": 38,
      "outputs": [
        {
          "output_type": "stream",
          "name": "stderr",
          "text": [
            "/usr/local/lib/python3.7/dist-packages/seaborn/distributions.py:2619: FutureWarning: `distplot` is a deprecated function and will be removed in a future version. Please adapt your code to use either `displot` (a figure-level function with similar flexibility) or `histplot` (an axes-level function for histograms).\n",
            "  warnings.warn(msg, FutureWarning)\n"
          ]
        },
        {
          "output_type": "execute_result",
          "data": {
            "text/plain": [
              "<matplotlib.axes._subplots.AxesSubplot at 0x7f2d40d5db50>"
            ]
          },
          "metadata": {},
          "execution_count": 38
        },
        {
          "output_type": "display_data",
          "data": {
            "text/plain": [
              "<Figure size 432x288 with 1 Axes>"
            ],
            "image/png": "[encoded data removed]"
          },
          "metadata": {}
        }
      ]
    },
    {
      "cell_type": "code",
      "source": [
        "sns.histplot(low_accident_cities, log_scale=True)"
      ],
      "metadata": {
        "colab": {
          "base_uri": "https://localhost:8080/",
          "height": 301
        },
        "id": "-sNqKfS6oPe8",
        "outputId": "8499238f-e683-48a0-8980-0de1f58d327a"
      },
      "execution_count": 36,
      "outputs": [
        {
          "output_type": "execute_result",
          "data": {
            "text/plain": [
              "<matplotlib.axes._subplots.AxesSubplot at 0x7f2d41200310>"
            ]
          },
          "metadata": {},
          "execution_count": 36
        },
        {
          "output_type": "display_data",
          "data": {
            "text/plain": [
              "<Figure size 432x288 with 1 Axes>"
            ],
            "image/png": "[encoded data removed]"
          },
          "metadata": {}
        }
      ]
    },
    {
      "cell_type": "markdown",
      "source": [
        "###2. Start time"
      ],
      "metadata": {
        "id": "EaVVu01m1Jxh"
      }
    },
    {
      "cell_type": "code",
      "source": [
        "df.Start_Time"
      ],
      "metadata": {
        "colab": {
          "base_uri": "https://localhost:8080/"
        },
        "id": "GL5QR42Z1MYE",
        "outputId": "31ee2228-26af-401c-b512-78a3c2bc524e"
      },
      "execution_count": 41,
      "outputs": [
        {
          "output_type": "execute_result",
          "data": {
            "text/plain": [
              "0          2016-02-08 00:37:08\n",
              "1          2016-02-08 05:56:20\n",
              "2          2016-02-08 06:15:39\n",
              "3          2016-02-08 06:51:45\n",
              "4          2016-02-08 07:53:43\n",
              "                  ...         \n",
              "2845337    2019-08-23 18:03:25\n",
              "2845338    2019-08-23 19:11:30\n",
              "2845339    2019-08-23 19:00:21\n",
              "2845340    2019-08-23 19:00:21\n",
              "2845341    2019-08-23 18:52:06\n",
              "Name: Start_Time, Length: 2845342, dtype: object"
            ]
          },
          "metadata": {},
          "execution_count": 41
        }
      ]
    },
    {
      "cell_type": "code",
      "source": [
        "df.Start_Time = pd.to_datetime(df.Start_Time)"
      ],
      "metadata": {
        "id": "HUUCowDb1hQl"
      },
      "execution_count": 43,
      "outputs": []
    },
    {
      "cell_type": "code",
      "source": [
        "sns.distplot(df.Start_Time.dt.hour, bins=24, kde=False, norm_hist=True)"
      ],
      "metadata": {
        "colab": {
          "base_uri": "https://localhost:8080/",
          "height": 354
        },
        "id": "JMG8GwaO1hOH",
        "outputId": "452651b6-6147-4c71-a057-bedd97031ae2"
      },
      "execution_count": 51,
      "outputs": [
        {
          "output_type": "stream",
          "name": "stderr",
          "text": [
            "/usr/local/lib/python3.7/dist-packages/seaborn/distributions.py:2619: FutureWarning: `distplot` is a deprecated function and will be removed in a future version. Please adapt your code to use either `displot` (a figure-level function with similar flexibility) or `histplot` (an axes-level function for histograms).\n",
            "  warnings.warn(msg, FutureWarning)\n"
          ]
        },
        {
          "output_type": "execute_result",
          "data": {
            "text/plain": [
              "<matplotlib.axes._subplots.AxesSubplot at 0x7f2d3b8bdfd0>"
            ]
          },
          "metadata": {},
          "execution_count": 51
        },
        {
          "output_type": "display_data",
          "data": {
            "text/plain": [
              "<Figure size 432x288 with 1 Axes>"
            ],
            "image/png": "[encoded data removed]"
          },
          "metadata": {}
        }
      ]
    },
    {
      "cell_type": "markdown",
      "source": [
        "- A high percentage of accidents occur between 3pm to 5pm (probably people in a hurry to reach home after work)"
      ],
      "metadata": {
        "id": "EFQ_195W5aVi"
      }
    },
    {
      "cell_type": "code",
      "source": [
        "sns.distplot(df.Start_Time.dt.dayofweek, bins=7, kde=False, norm_hist=True)"
      ],
      "metadata": {
        "colab": {
          "base_uri": "https://localhost:8080/",
          "height": 354
        },
        "id": "Aa7w5WZj3BMx",
        "outputId": "c95246ea-5fe9-4c83-b2c8-d42d3fa87442"
      },
      "execution_count": 53,
      "outputs": [
        {
          "output_type": "stream",
          "name": "stderr",
          "text": [
            "/usr/local/lib/python3.7/dist-packages/seaborn/distributions.py:2619: FutureWarning: `distplot` is a deprecated function and will be removed in a future version. Please adapt your code to use either `displot` (a figure-level function with similar flexibility) or `histplot` (an axes-level function for histograms).\n",
            "  warnings.warn(msg, FutureWarning)\n"
          ]
        },
        {
          "output_type": "execute_result",
          "data": {
            "text/plain": [
              "<matplotlib.axes._subplots.AxesSubplot at 0x7f2d3b71b5d0>"
            ]
          },
          "metadata": {},
          "execution_count": 53
        },
        {
          "output_type": "display_data",
          "data": {
            "text/plain": [
              "<Figure size 432x288 with 1 Axes>"
            ],
            "image/png": "[encoded data removed]"
          },
          "metadata": {}
        }
      ]
    },
    {
      "cell_type": "markdown",
      "source": [
        "- Accidents are evenly distributed on week days and its lower on weekends"
      ],
      "metadata": {
        "id": "w3zB_N-v62rj"
      }
    },
    {
      "cell_type": "code",
      "source": [
        ""
      ],
      "metadata": {
        "id": "ffs7672h3BJ4"
      },
      "execution_count": null,
      "outputs": []
    },
    {
      "cell_type": "code",
      "source": [
        ""
      ],
      "metadata": {
        "id": "M9pJK8L_3BHf"
      },
      "execution_count": null,
      "outputs": []
    },
    {
      "cell_type": "code",
      "source": [
        ""
      ],
      "metadata": {
        "id": "aQn2cpPu3BEu"
      },
      "execution_count": null,
      "outputs": []
    },
    {
      "cell_type": "markdown",
      "source": [
        "## QnA\n",
        "\n",
        "1.   Are there more accidents in warmer or colder ares?\n",
        "2.   Which 5 states have the highest number of accidents?\n",
        "3.   Among the top 100 cities in number of accidents, which states do they belong to most frequently?\n",
        "4.   What time of the day are accidents most frequnt in?\n",
        "5.   Which days of the week have the most accidents?\n",
        "6.   which months have the most accidents?\n",
        "7.   What is the trend of accidents year over year?\n",
        "\n",
        "\n",
        "\n",
        "\n",
        "\n"
      ],
      "metadata": {
        "id": "k-v6dPTtsLBm"
      }
    },
    {
      "cell_type": "code",
      "source": [
        ""
      ],
      "metadata": {
        "id": "fYwgZpr8sPnN"
      },
      "execution_count": 13,
      "outputs": []
    },
    {
      "cell_type": "code",
      "source": [
        ""
      ],
      "metadata": {
        "id": "A37KHPsesPkE"
      },
      "execution_count": 13,
      "outputs": []
    },
    {
      "cell_type": "markdown",
      "source": [
        "##Conclusion"
      ],
      "metadata": {
        "id": "JY1YCIYNsQLG"
      }
    },
    {
      "cell_type": "markdown",
      "source": [
        "- No data availabe for New York city as well as New York state.\n",
        "- The number of accidents per city decreases exponentially\n",
        "- Less than 5% of the cities have more than 1000 yearly accidents.\n",
        "- Over 1100 cities have reported just 1 accident."
      ],
      "metadata": {
        "id": "-aMUGuf13J-u"
      }
    },
    {
      "cell_type": "code",
      "source": [
        ""
      ],
      "metadata": {
        "id": "u6G-Rc53sUGj"
      },
      "execution_count": 13,
      "outputs": []
    },
    {
      "cell_type": "code",
      "execution_count": 13,
      "metadata": {
        "id": "SjXwtESjb1dv"
      },
      "outputs": [],
      "source": [
        ""
      ]
    }
  ]
}