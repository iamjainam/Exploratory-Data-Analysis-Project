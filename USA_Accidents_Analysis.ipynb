{
  "nbformat": 4,
  "nbformat_minor": 0,
  "metadata": {
    "colab": {
      "name": "USA Accidents Analysis",
      "provenance": [],
      "authorship_tag": "ABX9TyNuVk6Z0e316fUIYNyydBzy",
      "include_colab_link": true
    },
    "kernelspec": {
      "name": "python3",
      "display_name": "Python 3"
    },
    "language_info": {
      "name": "python"
    }
  },
  "cells": [
    {
      "cell_type": "markdown",
      "metadata": {
        "id": "view-in-github",
        "colab_type": "text"
      },
      "source": [
        "<a href=\"https://colab.research.google.com/github/jainam142/Exploratory-Data-Analysis-Project/blob/main/USA_Accidents_Analysis.ipynb\" target=\"_parent\"><img src=\"https://colab.research.google.com/assets/colab-badge.svg\" alt=\"Open In Colab\"/></a>"
      ]
    },
    {
      "cell_type": "markdown",
      "source": [
        "#USA Accidents Exploratory Data Analysis"
      ],
      "metadata": {
        "id": "pUlnd6Nnr5zz"
      }
    },
    {
      "cell_type": "markdown",
      "source": [
        "###Importing dataset from Kaggle"
      ],
      "metadata": {
        "id": "rHK3pvqh1XOb"
      }
    },
    {
      "cell_type": "code",
      "source": [
        "pip install opendatasets --upgrade --quiet"
      ],
      "metadata": {
        "id": "xkIbu_x-sCM7"
      },
      "execution_count": 4,
      "outputs": []
    },
    {
      "cell_type": "code",
      "source": [
        "import opendatasets as od\n",
        "download_url = 'https://www.kaggle.com/datasets/sobhanmoosavi/us-accidents'\n",
        "od.download(download_url)"
      ],
      "metadata": {
        "colab": {
          "base_uri": "https://localhost:8080/"
        },
        "id": "NCb_gQ58sBUY",
        "outputId": "dfe0b94a-aed8-4344-b804-01f0d23d8b00"
      },
      "execution_count": 5,
      "outputs": [
        {
          "output_type": "stream",
          "name": "stdout",
          "text": [
            "Please provide your Kaggle credentials to download this dataset. Learn more: http://bit.ly/kaggle-creds\n",
            "Your Kaggle username: jainambshah\n",
            "Your Kaggle Key: ··········\n",
            "Downloading us-accidents.zip to ./us-accidents\n"
          ]
        },
        {
          "output_type": "stream",
          "name": "stderr",
          "text": [
            "100%|██████████| 269M/269M [00:03<00:00, 91.0MB/s]\n"
          ]
        },
        {
          "output_type": "stream",
          "name": "stdout",
          "text": [
            "\n"
          ]
        }
      ]
    },
    {
      "cell_type": "code",
      "source": [
        "data_filename = './us-accidents/US_Accidents_Dec21_updated.csv'"
      ],
      "metadata": {
        "id": "A80q6jkasBNC"
      },
      "execution_count": 6,
      "outputs": []
    },
    {
      "cell_type": "markdown",
      "source": [
        "##Data Praparation and Cleaning\n",
        "\n",
        "\n",
        "1.   load the file using pandas\n",
        "2.   look at some information about the data & columns.\n",
        "3.   fix any missing or incorrect values\n",
        "\n"
      ],
      "metadata": {
        "id": "-BGI_sKusDMd"
      }
    },
    {
      "cell_type": "code",
      "source": [
        "import pandas as pd"
      ],
      "metadata": {
        "id": "WdD2m1J4sBKa"
      },
      "execution_count": 7,
      "outputs": []
    },
    {
      "cell_type": "code",
      "source": [
        "df = pd.read_csv(data_filename)"
      ],
      "metadata": {
        "id": "_gQn46MOsBHu"
      },
      "execution_count": 8,
      "outputs": []
    },
    {
      "cell_type": "code",
      "source": [
        "df"
      ],
      "metadata": {
        "colab": {
          "base_uri": "https://localhost:8080/",
          "height": 939
        },
        "id": "Vh9YZC-3sBFU",
        "outputId": "9556d3f0-ddc3-49ef-e22b-96a2647f6cfa"
      },
      "execution_count": 9,
      "outputs": [
        {
          "output_type": "execute_result",
          "data": {
            "text/plain": [
              "                ID  Severity           Start_Time             End_Time  \\\n",
              "0              A-1         3  2016-02-08 00:37:08  2016-02-08 06:37:08   \n",
              "1              A-2         2  2016-02-08 05:56:20  2016-02-08 11:56:20   \n",
              "2              A-3         2  2016-02-08 06:15:39  2016-02-08 12:15:39   \n",
              "3              A-4         2  2016-02-08 06:51:45  2016-02-08 12:51:45   \n",
              "4              A-5         3  2016-02-08 07:53:43  2016-02-08 13:53:43   \n",
              "...            ...       ...                  ...                  ...   \n",
              "2845337  A-2845338         2  2019-08-23 18:03:25  2019-08-23 18:32:01   \n",
              "2845338  A-2845339         2  2019-08-23 19:11:30  2019-08-23 19:38:23   \n",
              "2845339  A-2845340         2  2019-08-23 19:00:21  2019-08-23 19:28:49   \n",
              "2845340  A-2845341         2  2019-08-23 19:00:21  2019-08-23 19:29:42   \n",
              "2845341  A-2845342         2  2019-08-23 18:52:06  2019-08-23 19:21:31   \n",
              "\n",
              "         Start_Lat   Start_Lng    End_Lat     End_Lng  Distance(mi)  \\\n",
              "0        40.108910  -83.092860  40.112060  -83.031870         3.230   \n",
              "1        39.865420  -84.062800  39.865010  -84.048730         0.747   \n",
              "2        39.102660  -84.524680  39.102090  -84.523960         0.055   \n",
              "3        41.062130  -81.537840  41.062170  -81.535470         0.123   \n",
              "4        39.172393  -84.492792  39.170476  -84.501798         0.500   \n",
              "...            ...         ...        ...         ...           ...   \n",
              "2845337  34.002480 -117.379360  33.998880 -117.370940         0.543   \n",
              "2845338  32.766960 -117.148060  32.765550 -117.153630         0.338   \n",
              "2845339  33.775450 -117.847790  33.777400 -117.857270         0.561   \n",
              "2845340  33.992460 -118.403020  33.983110 -118.395650         0.772   \n",
              "2845341  34.133930 -117.230920  34.137360 -117.239340         0.537   \n",
              "\n",
              "                                               Description  ...  Roundabout  \\\n",
              "0        Between Sawmill Rd/Exit 20 and OH-315/Olentang...  ...       False   \n",
              "1                       At OH-4/OH-235/Exit 41 - Accident.  ...       False   \n",
              "2                         At I-71/US-50/Exit 1 - Accident.  ...       False   \n",
              "3                          At Dart Ave/Exit 21 - Accident.  ...       False   \n",
              "4                       At Mitchell Ave/Exit 6 - Accident.  ...       False   \n",
              "...                                                    ...  ...         ...   \n",
              "2845337                           At Market St - Accident.  ...       False   \n",
              "2845338    At Camino Del Rio/Mission Center Rd - Accident.  ...       False   \n",
              "2845339  At Glassell St/Grand Ave - Accident. in the ri...  ...       False   \n",
              "2845340     At CA-90/Marina Fwy/Jefferson Blvd - Accident.  ...       False   \n",
              "2845341              At Highland Ave/Arden Ave - Accident.  ...       False   \n",
              "\n",
              "        Station   Stop Traffic_Calming Traffic_Signal Turning_Loop  \\\n",
              "0         False  False           False          False        False   \n",
              "1         False  False           False          False        False   \n",
              "2         False  False           False          False        False   \n",
              "3         False  False           False          False        False   \n",
              "4         False  False           False          False        False   \n",
              "...         ...    ...             ...            ...          ...   \n",
              "2845337   False  False           False          False        False   \n",
              "2845338   False  False           False          False        False   \n",
              "2845339   False  False           False          False        False   \n",
              "2845340   False  False           False          False        False   \n",
              "2845341   False  False           False          False        False   \n",
              "\n",
              "        Sunrise_Sunset Civil_Twilight Nautical_Twilight Astronomical_Twilight  \n",
              "0                Night          Night             Night                 Night  \n",
              "1                Night          Night             Night                 Night  \n",
              "2                Night          Night             Night                   Day  \n",
              "3                Night          Night               Day                   Day  \n",
              "4                  Day            Day               Day                   Day  \n",
              "...                ...            ...               ...                   ...  \n",
              "2845337            Day            Day               Day                   Day  \n",
              "2845338            Day            Day               Day                   Day  \n",
              "2845339            Day            Day               Day                   Day  \n",
              "2845340            Day            Day               Day                   Day  \n",
              "2845341            Day            Day               Day                   Day  \n",
              "\n",
              "[2845342 rows x 47 columns]"
            ],
            "text/html": [
              "\n",
              "  <div id=\"df-4fd8c41a-2860-4d22-b41d-949f43ed6aa9\">\n",
              "    <div class=\"colab-df-container\">\n",
              "      <div>\n",
              "<style scoped>\n",
              "    .dataframe tbody tr th:only-of-type {\n",
              "        vertical-align: middle;\n",
              "    }\n",
              "\n",
              "    .dataframe tbody tr th {\n",
              "        vertical-align: top;\n",
              "    }\n",
              "\n",
              "    .dataframe thead th {\n",
              "        text-align: right;\n",
              "    }\n",
              "</style>\n",
              "<table border=\"1\" class=\"dataframe\">\n",
              "  <thead>\n",
              "    <tr style=\"text-align: right;\">\n",
              "      <th></th>\n",
              "      <th>ID</th>\n",
              "      <th>Severity</th>\n",
              "      <th>Start_Time</th>\n",
              "      <th>End_Time</th>\n",
              "      <th>Start_Lat</th>\n",
              "      <th>Start_Lng</th>\n",
              "      <th>End_Lat</th>\n",
              "      <th>End_Lng</th>\n",
              "      <th>Distance(mi)</th>\n",
              "      <th>Description</th>\n",
              "      <th>...</th>\n",
              "      <th>Roundabout</th>\n",
              "      <th>Station</th>\n",
              "      <th>Stop</th>\n",
              "      <th>Traffic_Calming</th>\n",
              "      <th>Traffic_Signal</th>\n",
              "      <th>Turning_Loop</th>\n",
              "      <th>Sunrise_Sunset</th>\n",
              "      <th>Civil_Twilight</th>\n",
              "      <th>Nautical_Twilight</th>\n",
              "      <th>Astronomical_Twilight</th>\n",
              "    </tr>\n",
              "  </thead>\n",
              "  <tbody>\n",
              "    <tr>\n",
              "      <th>0</th>\n",
              "      <td>A-1</td>\n",
              "      <td>3</td>\n",
              "      <td>2016-02-08 00:37:08</td>\n",
              "      <td>2016-02-08 06:37:08</td>\n",
              "      <td>40.108910</td>\n",
              "      <td>-83.092860</td>\n",
              "      <td>40.112060</td>\n",
              "      <td>-83.031870</td>\n",
              "      <td>3.230</td>\n",
              "      <td>Between Sawmill Rd/Exit 20 and OH-315/Olentang...</td>\n",
              "      <td>...</td>\n",
              "      <td>False</td>\n",
              "      <td>False</td>\n",
              "      <td>False</td>\n",
              "      <td>False</td>\n",
              "      <td>False</td>\n",
              "      <td>False</td>\n",
              "      <td>Night</td>\n",
              "      <td>Night</td>\n",
              "      <td>Night</td>\n",
              "      <td>Night</td>\n",
              "    </tr>\n",
              "    <tr>\n",
              "      <th>1</th>\n",
              "      <td>A-2</td>\n",
              "      <td>2</td>\n",
              "      <td>2016-02-08 05:56:20</td>\n",
              "      <td>2016-02-08 11:56:20</td>\n",
              "      <td>39.865420</td>\n",
              "      <td>-84.062800</td>\n",
              "      <td>39.865010</td>\n",
              "      <td>-84.048730</td>\n",
              "      <td>0.747</td>\n",
              "      <td>At OH-4/OH-235/Exit 41 - Accident.</td>\n",
              "      <td>...</td>\n",
              "      <td>False</td>\n",
              "      <td>False</td>\n",
              "      <td>False</td>\n",
              "      <td>False</td>\n",
              "      <td>False</td>\n",
              "      <td>False</td>\n",
              "      <td>Night</td>\n",
              "      <td>Night</td>\n",
              "      <td>Night</td>\n",
              "      <td>Night</td>\n",
              "    </tr>\n",
              "    <tr>\n",
              "      <th>2</th>\n",
              "      <td>A-3</td>\n",
              "      <td>2</td>\n",
              "      <td>2016-02-08 06:15:39</td>\n",
              "      <td>2016-02-08 12:15:39</td>\n",
              "      <td>39.102660</td>\n",
              "      <td>-84.524680</td>\n",
              "      <td>39.102090</td>\n",
              "      <td>-84.523960</td>\n",
              "      <td>0.055</td>\n",
              "      <td>At I-71/US-50/Exit 1 - Accident.</td>\n",
              "      <td>...</td>\n",
              "      <td>False</td>\n",
              "      <td>False</td>\n",
              "      <td>False</td>\n",
              "      <td>False</td>\n",
              "      <td>False</td>\n",
              "      <td>False</td>\n",
              "      <td>Night</td>\n",
              "      <td>Night</td>\n",
              "      <td>Night</td>\n",
              "      <td>Day</td>\n",
              "    </tr>\n",
              "    <tr>\n",
              "      <th>3</th>\n",
              "      <td>A-4</td>\n",
              "      <td>2</td>\n",
              "      <td>2016-02-08 06:51:45</td>\n",
              "      <td>2016-02-08 12:51:45</td>\n",
              "      <td>41.062130</td>\n",
              "      <td>-81.537840</td>\n",
              "      <td>41.062170</td>\n",
              "      <td>-81.535470</td>\n",
              "      <td>0.123</td>\n",
              "      <td>At Dart Ave/Exit 21 - Accident.</td>\n",
              "      <td>...</td>\n",
              "      <td>False</td>\n",
              "      <td>False</td>\n",
              "      <td>False</td>\n",
              "      <td>False</td>\n",
              "      <td>False</td>\n",
              "      <td>False</td>\n",
              "      <td>Night</td>\n",
              "      <td>Night</td>\n",
              "      <td>Day</td>\n",
              "      <td>Day</td>\n",
              "    </tr>\n",
              "    <tr>\n",
              "      <th>4</th>\n",
              "      <td>A-5</td>\n",
              "      <td>3</td>\n",
              "      <td>2016-02-08 07:53:43</td>\n",
              "      <td>2016-02-08 13:53:43</td>\n",
              "      <td>39.172393</td>\n",
              "      <td>-84.492792</td>\n",
              "      <td>39.170476</td>\n",
              "      <td>-84.501798</td>\n",
              "      <td>0.500</td>\n",
              "      <td>At Mitchell Ave/Exit 6 - Accident.</td>\n",
              "      <td>...</td>\n",
              "      <td>False</td>\n",
              "      <td>False</td>\n",
              "      <td>False</td>\n",
              "      <td>False</td>\n",
              "      <td>False</td>\n",
              "      <td>False</td>\n",
              "      <td>Day</td>\n",
              "      <td>Day</td>\n",
              "      <td>Day</td>\n",
              "      <td>Day</td>\n",
              "    </tr>\n",
              "    <tr>\n",
              "      <th>...</th>\n",
              "      <td>...</td>\n",
              "      <td>...</td>\n",
              "      <td>...</td>\n",
              "      <td>...</td>\n",
              "      <td>...</td>\n",
              "      <td>...</td>\n",
              "      <td>...</td>\n",
              "      <td>...</td>\n",
              "      <td>...</td>\n",
              "      <td>...</td>\n",
              "      <td>...</td>\n",
              "      <td>...</td>\n",
              "      <td>...</td>\n",
              "      <td>...</td>\n",
              "      <td>...</td>\n",
              "      <td>...</td>\n",
              "      <td>...</td>\n",
              "      <td>...</td>\n",
              "      <td>...</td>\n",
              "      <td>...</td>\n",
              "      <td>...</td>\n",
              "    </tr>\n",
              "    <tr>\n",
              "      <th>2845337</th>\n",
              "      <td>A-2845338</td>\n",
              "      <td>2</td>\n",
              "      <td>2019-08-23 18:03:25</td>\n",
              "      <td>2019-08-23 18:32:01</td>\n",
              "      <td>34.002480</td>\n",
              "      <td>-117.379360</td>\n",
              "      <td>33.998880</td>\n",
              "      <td>-117.370940</td>\n",
              "      <td>0.543</td>\n",
              "      <td>At Market St - Accident.</td>\n",
              "      <td>...</td>\n",
              "      <td>False</td>\n",
              "      <td>False</td>\n",
              "      <td>False</td>\n",
              "      <td>False</td>\n",
              "      <td>False</td>\n",
              "      <td>False</td>\n",
              "      <td>Day</td>\n",
              "      <td>Day</td>\n",
              "      <td>Day</td>\n",
              "      <td>Day</td>\n",
              "    </tr>\n",
              "    <tr>\n",
              "      <th>2845338</th>\n",
              "      <td>A-2845339</td>\n",
              "      <td>2</td>\n",
              "      <td>2019-08-23 19:11:30</td>\n",
              "      <td>2019-08-23 19:38:23</td>\n",
              "      <td>32.766960</td>\n",
              "      <td>-117.148060</td>\n",
              "      <td>32.765550</td>\n",
              "      <td>-117.153630</td>\n",
              "      <td>0.338</td>\n",
              "      <td>At Camino Del Rio/Mission Center Rd - Accident.</td>\n",
              "      <td>...</td>\n",
              "      <td>False</td>\n",
              "      <td>False</td>\n",
              "      <td>False</td>\n",
              "      <td>False</td>\n",
              "      <td>False</td>\n",
              "      <td>False</td>\n",
              "      <td>Day</td>\n",
              "      <td>Day</td>\n",
              "      <td>Day</td>\n",
              "      <td>Day</td>\n",
              "    </tr>\n",
              "    <tr>\n",
              "      <th>2845339</th>\n",
              "      <td>A-2845340</td>\n",
              "      <td>2</td>\n",
              "      <td>2019-08-23 19:00:21</td>\n",
              "      <td>2019-08-23 19:28:49</td>\n",
              "      <td>33.775450</td>\n",
              "      <td>-117.847790</td>\n",
              "      <td>33.777400</td>\n",
              "      <td>-117.857270</td>\n",
              "      <td>0.561</td>\n",
              "      <td>At Glassell St/Grand Ave - Accident. in the ri...</td>\n",
              "      <td>...</td>\n",
              "      <td>False</td>\n",
              "      <td>False</td>\n",
              "      <td>False</td>\n",
              "      <td>False</td>\n",
              "      <td>False</td>\n",
              "      <td>False</td>\n",
              "      <td>Day</td>\n",
              "      <td>Day</td>\n",
              "      <td>Day</td>\n",
              "      <td>Day</td>\n",
              "    </tr>\n",
              "    <tr>\n",
              "      <th>2845340</th>\n",
              "      <td>A-2845341</td>\n",
              "      <td>2</td>\n",
              "      <td>2019-08-23 19:00:21</td>\n",
              "      <td>2019-08-23 19:29:42</td>\n",
              "      <td>33.992460</td>\n",
              "      <td>-118.403020</td>\n",
              "      <td>33.983110</td>\n",
              "      <td>-118.395650</td>\n",
              "      <td>0.772</td>\n",
              "      <td>At CA-90/Marina Fwy/Jefferson Blvd - Accident.</td>\n",
              "      <td>...</td>\n",
              "      <td>False</td>\n",
              "      <td>False</td>\n",
              "      <td>False</td>\n",
              "      <td>False</td>\n",
              "      <td>False</td>\n",
              "      <td>False</td>\n",
              "      <td>Day</td>\n",
              "      <td>Day</td>\n",
              "      <td>Day</td>\n",
              "      <td>Day</td>\n",
              "    </tr>\n",
              "    <tr>\n",
              "      <th>2845341</th>\n",
              "      <td>A-2845342</td>\n",
              "      <td>2</td>\n",
              "      <td>2019-08-23 18:52:06</td>\n",
              "      <td>2019-08-23 19:21:31</td>\n",
              "      <td>34.133930</td>\n",
              "      <td>-117.230920</td>\n",
              "      <td>34.137360</td>\n",
              "      <td>-117.239340</td>\n",
              "      <td>0.537</td>\n",
              "      <td>At Highland Ave/Arden Ave - Accident.</td>\n",
              "      <td>...</td>\n",
              "      <td>False</td>\n",
              "      <td>False</td>\n",
              "      <td>False</td>\n",
              "      <td>False</td>\n",
              "      <td>False</td>\n",
              "      <td>False</td>\n",
              "      <td>Day</td>\n",
              "      <td>Day</td>\n",
              "      <td>Day</td>\n",
              "      <td>Day</td>\n",
              "    </tr>\n",
              "  </tbody>\n",
              "</table>\n",
              "<p>2845342 rows × 47 columns</p>\n",
              "</div>\n",
              "      <button class=\"colab-df-convert\" onclick=\"convertToInteractive('df-4fd8c41a-2860-4d22-b41d-949f43ed6aa9')\"\n",
              "              title=\"Convert this dataframe to an interactive table.\"\n",
              "              style=\"display:none;\">\n",
              "        \n",
              "  <svg xmlns=\"http://www.w3.org/2000/svg\" height=\"24px\"viewBox=\"0 0 24 24\"\n",
              "       width=\"24px\">\n",
              "    <path d=\"M0 0h24v24H0V0z\" fill=\"none\"/>\n",
              "    <path d=\"M18.56 5.44l.94 2.06.94-2.06 2.06-.94-2.06-.94-.94-2.06-.94 2.06-2.06.94zm-11 1L8.5 8.5l.94-2.06 2.06-.94-2.06-.94L8.5 2.5l-.94 2.06-2.06.94zm10 10l.94 2.06.94-2.06 2.06-.94-2.06-.94-.94-2.06-.94 2.06-2.06.94z\"/><path d=\"M17.41 7.96l-1.37-1.37c-.4-.4-.92-.59-1.43-.59-.52 0-1.04.2-1.43.59L10.3 9.45l-7.72 7.72c-.78.78-.78 2.05 0 2.83L4 21.41c.39.39.9.59 1.41.59.51 0 1.02-.2 1.41-.59l7.78-7.78 2.81-2.81c.8-.78.8-2.07 0-2.86zM5.41 20L4 18.59l7.72-7.72 1.47 1.35L5.41 20z\"/>\n",
              "  </svg>\n",
              "      </button>\n",
              "      \n",
              "  <style>\n",
              "    .colab-df-container {\n",
              "      display:flex;\n",
              "      flex-wrap:wrap;\n",
              "      gap: 12px;\n",
              "    }\n",
              "\n",
              "    .colab-df-convert {\n",
              "      background-color: #E8F0FE;\n",
              "      border: none;\n",
              "      border-radius: 50%;\n",
              "      cursor: pointer;\n",
              "      display: none;\n",
              "      fill: #1967D2;\n",
              "      height: 32px;\n",
              "      padding: 0 0 0 0;\n",
              "      width: 32px;\n",
              "    }\n",
              "\n",
              "    .colab-df-convert:hover {\n",
              "      background-color: #E2EBFA;\n",
              "      box-shadow: 0px 1px 2px rgba(60, 64, 67, 0.3), 0px 1px 3px 1px rgba(60, 64, 67, 0.15);\n",
              "      fill: #174EA6;\n",
              "    }\n",
              "\n",
              "    [theme=dark] .colab-df-convert {\n",
              "      background-color: #3B4455;\n",
              "      fill: #D2E3FC;\n",
              "    }\n",
              "\n",
              "    [theme=dark] .colab-df-convert:hover {\n",
              "      background-color: #434B5C;\n",
              "      box-shadow: 0px 1px 3px 1px rgba(0, 0, 0, 0.15);\n",
              "      filter: drop-shadow(0px 1px 2px rgba(0, 0, 0, 0.3));\n",
              "      fill: #FFFFFF;\n",
              "    }\n",
              "  </style>\n",
              "\n",
              "      <script>\n",
              "        const buttonEl =\n",
              "          document.querySelector('#df-4fd8c41a-2860-4d22-b41d-949f43ed6aa9 button.colab-df-convert');\n",
              "        buttonEl.style.display =\n",
              "          google.colab.kernel.accessAllowed ? 'block' : 'none';\n",
              "\n",
              "        async function convertToInteractive(key) {\n",
              "          const element = document.querySelector('#df-4fd8c41a-2860-4d22-b41d-949f43ed6aa9');\n",
              "          const dataTable =\n",
              "            await google.colab.kernel.invokeFunction('convertToInteractive',\n",
              "                                                     [key], {});\n",
              "          if (!dataTable) return;\n",
              "\n",
              "          const docLinkHtml = 'Like what you see? Visit the ' +\n",
              "            '<a target=\"_blank\" href=https://colab.research.google.com/notebooks/data_table.ipynb>data table notebook</a>'\n",
              "            + ' to learn more about interactive tables.';\n",
              "          element.innerHTML = '';\n",
              "          dataTable['output_type'] = 'display_data';\n",
              "          await google.colab.output.renderOutput(dataTable, element);\n",
              "          const docLink = document.createElement('div');\n",
              "          docLink.innerHTML = docLinkHtml;\n",
              "          element.appendChild(docLink);\n",
              "        }\n",
              "      </script>\n",
              "    </div>\n",
              "  </div>\n",
              "  "
            ]
          },
          "metadata": {},
          "execution_count": 9
        }
      ]
    },
    {
      "cell_type": "code",
      "source": [
        "df.info()"
      ],
      "metadata": {
        "colab": {
          "base_uri": "https://localhost:8080/"
        },
        "id": "BFcfJO9lsKKN",
        "outputId": "38cecf89-3eb2-4cf5-84d3-2fba0417e8e4"
      },
      "execution_count": 10,
      "outputs": [
        {
          "output_type": "stream",
          "name": "stdout",
          "text": [
            "<class 'pandas.core.frame.DataFrame'>\n",
            "RangeIndex: 2845342 entries, 0 to 2845341\n",
            "Data columns (total 47 columns):\n",
            " #   Column                 Dtype  \n",
            "---  ------                 -----  \n",
            " 0   ID                     object \n",
            " 1   Severity               int64  \n",
            " 2   Start_Time             object \n",
            " 3   End_Time               object \n",
            " 4   Start_Lat              float64\n",
            " 5   Start_Lng              float64\n",
            " 6   End_Lat                float64\n",
            " 7   End_Lng                float64\n",
            " 8   Distance(mi)           float64\n",
            " 9   Description            object \n",
            " 10  Number                 float64\n",
            " 11  Street                 object \n",
            " 12  Side                   object \n",
            " 13  City                   object \n",
            " 14  County                 object \n",
            " 15  State                  object \n",
            " 16  Zipcode                object \n",
            " 17  Country                object \n",
            " 18  Timezone               object \n",
            " 19  Airport_Code           object \n",
            " 20  Weather_Timestamp      object \n",
            " 21  Temperature(F)         float64\n",
            " 22  Wind_Chill(F)          float64\n",
            " 23  Humidity(%)            float64\n",
            " 24  Pressure(in)           float64\n",
            " 25  Visibility(mi)         float64\n",
            " 26  Wind_Direction         object \n",
            " 27  Wind_Speed(mph)        float64\n",
            " 28  Precipitation(in)      float64\n",
            " 29  Weather_Condition      object \n",
            " 30  Amenity                bool   \n",
            " 31  Bump                   bool   \n",
            " 32  Crossing               bool   \n",
            " 33  Give_Way               bool   \n",
            " 34  Junction               bool   \n",
            " 35  No_Exit                bool   \n",
            " 36  Railway                bool   \n",
            " 37  Roundabout             bool   \n",
            " 38  Station                bool   \n",
            " 39  Stop                   bool   \n",
            " 40  Traffic_Calming        bool   \n",
            " 41  Traffic_Signal         bool   \n",
            " 42  Turning_Loop           bool   \n",
            " 43  Sunrise_Sunset         object \n",
            " 44  Civil_Twilight         object \n",
            " 45  Nautical_Twilight      object \n",
            " 46  Astronomical_Twilight  object \n",
            "dtypes: bool(13), float64(13), int64(1), object(20)\n",
            "memory usage: 773.4+ MB\n"
          ]
        }
      ]
    },
    {
      "cell_type": "code",
      "source": [
        "df.describe()"
      ],
      "metadata": {
        "colab": {
          "base_uri": "https://localhost:8080/",
          "height": 364
        },
        "id": "Sqf0TNF5sKFI",
        "outputId": "297c71da-b23c-4175-c09f-6404f7b36da7"
      },
      "execution_count": 11,
      "outputs": [
        {
          "output_type": "execute_result",
          "data": {
            "text/plain": [
              "           Severity     Start_Lat     Start_Lng       End_Lat       End_Lng  \\\n",
              "count  2.845342e+06  2.845342e+06  2.845342e+06  2.845342e+06  2.845342e+06   \n",
              "mean   2.137572e+00  3.624520e+01 -9.711463e+01  3.624532e+01 -9.711439e+01   \n",
              "std    4.787216e-01  5.363797e+00  1.831782e+01  5.363873e+00  1.831763e+01   \n",
              "min    1.000000e+00  2.456603e+01 -1.245481e+02  2.456601e+01 -1.245457e+02   \n",
              "25%    2.000000e+00  3.344517e+01 -1.180331e+02  3.344628e+01 -1.180333e+02   \n",
              "50%    2.000000e+00  3.609861e+01 -9.241808e+01  3.609799e+01 -9.241772e+01   \n",
              "75%    2.000000e+00  4.016024e+01 -8.037243e+01  4.016105e+01 -8.037338e+01   \n",
              "max    4.000000e+00  4.900058e+01 -6.711317e+01  4.907500e+01 -6.710924e+01   \n",
              "\n",
              "       Distance(mi)        Number  Temperature(F)  Wind_Chill(F)  \\\n",
              "count  2.845342e+06  1.101431e+06    2.776068e+06   2.375699e+06   \n",
              "mean   7.026779e-01  8.089408e+03    6.179356e+01   5.965823e+01   \n",
              "std    1.560361e+00  1.836009e+04    1.862263e+01   2.116097e+01   \n",
              "min    0.000000e+00  0.000000e+00   -8.900000e+01  -8.900000e+01   \n",
              "25%    5.200000e-02  1.270000e+03    5.000000e+01   4.600000e+01   \n",
              "50%    2.440000e-01  4.007000e+03    6.400000e+01   6.300000e+01   \n",
              "75%    7.640000e-01  9.567000e+03    7.600000e+01   7.600000e+01   \n",
              "max    1.551860e+02  9.999997e+06    1.960000e+02   1.960000e+02   \n",
              "\n",
              "        Humidity(%)  Pressure(in)  Visibility(mi)  Wind_Speed(mph)  \\\n",
              "count  2.772250e+06  2.786142e+06    2.774796e+06     2.687398e+06   \n",
              "mean   6.436545e+01  2.947234e+01    9.099391e+00     7.395044e+00   \n",
              "std    2.287457e+01  1.045286e+00    2.717546e+00     5.527454e+00   \n",
              "min    1.000000e+00  0.000000e+00    0.000000e+00     0.000000e+00   \n",
              "25%    4.800000e+01  2.931000e+01    1.000000e+01     3.500000e+00   \n",
              "50%    6.700000e+01  2.982000e+01    1.000000e+01     7.000000e+00   \n",
              "75%    8.300000e+01  3.001000e+01    1.000000e+01     1.000000e+01   \n",
              "max    1.000000e+02  5.890000e+01    1.400000e+02     1.087000e+03   \n",
              "\n",
              "       Precipitation(in)  \n",
              "count       2.295884e+06  \n",
              "mean        7.016940e-03  \n",
              "std         9.348831e-02  \n",
              "min         0.000000e+00  \n",
              "25%         0.000000e+00  \n",
              "50%         0.000000e+00  \n",
              "75%         0.000000e+00  \n",
              "max         2.400000e+01  "
            ],
            "text/html": [
              "\n",
              "  <div id=\"df-b27f7c6b-a5c9-462d-b9f6-8c5f442169ae\">\n",
              "    <div class=\"colab-df-container\">\n",
              "      <div>\n",
              "<style scoped>\n",
              "    .dataframe tbody tr th:only-of-type {\n",
              "        vertical-align: middle;\n",
              "    }\n",
              "\n",
              "    .dataframe tbody tr th {\n",
              "        vertical-align: top;\n",
              "    }\n",
              "\n",
              "    .dataframe thead th {\n",
              "        text-align: right;\n",
              "    }\n",
              "</style>\n",
              "<table border=\"1\" class=\"dataframe\">\n",
              "  <thead>\n",
              "    <tr style=\"text-align: right;\">\n",
              "      <th></th>\n",
              "      <th>Severity</th>\n",
              "      <th>Start_Lat</th>\n",
              "      <th>Start_Lng</th>\n",
              "      <th>End_Lat</th>\n",
              "      <th>End_Lng</th>\n",
              "      <th>Distance(mi)</th>\n",
              "      <th>Number</th>\n",
              "      <th>Temperature(F)</th>\n",
              "      <th>Wind_Chill(F)</th>\n",
              "      <th>Humidity(%)</th>\n",
              "      <th>Pressure(in)</th>\n",
              "      <th>Visibility(mi)</th>\n",
              "      <th>Wind_Speed(mph)</th>\n",
              "      <th>Precipitation(in)</th>\n",
              "    </tr>\n",
              "  </thead>\n",
              "  <tbody>\n",
              "    <tr>\n",
              "      <th>count</th>\n",
              "      <td>2.845342e+06</td>\n",
              "      <td>2.845342e+06</td>\n",
              "      <td>2.845342e+06</td>\n",
              "      <td>2.845342e+06</td>\n",
              "      <td>2.845342e+06</td>\n",
              "      <td>2.845342e+06</td>\n",
              "      <td>1.101431e+06</td>\n",
              "      <td>2.776068e+06</td>\n",
              "      <td>2.375699e+06</td>\n",
              "      <td>2.772250e+06</td>\n",
              "      <td>2.786142e+06</td>\n",
              "      <td>2.774796e+06</td>\n",
              "      <td>2.687398e+06</td>\n",
              "      <td>2.295884e+06</td>\n",
              "    </tr>\n",
              "    <tr>\n",
              "      <th>mean</th>\n",
              "      <td>2.137572e+00</td>\n",
              "      <td>3.624520e+01</td>\n",
              "      <td>-9.711463e+01</td>\n",
              "      <td>3.624532e+01</td>\n",
              "      <td>-9.711439e+01</td>\n",
              "      <td>7.026779e-01</td>\n",
              "      <td>8.089408e+03</td>\n",
              "      <td>6.179356e+01</td>\n",
              "      <td>5.965823e+01</td>\n",
              "      <td>6.436545e+01</td>\n",
              "      <td>2.947234e+01</td>\n",
              "      <td>9.099391e+00</td>\n",
              "      <td>7.395044e+00</td>\n",
              "      <td>7.016940e-03</td>\n",
              "    </tr>\n",
              "    <tr>\n",
              "      <th>std</th>\n",
              "      <td>4.787216e-01</td>\n",
              "      <td>5.363797e+00</td>\n",
              "      <td>1.831782e+01</td>\n",
              "      <td>5.363873e+00</td>\n",
              "      <td>1.831763e+01</td>\n",
              "      <td>1.560361e+00</td>\n",
              "      <td>1.836009e+04</td>\n",
              "      <td>1.862263e+01</td>\n",
              "      <td>2.116097e+01</td>\n",
              "      <td>2.287457e+01</td>\n",
              "      <td>1.045286e+00</td>\n",
              "      <td>2.717546e+00</td>\n",
              "      <td>5.527454e+00</td>\n",
              "      <td>9.348831e-02</td>\n",
              "    </tr>\n",
              "    <tr>\n",
              "      <th>min</th>\n",
              "      <td>1.000000e+00</td>\n",
              "      <td>2.456603e+01</td>\n",
              "      <td>-1.245481e+02</td>\n",
              "      <td>2.456601e+01</td>\n",
              "      <td>-1.245457e+02</td>\n",
              "      <td>0.000000e+00</td>\n",
              "      <td>0.000000e+00</td>\n",
              "      <td>-8.900000e+01</td>\n",
              "      <td>-8.900000e+01</td>\n",
              "      <td>1.000000e+00</td>\n",
              "      <td>0.000000e+00</td>\n",
              "      <td>0.000000e+00</td>\n",
              "      <td>0.000000e+00</td>\n",
              "      <td>0.000000e+00</td>\n",
              "    </tr>\n",
              "    <tr>\n",
              "      <th>25%</th>\n",
              "      <td>2.000000e+00</td>\n",
              "      <td>3.344517e+01</td>\n",
              "      <td>-1.180331e+02</td>\n",
              "      <td>3.344628e+01</td>\n",
              "      <td>-1.180333e+02</td>\n",
              "      <td>5.200000e-02</td>\n",
              "      <td>1.270000e+03</td>\n",
              "      <td>5.000000e+01</td>\n",
              "      <td>4.600000e+01</td>\n",
              "      <td>4.800000e+01</td>\n",
              "      <td>2.931000e+01</td>\n",
              "      <td>1.000000e+01</td>\n",
              "      <td>3.500000e+00</td>\n",
              "      <td>0.000000e+00</td>\n",
              "    </tr>\n",
              "    <tr>\n",
              "      <th>50%</th>\n",
              "      <td>2.000000e+00</td>\n",
              "      <td>3.609861e+01</td>\n",
              "      <td>-9.241808e+01</td>\n",
              "      <td>3.609799e+01</td>\n",
              "      <td>-9.241772e+01</td>\n",
              "      <td>2.440000e-01</td>\n",
              "      <td>4.007000e+03</td>\n",
              "      <td>6.400000e+01</td>\n",
              "      <td>6.300000e+01</td>\n",
              "      <td>6.700000e+01</td>\n",
              "      <td>2.982000e+01</td>\n",
              "      <td>1.000000e+01</td>\n",
              "      <td>7.000000e+00</td>\n",
              "      <td>0.000000e+00</td>\n",
              "    </tr>\n",
              "    <tr>\n",
              "      <th>75%</th>\n",
              "      <td>2.000000e+00</td>\n",
              "      <td>4.016024e+01</td>\n",
              "      <td>-8.037243e+01</td>\n",
              "      <td>4.016105e+01</td>\n",
              "      <td>-8.037338e+01</td>\n",
              "      <td>7.640000e-01</td>\n",
              "      <td>9.567000e+03</td>\n",
              "      <td>7.600000e+01</td>\n",
              "      <td>7.600000e+01</td>\n",
              "      <td>8.300000e+01</td>\n",
              "      <td>3.001000e+01</td>\n",
              "      <td>1.000000e+01</td>\n",
              "      <td>1.000000e+01</td>\n",
              "      <td>0.000000e+00</td>\n",
              "    </tr>\n",
              "    <tr>\n",
              "      <th>max</th>\n",
              "      <td>4.000000e+00</td>\n",
              "      <td>4.900058e+01</td>\n",
              "      <td>-6.711317e+01</td>\n",
              "      <td>4.907500e+01</td>\n",
              "      <td>-6.710924e+01</td>\n",
              "      <td>1.551860e+02</td>\n",
              "      <td>9.999997e+06</td>\n",
              "      <td>1.960000e+02</td>\n",
              "      <td>1.960000e+02</td>\n",
              "      <td>1.000000e+02</td>\n",
              "      <td>5.890000e+01</td>\n",
              "      <td>1.400000e+02</td>\n",
              "      <td>1.087000e+03</td>\n",
              "      <td>2.400000e+01</td>\n",
              "    </tr>\n",
              "  </tbody>\n",
              "</table>\n",
              "</div>\n",
              "      <button class=\"colab-df-convert\" onclick=\"convertToInteractive('df-b27f7c6b-a5c9-462d-b9f6-8c5f442169ae')\"\n",
              "              title=\"Convert this dataframe to an interactive table.\"\n",
              "              style=\"display:none;\">\n",
              "        \n",
              "  <svg xmlns=\"http://www.w3.org/2000/svg\" height=\"24px\"viewBox=\"0 0 24 24\"\n",
              "       width=\"24px\">\n",
              "    <path d=\"M0 0h24v24H0V0z\" fill=\"none\"/>\n",
              "    <path d=\"M18.56 5.44l.94 2.06.94-2.06 2.06-.94-2.06-.94-.94-2.06-.94 2.06-2.06.94zm-11 1L8.5 8.5l.94-2.06 2.06-.94-2.06-.94L8.5 2.5l-.94 2.06-2.06.94zm10 10l.94 2.06.94-2.06 2.06-.94-2.06-.94-.94-2.06-.94 2.06-2.06.94z\"/><path d=\"M17.41 7.96l-1.37-1.37c-.4-.4-.92-.59-1.43-.59-.52 0-1.04.2-1.43.59L10.3 9.45l-7.72 7.72c-.78.78-.78 2.05 0 2.83L4 21.41c.39.39.9.59 1.41.59.51 0 1.02-.2 1.41-.59l7.78-7.78 2.81-2.81c.8-.78.8-2.07 0-2.86zM5.41 20L4 18.59l7.72-7.72 1.47 1.35L5.41 20z\"/>\n",
              "  </svg>\n",
              "      </button>\n",
              "      \n",
              "  <style>\n",
              "    .colab-df-container {\n",
              "      display:flex;\n",
              "      flex-wrap:wrap;\n",
              "      gap: 12px;\n",
              "    }\n",
              "\n",
              "    .colab-df-convert {\n",
              "      background-color: #E8F0FE;\n",
              "      border: none;\n",
              "      border-radius: 50%;\n",
              "      cursor: pointer;\n",
              "      display: none;\n",
              "      fill: #1967D2;\n",
              "      height: 32px;\n",
              "      padding: 0 0 0 0;\n",
              "      width: 32px;\n",
              "    }\n",
              "\n",
              "    .colab-df-convert:hover {\n",
              "      background-color: #E2EBFA;\n",
              "      box-shadow: 0px 1px 2px rgba(60, 64, 67, 0.3), 0px 1px 3px 1px rgba(60, 64, 67, 0.15);\n",
              "      fill: #174EA6;\n",
              "    }\n",
              "\n",
              "    [theme=dark] .colab-df-convert {\n",
              "      background-color: #3B4455;\n",
              "      fill: #D2E3FC;\n",
              "    }\n",
              "\n",
              "    [theme=dark] .colab-df-convert:hover {\n",
              "      background-color: #434B5C;\n",
              "      box-shadow: 0px 1px 3px 1px rgba(0, 0, 0, 0.15);\n",
              "      filter: drop-shadow(0px 1px 2px rgba(0, 0, 0, 0.3));\n",
              "      fill: #FFFFFF;\n",
              "    }\n",
              "  </style>\n",
              "\n",
              "      <script>\n",
              "        const buttonEl =\n",
              "          document.querySelector('#df-b27f7c6b-a5c9-462d-b9f6-8c5f442169ae button.colab-df-convert');\n",
              "        buttonEl.style.display =\n",
              "          google.colab.kernel.accessAllowed ? 'block' : 'none';\n",
              "\n",
              "        async function convertToInteractive(key) {\n",
              "          const element = document.querySelector('#df-b27f7c6b-a5c9-462d-b9f6-8c5f442169ae');\n",
              "          const dataTable =\n",
              "            await google.colab.kernel.invokeFunction('convertToInteractive',\n",
              "                                                     [key], {});\n",
              "          if (!dataTable) return;\n",
              "\n",
              "          const docLinkHtml = 'Like what you see? Visit the ' +\n",
              "            '<a target=\"_blank\" href=https://colab.research.google.com/notebooks/data_table.ipynb>data table notebook</a>'\n",
              "            + ' to learn more about interactive tables.';\n",
              "          element.innerHTML = '';\n",
              "          dataTable['output_type'] = 'display_data';\n",
              "          await google.colab.output.renderOutput(dataTable, element);\n",
              "          const docLink = document.createElement('div');\n",
              "          docLink.innerHTML = docLinkHtml;\n",
              "          element.appendChild(docLink);\n",
              "        }\n",
              "      </script>\n",
              "    </div>\n",
              "  </div>\n",
              "  "
            ]
          },
          "metadata": {},
          "execution_count": 11
        }
      ]
    },
    {
      "cell_type": "code",
      "source": [
        "numerics = ['int16', 'int32', 'int64', 'float16', 'float32', 'float64']\n",
        "numerics_df = df.select_dtypes(include=numerics)\n",
        "len(numerics_df.columns)"
      ],
      "metadata": {
        "colab": {
          "base_uri": "https://localhost:8080/"
        },
        "id": "WZZQ8sFQyf90",
        "outputId": "464cb409-da36-4f86-fed6-c3a42653ed44"
      },
      "execution_count": 12,
      "outputs": [
        {
          "output_type": "execute_result",
          "data": {
            "text/plain": [
              "14"
            ]
          },
          "metadata": {},
          "execution_count": 12
        }
      ]
    },
    {
      "cell_type": "markdown",
      "source": [
        "Percentage of missing values per column\n"
      ],
      "metadata": {
        "id": "kpN33euizq36"
      }
    },
    {
      "cell_type": "code",
      "source": [
        "df.isna().sum().sort_values(ascending=False)"
      ],
      "metadata": {
        "colab": {
          "base_uri": "https://localhost:8080/"
        },
        "id": "IdZ5BQPqyf0I",
        "outputId": "fe03f1a1-ca05-4112-9651-001c3322877a"
      },
      "execution_count": 13,
      "outputs": [
        {
          "output_type": "execute_result",
          "data": {
            "text/plain": [
              "Number                   1743911\n",
              "Precipitation(in)         549458\n",
              "Wind_Chill(F)             469643\n",
              "Wind_Speed(mph)           157944\n",
              "Wind_Direction             73775\n",
              "Humidity(%)                73092\n",
              "Weather_Condition          70636\n",
              "Visibility(mi)             70546\n",
              "Temperature(F)             69274\n",
              "Pressure(in)               59200\n",
              "Weather_Timestamp          50736\n",
              "Airport_Code                9549\n",
              "Timezone                    3659\n",
              "Nautical_Twilight           2867\n",
              "Civil_Twilight              2867\n",
              "Sunrise_Sunset              2867\n",
              "Astronomical_Twilight       2867\n",
              "Zipcode                     1319\n",
              "City                         137\n",
              "Street                         2\n",
              "Country                        0\n",
              "Junction                       0\n",
              "Start_Time                     0\n",
              "End_Time                       0\n",
              "Start_Lat                      0\n",
              "Turning_Loop                   0\n",
              "Traffic_Signal                 0\n",
              "Traffic_Calming                0\n",
              "Stop                           0\n",
              "Station                        0\n",
              "Roundabout                     0\n",
              "Railway                        0\n",
              "No_Exit                        0\n",
              "Crossing                       0\n",
              "Give_Way                       0\n",
              "Bump                           0\n",
              "Amenity                        0\n",
              "Start_Lng                      0\n",
              "End_Lat                        0\n",
              "End_Lng                        0\n",
              "Distance(mi)                   0\n",
              "Description                    0\n",
              "Severity                       0\n",
              "Side                           0\n",
              "County                         0\n",
              "State                          0\n",
              "ID                             0\n",
              "dtype: int64"
            ]
          },
          "metadata": {},
          "execution_count": 13
        }
      ]
    },
    {
      "cell_type": "markdown",
      "source": [
        "##Exploratory Analaysis and Visualization for different columns"
      ],
      "metadata": {
        "id": "lWrb4rSD1N60"
      }
    },
    {
      "cell_type": "code",
      "source": [
        "df.columns"
      ],
      "metadata": {
        "colab": {
          "base_uri": "https://localhost:8080/"
        },
        "id": "nhfz1lRY1Nvm",
        "outputId": "adeb6b5e-4abc-42eb-bd18-939149cef1c2"
      },
      "execution_count": 14,
      "outputs": [
        {
          "output_type": "execute_result",
          "data": {
            "text/plain": [
              "Index(['ID', 'Severity', 'Start_Time', 'End_Time', 'Start_Lat', 'Start_Lng',\n",
              "       'End_Lat', 'End_Lng', 'Distance(mi)', 'Description', 'Number', 'Street',\n",
              "       'Side', 'City', 'County', 'State', 'Zipcode', 'Country', 'Timezone',\n",
              "       'Airport_Code', 'Weather_Timestamp', 'Temperature(F)', 'Wind_Chill(F)',\n",
              "       'Humidity(%)', 'Pressure(in)', 'Visibility(mi)', 'Wind_Direction',\n",
              "       'Wind_Speed(mph)', 'Precipitation(in)', 'Weather_Condition', 'Amenity',\n",
              "       'Bump', 'Crossing', 'Give_Way', 'Junction', 'No_Exit', 'Railway',\n",
              "       'Roundabout', 'Station', 'Stop', 'Traffic_Calming', 'Traffic_Signal',\n",
              "       'Turning_Loop', 'Sunrise_Sunset', 'Civil_Twilight', 'Nautical_Twilight',\n",
              "       'Astronomical_Twilight'],\n",
              "      dtype='object')"
            ]
          },
          "metadata": {},
          "execution_count": 14
        }
      ]
    },
    {
      "cell_type": "markdown",
      "source": [
        "###1. City"
      ],
      "metadata": {
        "id": "PjsIC3TB1gu5"
      }
    },
    {
      "cell_type": "code",
      "source": [
        "cities = df.City.unique()\n",
        "len(cities)"
      ],
      "metadata": {
        "colab": {
          "base_uri": "https://localhost:8080/"
        },
        "id": "eUh16XsEyfxS",
        "outputId": "1a6912e5-c436-4eba-e576-81d2abde4a3c"
      },
      "execution_count": 15,
      "outputs": [
        {
          "output_type": "execute_result",
          "data": {
            "text/plain": [
              "11682"
            ]
          },
          "metadata": {},
          "execution_count": 15
        }
      ]
    },
    {
      "cell_type": "code",
      "source": [
        "cities_by_accident = df.City.value_counts()\n",
        "cities_by_accident"
      ],
      "metadata": {
        "colab": {
          "base_uri": "https://localhost:8080/"
        },
        "id": "VIO9NGtayfuk",
        "outputId": "ac0b2630-9b4b-4abd-a8ec-50fed3229568"
      },
      "execution_count": 16,
      "outputs": [
        {
          "output_type": "execute_result",
          "data": {
            "text/plain": [
              "Miami                           106966\n",
              "Los Angeles                      68956\n",
              "Orlando                          54691\n",
              "Dallas                           41979\n",
              "Houston                          39448\n",
              "                                 ...  \n",
              "Ridgedale                            1\n",
              "Sekiu                                1\n",
              "Wooldridge                           1\n",
              "Bullock                              1\n",
              "American Fork-Pleasant Grove         1\n",
              "Name: City, Length: 11681, dtype: int64"
            ]
          },
          "metadata": {},
          "execution_count": 16
        }
      ]
    },
    {
      "cell_type": "code",
      "source": [
        "'NY' in df.State"
      ],
      "metadata": {
        "colab": {
          "base_uri": "https://localhost:8080/"
        },
        "id": "HorK0u1djpio",
        "outputId": "db605867-c7e6-4332-f3b4-1ccc99994336"
      },
      "execution_count": 17,
      "outputs": [
        {
          "output_type": "execute_result",
          "data": {
            "text/plain": [
              "False"
            ]
          },
          "metadata": {},
          "execution_count": 17
        }
      ]
    },
    {
      "cell_type": "code",
      "source": [
        "cities_by_accident[:20].plot(kind='barh')"
      ],
      "metadata": {
        "colab": {
          "base_uri": "https://localhost:8080/",
          "height": 0
        },
        "id": "Ih5-kVNTjpA0",
        "outputId": "485c2cf4-195b-4987-e2b1-6ea86711032e"
      },
      "execution_count": 18,
      "outputs": [
        {
          "output_type": "execute_result",
          "data": {
            "text/plain": [
              "<matplotlib.axes._subplots.AxesSubplot at 0x7fce74001590>"
            ]
          },
          "metadata": {},
          "execution_count": 18
        },
        {
          "output_type": "display_data",
          "data": {
            "text/plain": [
              "<Figure size 432x288 with 1 Axes>"
            ],
            "image/png": "[encoded data removed]"
          },
          "metadata": {
            "needs_background": "light"
          }
        }
      ]
    },
    {
      "cell_type": "code",
      "source": [
        "import seaborn as sns\n",
        "sns.set_style(\"darkgrid\")"
      ],
      "metadata": {
        "id": "hcqJgN6ploGG"
      },
      "execution_count": 19,
      "outputs": []
    },
    {
      "cell_type": "code",
      "source": [
        "sns.histplot(cities_by_accident, log_scale=True)"
      ],
      "metadata": {
        "colab": {
          "base_uri": "https://localhost:8080/",
          "height": 0
        },
        "id": "-fH2po3tln8U",
        "outputId": "88260b45-969d-4759-eb6a-e28f20f67f38"
      },
      "execution_count": 20,
      "outputs": [
        {
          "output_type": "execute_result",
          "data": {
            "text/plain": [
              "<matplotlib.axes._subplots.AxesSubplot at 0x7fce82aaaed0>"
            ]
          },
          "metadata": {},
          "execution_count": 20
        },
        {
          "output_type": "display_data",
          "data": {
            "text/plain": [
              "<Figure size 432x288 with 1 Axes>"
            ],
            "image/png": "[encoded data removed]"
          },
          "metadata": {}
        }
      ]
    },
    {
      "cell_type": "code",
      "source": [
        "cities_by_accident[cities_by_accident == 1]"
      ],
      "metadata": {
        "colab": {
          "base_uri": "https://localhost:8080/"
        },
        "id": "rawoEih1xdjP",
        "outputId": "47fafe39-4e94-4be7-88f9-85505637f168"
      },
      "execution_count": 21,
      "outputs": [
        {
          "output_type": "execute_result",
          "data": {
            "text/plain": [
              "Carney                          1\n",
              "Waverly Hall                    1\n",
              "Center Sandwich                 1\n",
              "Glen Flora                      1\n",
              "Sulphur Springs                 1\n",
              "                               ..\n",
              "Ridgedale                       1\n",
              "Sekiu                           1\n",
              "Wooldridge                      1\n",
              "Bullock                         1\n",
              "American Fork-Pleasant Grove    1\n",
              "Name: City, Length: 1110, dtype: int64"
            ]
          },
          "metadata": {},
          "execution_count": 21
        }
      ]
    },
    {
      "cell_type": "code",
      "source": [
        "high_accident_cities = cities_by_accident[cities_by_accident >=1000]\n",
        "low_accident_cities = cities_by_accident[cities_by_accident <1000]\n",
        "len(high_accident_cities) / len(low_accident_cities)*100"
      ],
      "metadata": {
        "colab": {
          "base_uri": "https://localhost:8080/"
        },
        "id": "vz-3EPLElnxC",
        "outputId": "e4ec0d7a-cf4f-4bca-e691-f7a41dbd6ccb"
      },
      "execution_count": 22,
      "outputs": [
        {
          "output_type": "execute_result",
          "data": {
            "text/plain": [
              "4.434510505140814"
            ]
          },
          "metadata": {},
          "execution_count": 22
        }
      ]
    },
    {
      "cell_type": "code",
      "source": [
        "sns.distplot(high_accident_cities)"
      ],
      "metadata": {
        "colab": {
          "base_uri": "https://localhost:8080/",
          "height": 0
        },
        "id": "e8LzSImSoPkb",
        "outputId": "5c5ee07b-b81c-44cf-f03f-f0bc3cb3fda1"
      },
      "execution_count": 23,
      "outputs": [
        {
          "output_type": "stream",
          "name": "stderr",
          "text": [
            "/usr/local/lib/python3.7/dist-packages/seaborn/distributions.py:2619: FutureWarning: `distplot` is a deprecated function and will be removed in a future version. Please adapt your code to use either `displot` (a figure-level function with similar flexibility) or `histplot` (an axes-level function for histograms).\n",
            "  warnings.warn(msg, FutureWarning)\n"
          ]
        },
        {
          "output_type": "execute_result",
          "data": {
            "text/plain": [
              "<matplotlib.axes._subplots.AxesSubplot at 0x7fce6b72f710>"
            ]
          },
          "metadata": {},
          "execution_count": 23
        },
        {
          "output_type": "display_data",
          "data": {
            "text/plain": [
              "<Figure size 432x288 with 1 Axes>"
            ],
            "image/png": "[encoded data removed]"
          },
          "metadata": {}
        }
      ]
    },
    {
      "cell_type": "code",
      "source": [
        "sns.histplot(low_accident_cities, log_scale=True)"
      ],
      "metadata": {
        "colab": {
          "base_uri": "https://localhost:8080/",
          "height": 0
        },
        "id": "-sNqKfS6oPe8",
        "outputId": "2e6cc1eb-8200-4d88-edd0-b49d813cde26"
      },
      "execution_count": 24,
      "outputs": [
        {
          "output_type": "execute_result",
          "data": {
            "text/plain": [
              "<matplotlib.axes._subplots.AxesSubplot at 0x7fce6b64d550>"
            ]
          },
          "metadata": {},
          "execution_count": 24
        },
        {
          "output_type": "display_data",
          "data": {
            "text/plain": [
              "<Figure size 432x288 with 1 Axes>"
            ],
            "image/png": "[encoded data removed]"
          },
          "metadata": {}
        }
      ]
    },
    {
      "cell_type": "markdown",
      "source": [
        "###2. Start time"
      ],
      "metadata": {
        "id": "EaVVu01m1Jxh"
      }
    },
    {
      "cell_type": "code",
      "source": [
        "df.Start_Time"
      ],
      "metadata": {
        "colab": {
          "base_uri": "https://localhost:8080/"
        },
        "id": "GL5QR42Z1MYE",
        "outputId": "a51c9330-af08-405c-c9c6-d1c81ce38687"
      },
      "execution_count": 25,
      "outputs": [
        {
          "output_type": "execute_result",
          "data": {
            "text/plain": [
              "0          2016-02-08 00:37:08\n",
              "1          2016-02-08 05:56:20\n",
              "2          2016-02-08 06:15:39\n",
              "3          2016-02-08 06:51:45\n",
              "4          2016-02-08 07:53:43\n",
              "                  ...         \n",
              "2845337    2019-08-23 18:03:25\n",
              "2845338    2019-08-23 19:11:30\n",
              "2845339    2019-08-23 19:00:21\n",
              "2845340    2019-08-23 19:00:21\n",
              "2845341    2019-08-23 18:52:06\n",
              "Name: Start_Time, Length: 2845342, dtype: object"
            ]
          },
          "metadata": {},
          "execution_count": 25
        }
      ]
    },
    {
      "cell_type": "code",
      "source": [
        "df.Start_Time = pd.to_datetime(df.Start_Time)"
      ],
      "metadata": {
        "id": "HUUCowDb1hQl"
      },
      "execution_count": 26,
      "outputs": []
    },
    {
      "cell_type": "code",
      "source": [
        "sns.distplot(df.Start_Time.dt.hour, bins=24, kde=False, norm_hist=True)"
      ],
      "metadata": {
        "colab": {
          "base_uri": "https://localhost:8080/",
          "height": 0
        },
        "id": "JMG8GwaO1hOH",
        "outputId": "eee60fdf-1ea7-4d3b-bf76-d23c2c15f9ea"
      },
      "execution_count": 27,
      "outputs": [
        {
          "output_type": "stream",
          "name": "stderr",
          "text": [
            "/usr/local/lib/python3.7/dist-packages/seaborn/distributions.py:2619: FutureWarning: `distplot` is a deprecated function and will be removed in a future version. Please adapt your code to use either `displot` (a figure-level function with similar flexibility) or `histplot` (an axes-level function for histograms).\n",
            "  warnings.warn(msg, FutureWarning)\n"
          ]
        },
        {
          "output_type": "execute_result",
          "data": {
            "text/plain": [
              "<matplotlib.axes._subplots.AxesSubplot at 0x7fceb009bbd0>"
            ]
          },
          "metadata": {},
          "execution_count": 27
        },
        {
          "output_type": "display_data",
          "data": {
            "text/plain": [
              "<Figure size 432x288 with 1 Axes>"
            ],
            "image/png": "[encoded data removed]"
          },
          "metadata": {}
        }
      ]
    },
    {
      "cell_type": "markdown",
      "source": [
        "- A high percentage of accidents occur between 3pm to 5pm (probably people in a hurry to reach home after work)"
      ],
      "metadata": {
        "id": "EFQ_195W5aVi"
      }
    },
    {
      "cell_type": "code",
      "source": [
        "sns.distplot(df.Start_Time.dt.dayofweek, bins=7, kde=False, norm_hist=True)"
      ],
      "metadata": {
        "colab": {
          "base_uri": "https://localhost:8080/",
          "height": 0
        },
        "id": "Aa7w5WZj3BMx",
        "outputId": "b4cf5f51-a568-44ff-abe9-e91de3cdb1f3"
      },
      "execution_count": 28,
      "outputs": [
        {
          "output_type": "stream",
          "name": "stderr",
          "text": [
            "/usr/local/lib/python3.7/dist-packages/seaborn/distributions.py:2619: FutureWarning: `distplot` is a deprecated function and will be removed in a future version. Please adapt your code to use either `displot` (a figure-level function with similar flexibility) or `histplot` (an axes-level function for histograms).\n",
            "  warnings.warn(msg, FutureWarning)\n"
          ]
        },
        {
          "output_type": "execute_result",
          "data": {
            "text/plain": [
              "<matplotlib.axes._subplots.AxesSubplot at 0x7fce6b6c0110>"
            ]
          },
          "metadata": {},
          "execution_count": 28
        },
        {
          "output_type": "display_data",
          "data": {
            "text/plain": [
              "<Figure size 432x288 with 1 Axes>"
            ],
            "image/png": "[encoded data removed]"
          },
          "metadata": {}
        }
      ]
    },
    {
      "cell_type": "markdown",
      "source": [
        "- Accidents are evenly distributed on week days and its lower on weekends"
      ],
      "metadata": {
        "id": "w3zB_N-v62rj"
      }
    },
    {
      "cell_type": "code",
      "source": [
        "df_2016 = df[df.Start_Time.dt.year == 2016]\n",
        "sns.distplot(df_2016.Start_Time.dt.month, bins=12, kde=False, norm_hist=True)\n",
        "sns.distplot(df.Start_Time.dt.month, bins=12, kde=False, norm_hist=True)\n"
      ],
      "metadata": {
        "id": "ffs7672h3BJ4",
        "colab": {
          "base_uri": "https://localhost:8080/",
          "height": 0
        },
        "outputId": "6981a994-d507-401f-cb1a-a2feeb65e2dc"
      },
      "execution_count": 29,
      "outputs": [
        {
          "output_type": "stream",
          "name": "stderr",
          "text": [
            "/usr/local/lib/python3.7/dist-packages/seaborn/distributions.py:2619: FutureWarning: `distplot` is a deprecated function and will be removed in a future version. Please adapt your code to use either `displot` (a figure-level function with similar flexibility) or `histplot` (an axes-level function for histograms).\n",
            "  warnings.warn(msg, FutureWarning)\n"
          ]
        },
        {
          "output_type": "execute_result",
          "data": {
            "text/plain": [
              "<matplotlib.axes._subplots.AxesSubplot at 0x7fce6b473d50>"
            ]
          },
          "metadata": {},
          "execution_count": 29
        },
        {
          "output_type": "display_data",
          "data": {
            "text/plain": [
              "<Figure size 432x288 with 1 Axes>"
            ],
            "image/png": "[encoded data removed]"
          },
          "metadata": {}
        }
      ]
    },
    {
      "cell_type": "markdown",
      "source": [
        "- Much data is missing for 2016 and 2020.\n",
        "- overall trend is incresing from july till the end, with december having the highest number of accident."
      ],
      "metadata": {
        "id": "FaTdvwCOlowd"
      }
    },
    {
      "cell_type": "markdown",
      "source": [
        "##Start_lat and start_long"
      ],
      "metadata": {
        "id": "uojjKUoQq5QU"
      }
    },
    {
      "cell_type": "code",
      "source": [
        "df.Start_Lat"
      ],
      "metadata": {
        "id": "M9pJK8L_3BHf",
        "colab": {
          "base_uri": "https://localhost:8080/"
        },
        "outputId": "2d0ed75c-ec12-44de-f8a9-b416b2968356"
      },
      "execution_count": 30,
      "outputs": [
        {
          "output_type": "execute_result",
          "data": {
            "text/plain": [
              "0          40.108910\n",
              "1          39.865420\n",
              "2          39.102660\n",
              "3          41.062130\n",
              "4          39.172393\n",
              "             ...    \n",
              "2845337    34.002480\n",
              "2845338    32.766960\n",
              "2845339    33.775450\n",
              "2845340    33.992460\n",
              "2845341    34.133930\n",
              "Name: Start_Lat, Length: 2845342, dtype: float64"
            ]
          },
          "metadata": {},
          "execution_count": 30
        }
      ]
    },
    {
      "cell_type": "code",
      "source": [
        "df.Start_Lng"
      ],
      "metadata": {
        "id": "aQn2cpPu3BEu",
        "colab": {
          "base_uri": "https://localhost:8080/"
        },
        "outputId": "274c898c-b440-4ff4-e041-2a5d2856d853"
      },
      "execution_count": 31,
      "outputs": [
        {
          "output_type": "execute_result",
          "data": {
            "text/plain": [
              "0          -83.092860\n",
              "1          -84.062800\n",
              "2          -84.524680\n",
              "3          -81.537840\n",
              "4          -84.492792\n",
              "              ...    \n",
              "2845337   -117.379360\n",
              "2845338   -117.148060\n",
              "2845339   -117.847790\n",
              "2845340   -118.403020\n",
              "2845341   -117.230920\n",
              "Name: Start_Lng, Length: 2845342, dtype: float64"
            ]
          },
          "metadata": {},
          "execution_count": 31
        }
      ]
    },
    {
      "cell_type": "code",
      "source": [
        "sns.scatterplot(x=df.Start_Lng, y=df.Start_Lat, size=0.001)"
      ],
      "metadata": {
        "colab": {
          "base_uri": "https://localhost:8080/",
          "height": 300
        },
        "id": "u3Zn8dUvrSNV",
        "outputId": "958153c5-34e1-4b52-a22a-240a63418f1f"
      },
      "execution_count": 32,
      "outputs": [
        {
          "output_type": "execute_result",
          "data": {
            "text/plain": [
              "<matplotlib.axes._subplots.AxesSubplot at 0x7fce6b3be6d0>"
            ]
          },
          "metadata": {},
          "execution_count": 32
        },
        {
          "output_type": "display_data",
          "data": {
            "text/plain": [
              "<Figure size 432x288 with 1 Axes>"
            ],
            "image/png": "[encoded data removed]"
          },
          "metadata": {}
        }
      ]
    },
    {
      "cell_type": "code",
      "source": [
        "import folium"
      ],
      "metadata": {
        "id": "ZzZzmVths3Nr"
      },
      "execution_count": 33,
      "outputs": []
    },
    {
      "cell_type": "code",
      "source": [
        "lat, lng = df.Start_Lat[1], df.Start_Lng[1]\n",
        "lat, lng"
      ],
      "metadata": {
        "colab": {
          "base_uri": "https://localhost:8080/"
        },
        "id": "T0NY2WZa1fs8",
        "outputId": "a5ead18e-be73-4dc5-d187-cb6d8154c218"
      },
      "execution_count": 34,
      "outputs": [
        {
          "output_type": "execute_result",
          "data": {
            "text/plain": [
              "(39.86542, -84.0628)"
            ]
          },
          "metadata": {},
          "execution_count": 34
        }
      ]
    },
    {
      "cell_type": "code",
      "source": [
        "map  = folium.Map() \n",
        "Marker = folium.Marker((lat, lng))\n",
        "Marker.add_to(map)\n",
        "map"
      ],
      "metadata": {
        "id": "rlU45BN2tI0_",
        "colab": {
          "base_uri": "https://localhost:8080/",
          "height": 395
        },
        "outputId": "7d47f79d-843e-4724-8b53-c622e4b647d2"
      },
      "execution_count": 35,
      "outputs": [
        {
          "output_type": "execute_result",
          "data": {
            "text/plain": [
              "<folium.folium.Map at 0x7fce5aae7810>"
            ],
            "text/html": [
              "<div style=\"width:100%;\"><div style=\"position:relative;width:100%;height:0;padding-bottom:60%;\"><span style=\"color:#565656\">Make this Notebook Trusted to load map: File -> Trust Notebook</span><iframe srcdoc=\"&lt;!DOCTYPE html&gt;\n",
              "&lt;head&gt;    \n",
              "    &lt;meta http-equiv=&quot;content-type&quot; content=&quot;text/html; charset=UTF-8&quot; /&gt;\n",
              "    &lt;script&gt;L_PREFER_CANVAS=false; L_NO_TOUCH=false; L_DISABLE_3D=false;&lt;/script&gt;\n",
              "    &lt;script src=&quot;https://cdn.jsdelivr.net/npm/leaflet@1.4.0/dist/leaflet.js&quot;&gt;&lt;/script&gt;\n",
              "    &lt;script src=&quot;https://code.jquery.com/jquery-1.12.4.min.js&quot;&gt;&lt;/script&gt;\n",
              "    &lt;script src=&quot;https://maxcdn.bootstrapcdn.com/bootstrap/3.2.0/js/bootstrap.min.js&quot;&gt;&lt;/script&gt;\n",
              "    &lt;script src=&quot;https://cdnjs.cloudflare.com/ajax/libs/Leaflet.awesome-markers/2.0.2/leaflet.awesome-markers.js&quot;&gt;&lt;/script&gt;\n",
              "    &lt;link rel=&quot;stylesheet&quot; href=&quot;https://cdn.jsdelivr.net/npm/leaflet@1.4.0/dist/leaflet.css&quot;/&gt;\n",
              "    &lt;link rel=&quot;stylesheet&quot; href=&quot;https://maxcdn.bootstrapcdn.com/bootstrap/3.2.0/css/bootstrap.min.css&quot;/&gt;\n",
              "    &lt;link rel=&quot;stylesheet&quot; href=&quot;https://maxcdn.bootstrapcdn.com/bootstrap/3.2.0/css/bootstrap-theme.min.css&quot;/&gt;\n",
              "    &lt;link rel=&quot;stylesheet&quot; href=&quot;https://maxcdn.bootstrapcdn.com/font-awesome/4.6.3/css/font-awesome.min.css&quot;/&gt;\n",
              "    &lt;link rel=&quot;stylesheet&quot; href=&quot;https://cdnjs.cloudflare.com/ajax/libs/Leaflet.awesome-markers/2.0.2/leaflet.awesome-markers.css&quot;/&gt;\n",
              "    &lt;link rel=&quot;stylesheet&quot; href=&quot;https://rawcdn.githack.com/python-visualization/folium/master/folium/templates/leaflet.awesome.rotate.css&quot;/&gt;\n",
              "    &lt;style&gt;html, body {width: 100%;height: 100%;margin: 0;padding: 0;}&lt;/style&gt;\n",
              "    &lt;style&gt;#map {position:absolute;top:0;bottom:0;right:0;left:0;}&lt;/style&gt;\n",
              "    \n",
              "    &lt;meta name=&quot;viewport&quot; content=&quot;width=device-width,\n",
              "        initial-scale=1.0, maximum-scale=1.0, user-scalable=no&quot; /&gt;\n",
              "    &lt;style&gt;#map_93f77ecdf6564288440b7ccbee1b5555 {\n",
              "        position: relative;\n",
              "        width: 100.0%;\n",
              "        height: 100.0%;\n",
              "        left: 0.0%;\n",
              "        top: 0.0%;\n",
              "        }\n",
              "    &lt;/style&gt;\n",
              "&lt;/head&gt;\n",
              "&lt;body&gt;    \n",
              "    \n",
              "    &lt;div class=&quot;folium-map&quot; id=&quot;map_93f77ecdf6564288440b7ccbee1b5555&quot; &gt;&lt;/div&gt;\n",
              "&lt;/body&gt;\n",
              "&lt;script&gt;    \n",
              "    \n",
              "    \n",
              "        var bounds = null;\n",
              "    \n",
              "\n",
              "    var map_93f77ecdf6564288440b7ccbee1b5555 = L.map(\n",
              "        &#x27;map_93f77ecdf6564288440b7ccbee1b5555&#x27;, {\n",
              "        center: [0, 0],\n",
              "        zoom: 1,\n",
              "        maxBounds: bounds,\n",
              "        layers: [],\n",
              "        worldCopyJump: false,\n",
              "        crs: L.CRS.EPSG3857,\n",
              "        zoomControl: true,\n",
              "        });\n",
              "\n",
              "\n",
              "    \n",
              "    var tile_layer_d35855287f955ba87186a7e4935cb550 = L.tileLayer(\n",
              "        &#x27;https://{s}.tile.openstreetmap.org/{z}/{x}/{y}.png&#x27;,\n",
              "        {\n",
              "        &quot;attribution&quot;: null,\n",
              "        &quot;detectRetina&quot;: false,\n",
              "        &quot;maxNativeZoom&quot;: 18,\n",
              "        &quot;maxZoom&quot;: 18,\n",
              "        &quot;minZoom&quot;: 0,\n",
              "        &quot;noWrap&quot;: false,\n",
              "        &quot;opacity&quot;: 1,\n",
              "        &quot;subdomains&quot;: &quot;abc&quot;,\n",
              "        &quot;tms&quot;: false\n",
              "}).addTo(map_93f77ecdf6564288440b7ccbee1b5555);\n",
              "    \n",
              "        var marker_696dc2d5b7d344a7559f2c31264a3ee8 = L.marker(\n",
              "            [39.86542, -84.0628],\n",
              "            {\n",
              "                icon: new L.Icon.Default(),\n",
              "                }\n",
              "            ).addTo(map_93f77ecdf6564288440b7ccbee1b5555);\n",
              "        \n",
              "&lt;/script&gt;\" style=\"position:absolute;width:100%;height:100%;left:0;top:0;border:none !important;\" allowfullscreen webkitallowfullscreen mozallowfullscreen></iframe></div></div>"
            ]
          },
          "metadata": {},
          "execution_count": 35
        }
      ]
    },
    {
      "cell_type": "code",
      "source": [
        "from folium.plugins import HeatMap"
      ],
      "metadata": {
        "id": "1ANW0hpWtIoS"
      },
      "execution_count": 36,
      "outputs": []
    },
    {
      "cell_type": "code",
      "source": [
        "zip(list(df.Start_Lat), list(df.Start_Lng))"
      ],
      "metadata": {
        "colab": {
          "base_uri": "https://localhost:8080/"
        },
        "id": "hxrRYaFj3PYc",
        "outputId": "79543b71-72ba-4d56-92e2-c51b62d72889"
      },
      "execution_count": 37,
      "outputs": [
        {
          "output_type": "execute_result",
          "data": {
            "text/plain": [
              "<zip at 0x7fce56abccd0>"
            ]
          },
          "metadata": {},
          "execution_count": 37
        }
      ]
    },
    {
      "cell_type": "code",
      "source": [
        "sample_df = df.sample(int(0.001 * len(df)))\n",
        "lat_lon_pairs = list(zip(list(sample_df.Start_Lat), list(sample_df.Start_Lng)))"
      ],
      "metadata": {
        "id": "X2Yecv744Dht"
      },
      "execution_count": 38,
      "outputs": []
    },
    {
      "cell_type": "code",
      "source": [
        "map  = folium.Map() \n",
        "HeatMap(lat_lon_pairs).add_to(map)\n",
        "map"
      ],
      "metadata": {
        "id": "KPbFODpstIk2",
        "colab": {
          "base_uri": "https://localhost:8080/",
          "height": 395
        },
        "outputId": "b2012d6e-0ea4-417e-e8b7-67ac7cc5f500"
      },
      "execution_count": 39,
      "outputs": [
        {
          "output_type": "execute_result",
          "data": {
            "text/plain": [
              "<folium.folium.Map at 0x7fce6b372e10>"
            ],
            "text/html": [
              "<div style=\"width:100%;\"><div style=\"position:relative;width:100%;height:0;padding-bottom:60%;\"><span style=\"color:#565656\">Make this Notebook Trusted to load map: File -> Trust Notebook</span><iframe srcdoc=\"&lt;!DOCTYPE html&gt;\n",
              "&lt;head&gt;    \n",
              "    &lt;meta http-equiv=&quot;content-type&quot; content=&quot;text/html; charset=UTF-8&quot; /&gt;\n",
              "    &lt;script&gt;L_PREFER_CANVAS=false; L_NO_TOUCH=false; L_DISABLE_3D=false;&lt;/script&gt;\n",
              "    &lt;script src=&quot;https://cdn.jsdelivr.net/npm/leaflet@1.4.0/dist/leaflet.js&quot;&gt;&lt;/script&gt;\n",
              "    &lt;script src=&quot;https://code.jquery.com/jquery-1.12.4.min.js&quot;&gt;&lt;/script&gt;\n",
              "    &lt;script src=&quot;https://maxcdn.bootstrapcdn.com/bootstrap/3.2.0/js/bootstrap.min.js&quot;&gt;&lt;/script&gt;\n",
              "    &lt;script src=&quot;https://cdnjs.cloudflare.com/ajax/libs/Leaflet.awesome-markers/2.0.2/leaflet.awesome-markers.js&quot;&gt;&lt;/script&gt;\n",
              "    &lt;link rel=&quot;stylesheet&quot; href=&quot;https://cdn.jsdelivr.net/npm/leaflet@1.4.0/dist/leaflet.css&quot;/&gt;\n",
              "    &lt;link rel=&quot;stylesheet&quot; href=&quot;https://maxcdn.bootstrapcdn.com/bootstrap/3.2.0/css/bootstrap.min.css&quot;/&gt;\n",
              "    &lt;link rel=&quot;stylesheet&quot; href=&quot;https://maxcdn.bootstrapcdn.com/bootstrap/3.2.0/css/bootstrap-theme.min.css&quot;/&gt;\n",
              "    &lt;link rel=&quot;stylesheet&quot; href=&quot;https://maxcdn.bootstrapcdn.com/font-awesome/4.6.3/css/font-awesome.min.css&quot;/&gt;\n",
              "    &lt;link rel=&quot;stylesheet&quot; href=&quot;https://cdnjs.cloudflare.com/ajax/libs/Leaflet.awesome-markers/2.0.2/leaflet.awesome-markers.css&quot;/&gt;\n",
              "    &lt;link rel=&quot;stylesheet&quot; href=&quot;https://rawcdn.githack.com/python-visualization/folium/master/folium/templates/leaflet.awesome.rotate.css&quot;/&gt;\n",
              "    &lt;style&gt;html, body {width: 100%;height: 100%;margin: 0;padding: 0;}&lt;/style&gt;\n",
              "    &lt;style&gt;#map {position:absolute;top:0;bottom:0;right:0;left:0;}&lt;/style&gt;\n",
              "    \n",
              "    &lt;meta name=&quot;viewport&quot; content=&quot;width=device-width,\n",
              "        initial-scale=1.0, maximum-scale=1.0, user-scalable=no&quot; /&gt;\n",
              "    &lt;style&gt;#map_a0bb1e93060b73cf0212d84f0a3cec14 {\n",
              "        position: relative;\n",
              "        width: 100.0%;\n",
              "        height: 100.0%;\n",
              "        left: 0.0%;\n",
              "        top: 0.0%;\n",
              "        }\n",
              "    &lt;/style&gt;\n",
              "    &lt;script src=&quot;https://leaflet.github.io/Leaflet.heat/dist/leaflet-heat.js&quot;&gt;&lt;/script&gt;\n",
              "&lt;/head&gt;\n",
              "&lt;body&gt;    \n",
              "    \n",
              "    &lt;div class=&quot;folium-map&quot; id=&quot;map_a0bb1e93060b73cf0212d84f0a3cec14&quot; &gt;&lt;/div&gt;\n",
              "&lt;/body&gt;\n",
              "&lt;script&gt;    \n",
              "    \n",
              "    \n",
              "        var bounds = null;\n",
              "    \n",
              "\n",
              "    var map_a0bb1e93060b73cf0212d84f0a3cec14 = L.map(\n",
              "        &#x27;map_a0bb1e93060b73cf0212d84f0a3cec14&#x27;, {\n",
              "        center: [0, 0],\n",
              "        zoom: 1,\n",
              "        maxBounds: bounds,\n",
              "        layers: [],\n",
              "        worldCopyJump: false,\n",
              "        crs: L.CRS.EPSG3857,\n",
              "        zoomControl: true,\n",
              "        });\n",
              "\n",
              "\n",
              "    \n",
              "    var tile_layer_515efb82d653025bdc204783fcec717c = L.tileLayer(\n",
              "        &#x27;https://{s}.tile.openstreetmap.org/{z}/{x}/{y}.png&#x27;,\n",
              "        {\n",
              "        &quot;attribution&quot;: null,\n",
              "        &quot;detectRetina&quot;: false,\n",
              "        &quot;maxNativeZoom&quot;: 18,\n",
              "        &quot;maxZoom&quot;: 18,\n",
              "        &quot;minZoom&quot;: 0,\n",
              "        &quot;noWrap&quot;: false,\n",
              "        &quot;opacity&quot;: 1,\n",
              "        &quot;subdomains&quot;: &quot;abc&quot;,\n",
              "        &quot;tms&quot;: false\n",
              "}).addTo(map_a0bb1e93060b73cf0212d84f0a3cec14);\n",
              "    \n",
              "            var heat_map_b208c1b84afeef491d90faff4e8f6732 = L.heatLayer(\n",
              "                [[39.325572, -94.705656], [35.317913, -118.932047], [36.846438, -76.016947], [45.463571, -122.569159], [39.65873, -105.18254], [25.871682, -80.323297], [25.925642, -80.210613], [40.25044000000001, -74.05517900000002], [40.6657, -111.86485], [43.050982, -74.354085], [34.1436, -118.704293], [39.01616, -77.01935999999998], [28.56681, -81.206435], [34.16751, -117.302678], [38.428732, -122.715205], [40.248887, -123.831534], [28.03523, -80.62060600000002], [33.941088, -117.232657], [40.209237, -74.079398], [32.9162, -96.96326], [28.577677, -81.475347], [29.589953, -90.726469], [33.931303, -118.38751], [39.853196, -75.0975], [33.363132, -112.08645], [34.983191, -85.408975], [42.024091, -121.551767], [34.703516, -82.319419], [40.232716, -76.926237], [44.414804, -124.031377], [40.742648, -73.770909], [41.18065, -79.24593], [46.69993, -113.44026399999998], [41.42434, -81.57898], [40.675041, -73.485366], [43.1507, -77.63426700000002], [37.158862, -121.982585], [25.9278, -80.20835500000003], [39.264155, -76.589388], [39.553281, -74.73680300000002], [43.18031, -76.15133], [37.64888, -77.597899], [30.237677, -84.739981], [33.911522, -118.173505], [43.852726, -122.66531299999998], [38.350399, -77.480918], [33.299578000000004, -117.217848], [34.274522, -118.53865], [38.643664, -121.107519], [38.65796, -90.35575], [43.752104, -123.114186], [32.71776, -117.11265], [37.21771, -121.98775], [38.481709, -121.371953], [34.481673, -82.663202], [26.143416, -80.44145400000002], [28.534371000000004, -81.28564], [34.023743, -117.74442], [38.564736, -121.497739], [39.372667, -76.746898], [33.92492, -118.10422], [35.39145999999999, -97.47269], [38.99599, -94.55616], [32.691336, -96.632581], [37.03682, -77.38959], [34.136247999999995, -117.48001399999998], [38.967316, -77.17998], [30.539235, -91.177621], [35.203475, -80.72314300000002], [33.837831, -118.263757], [46.900378, -114.686643], [36.04638, -95.88608], [39.029884, -76.947417], [34.137963, -118.013854], [30.504636, -91.125342], [27.109583, -82.30805600000002], [39.365061, -77.18409], [41.840304, -87.919839], [29.994875, -90.119827], [45.073477, -122.959717], [34.13404, -112.14742], [43.039551, -77.539733], [45.055237, -122.70962], [25.926199, -80.146119], [37.332023, -77.443173], [33.7941, -117.23014], [42.505403, -79.216252], [37.438044, -77.471057], [41.099622, -74.034918], [39.128093, -121.534516], [37.69091, -122.12953], [30.327132, -81.62595], [44.90135, -93.13599], [45.722168, -108.624433], [27.39978300000001, -82.49661], [34.186283, -118.401125], [45.73574, -120.644843], [44.94744, -93.04073], [38.801253, -121.719801], [40.027429, -76.744745], [40.166017, -84.966886], [30.265862, -97.728664], [34.046147999999995, -118.269335], [36.989273, -122.002334], [47.65386, -117.3818], [35.387375, -119.044631], [45.228286, -93.028046], [44.293539, -122.026168], [32.720757, -117.109788], [38.609765, -121.509894], [41.450558, -85.750461], [39.34529000000001, -76.49358000000002], [44.9323, -123.12941200000002], [34.08599, -84.52950200000002], [28.462129, -81.464929], [25.884087, -80.344796], [34.099353, -80.375793], [46.485117, -95.300935], [33.733656, -117.815245], [43.01923, -85.63637], [45.54223, -122.56173], [27.886356, -82.717564], [32.287461, -110.978274], [42.663045, -73.725351], [34.085983, -118.232111], [38.132413, -77.511059], [32.924535, -96.767594], [38.766651, -77.162503], [40.084616, -76.220687], [33.773968, -117.818345], [35.256059, -118.914303], [34.030272, -117.662709], [45.189476, -94.316979], [33.876296999999994, -118.098043], [42.15366, -88.02053000000002], [45.62143, -122.67339], [39.951245, -104.98791], [38.969698, -77.144571], [40.411545, -80.075987], [42.38782, -83.01626], [33.462907, -112.203283], [34.2659, -118.47403], [40.184072, -74.728778], [35.239659, -120.683736], [42.34584, -122.87502], [40.439847, -78.434883], [31.24226, -89.29574000000002], [35.81163, -78.60274], [33.944452000000005, -80.961722], [32.652964000000004, -97.321332], [37.992591, -122.039625], [39.99081, -75.07644], [34.952655, -80.852933], [28.705826, -80.88616400000002], [39.169131, -78.179659], [39.10159, -84.52282], [38.722237, -121.46856], [38.54467, -121.47399], [40.746688, -73.764177], [41.97555300000001, -72.811145], [34.057331, -118.165009], [28.385873, -81.509737], [40.620449, -111.90403700000002], [45.52301, -122.66543], [35.04408, -85.160208], [38.87332, -76.99091], [39.675204, -75.595428], [37.86948, -122.30474], [39.390825, -77.417489], [37.39019, -121.9923], [39.87535, -75.0497], [42.900083, -78.767175], [29.652281, -95.252033], [34.016236, -117.343994], [29.737144, -95.53506], [40.852872, -73.959099], [39.214439, -120.974591], [37.327026, -121.940871], [38.435503, -122.857172], [26.08132, -80.36142], [41.06926, -73.95024000000002], [41.164496, -74.028583], [39.018974, -76.976321], [44.971853, -93.088844], [30.106267, -81.70550899999998], [32.272079999999995, -110.96052], [35.361174, -118.926136], [32.87805, -96.89795], [37.651004, -77.610463], [38.75411, -90.45436], [42.054373, -75.41794499999997], [25.627093, -80.38489], [41.02577, -73.60935], [37.987707, -121.750928], [41.656447, -76.844133], [42.22869, -83.41986], [27.585028, -82.545701], [37.830673, -122.293358], [40.223331, -76.276356], [44.99303, -93.45861], [31.76425, -106.36432], [40.853605, -73.962816], [36.706566, -76.108939], [34.293601, -118.470233], [25.853737, -80.322777], [36.147888, -95.915806], [42.365287, -83.133083], [28.342314, -82.322983], [38.270544, -122.051901], [45.650438, -123.275649], [38.014119, -121.996863], [35.179324, -85.049881], [28.757861, -82.09833], [28.441853, -81.403286], [41.135579, -73.452186], [33.614197999999995, -80.365039], [41.00007, -73.653591], [40.76063900000001, -73.95651600000002], [28.451446, -81.203781], [36.15361, -86.84664000000002], [38.035234, -103.675526], [41.12179, -73.70437], [43.14122, -76.20673000000002], [38.09056, -122.22738], [38.57968, -90.44719], [27.706213, -82.71393499999998], [40.79857, -73.49886], [44.7597, -93.21787], [41.128464, -120.499624], [25.890733, -80.163416], [39.398077, -77.420171], [44.95185, -93.15165], [33.784317, -78.99135], [42.67987, -83.76024], [27.937690000000003, -82.17043000000002], [39.26035, -76.70279000000002], [28.468802, -81.417358], [30.526014, -83.066576], [37.17202, -76.55045], [34.147875, -80.31202900000002], [25.654473, -80.41564], [37.48374, -122.216927], [33.955237, -118.247417], [30.302063, -81.640874], [34.00412, -117.40524], [39.014259, -76.92769200000002], [35.74197, -78.637128], [44.743291, -92.987519], [33.85117, -84.24669], [39.882769, -104.98746], [26.19347, -80.15155], [40.02656, -75.23125], [39.057321, -77.076009], [34.775907000000004, -118.342734], [30.22985, -81.51395], [47.831464, -122.262056], [39.186707, -121.880478], [25.811613, -80.313412], [38.655262, -121.05592], [39.295882, -76.503552], [33.850534, -117.534662], [46.652959, -112.011226], [33.69575, -117.86392], [37.430881, -121.886111], [35.038478999999995, -81.83009], [38.428568, -122.763701], [38.846122, -91.263588], [39.6894, -104.99232], [43.191968, -77.680173], [38.690317, -121.387475], [32.81163, -96.8531], [35.656128, -78.893559], [35.61657, -94.18917], [40.748079, -77.870059], [33.66019, -84.49774000000002], [39.68754000000001, -104.99196], [44.999042, -93.282994], [40.8663, -74.02242199999998], [34.145239000000004, -117.283118], [39.479462, -121.548174], [35.929723, -79.202565], [42.37753, -87.85548], [43.080666, -124.41517], [34.066339, -117.803789], [34.006621, -118.413906], [44.555622, -123.049031], [38.87334, -76.06110600000002], [40.236828, -76.898064], [35.253206, -92.933188], [40.10677, -76.25010999999998], [32.960548, -80.678601], [28.551918, -81.49074], [25.861247, -80.209616], [32.19177, -86.11733000000002], [29.81721, -95.45011], [40.828541, -73.934908], [25.94029, -80.19124000000002], [35.401071, -119.042197], [33.662733, -111.947524], [32.86844, -117.227923], [40.06936, -75.27983], [36.260851, -86.712689], [34.249054, -118.426731], [33.88644, -118.35526000000002], [37.66768, -122.4659], [38.635901, -77.674273], [32.97639, -96.71549], [32.588755, -111.335688], [43.169035, -77.638719], [40.488824, -79.901059], [33.85535, -117.9698], [26.70816, -80.15195], [28.402061, -80.81869300000002], [44.8857, -93.00431], [33.75475, -81.353894], [42.994653, -83.746988], [40.724659, -74.228899], [25.964762, -80.172462], [33.856483000000004, -117.785571], [34.067713, -117.592109], [45.430368, -123.824123], [44.955053, -93.091376], [39.127656, -94.901053], [36.949714, -80.885263], [25.7801, -80.31206999999998], [34.305674, -118.426294], [26.427, -80.09026999999998], [32.915306, -96.744259], [34.01820900000001, -118.176582], [44.91116, -122.98743], [33.407107, -81.41549], [36.676248, -82.0421], [45.412102, -122.628922], [25.865305, -80.215874], [40.342804, -79.495536], [35.838289, -78.68258900000002], [34.296690000000005, -118.47341000000002], [26.456826, -80.08944100000002], [30.427627, -91.107086], [37.35497, -77.41335], [42.180026, -121.801058], [33.896631, -117.88108], [32.77767, -117.12004], [33.833053, -117.527644], [28.555439, -81.413969], [33.852791, -81.009167], [38.359075, -81.641238], [44.460738, -89.148677], [37.700608, -121.794411], [37.983119, -121.269487], [28.650371000000003, -81.804532], [26.165739, -80.168089], [34.263462, -118.643866], [34.20120900000001, -118.400017], [33.761883000000005, -117.972343], [38.551229, -121.409193], [28.513773, -81.376308], [41.78322, -87.63155], [37.790405, -121.453408], [29.989544, -90.063113], [44.239981, -121.195519], [28.331347, -82.32397900000002], [40.09129, -82.81808000000002], [40.257798, -75.624252], [47.641007, -117.448649], [44.971234, -93.46919], [37.925555, -121.654849], [41.110249, -73.418809], [33.950316, -118.170575], [34.030456, -117.604249], [35.264191, -118.655817], [42.390679, -87.90442], [40.31194, -111.726186], [44.016286, -123.924654], [33.817444, -117.876276], [27.442027000000003, -82.505336], [40.852055, -74.17520999999998], [28.66526, -81.41959], [33.868970000000004, -117.73051], [38.759765, -121.260369], [39.185429, -84.780905], [30.419428000000003, -91.095158], [28.335568, -81.330308], [43.84824, -123.02237], [33.674878, -117.839224], [35.225392, -80.865218], [34.70624, -82.45374], [25.988424, -80.165965], [41.61166, -71.49417], [42.4121, -122.984412], [41.24961, -76.921909], [40.504856, -78.410064], [39.657359, -84.223377], [38.21434, -122.13794], [41.471915, -122.451827], [34.120783, -117.877524], [33.514859, -117.633242], [29.40337, -98.54302], [34.992313, -81.959236], [36.556667, -80.136953], [30.416931, -91.144342], [44.8958, -93.24692], [41.87537, -87.64933], [37.783488, -121.228846], [39.065584, -94.793297], [41.76983900000001, -72.675776], [34.03739, -118.0376], [26.231301, -80.136581], [28.561545, -81.273089], [34.008842, -118.158573], [34.019539, -117.988035], [40.925263, -74.961529], [34.753521, -92.430821], [28.539114, -81.286947], [28.61345, -81.25834], [36.17796, -115.26533], [34.12104, -117.88325], [40.861949, -111.896038], [34.586968, -92.568564], [33.913073, -118.18008799999998], [45.932407, -92.966508], [32.838252000000004, -97.05199], [30.484276, -87.230527], [35.950752, -80.304018], [32.791545, -96.745818], [35.207438, -86.081406], [39.838088, -84.480689], [30.356168, -97.730893], [30.652722, -91.193231], [33.741656, -117.101398], [32.88421, -96.69716], [38.665706, -121.27223700000002], [39.812, -75.457], [41.417652, -73.42795], [35.563733, -121.09689], [30.423457, -91.144633], [38.660775, -121.346852], [45.906519, -123.745556], [37.51463, -121.93813], [40.48244, -111.94327], [42.74107, -73.69189], [25.890198, -80.188048], [27.53023, -82.50806], [41.390884, -112.042249], [27.897666, -82.725387], [38.395252, -121.27378799999998], [34.069983, -117.54473], [34.036971, -118.43854], [34.030486, -117.59333], [40.7087, -74.24998000000002], [37.821924, -122.259336], [39.58726, -77.64318], [25.478874, -80.49574399999999], [35.745917, -78.59321899999998], [30.404872, -91.183837], [44.259401, -121.179399], [34.485598, -92.208388], [33.525932, -117.158649], [37.040029, -77.62483399999998], [32.308227, -110.89856], [33.67772, -84.31857], [45.1031, -123.33737], [26.57806, -80.06947], [30.289291, -97.759577], [38.627262, -121.53963600000002], [32.759414, -117.20094], [43.22028, -71.53394], [34.087241, -117.659512], [34.920698, -81.99310799999998], [34.303806, -118.478912], [45.274532, -122.773862], [36.804208, -76.197086], [38.58165, -121.41533], [37.041707, -122.072555], [43.54225, -119.498516], [43.598781, -116.549438], [25.879088, -80.242834], [37.34238, -121.85527], [33.414741, -81.84227], [34.077094, -117.521523], [25.782451, -80.222626], [28.004061, -81.718458], [33.749324, -84.23126500000002], [29.629893, -82.422472], [33.540299, -117.626875], [37.686935, -77.67719100000002], [34.1504, -117.32292], [28.546748, -81.704724], [32.93403, -96.753103], [25.812242, -80.24028299999998], [39.28613, -76.76399], [33.979440000000004, -118.28062], [37.749174, -121.137742], [39.392692, -77.448227], [35.99010999999999, -78.90295400000002], [37.98022, -122.06562], [32.671037, -96.861836], [34.02567, -117.806164], [37.348912, -120.878244], [38.64028, -121.225529], [34.45154, -118.61489], [33.57734, -111.889904], [40.86004000000001, -73.915], [34.03047, -117.60379], [36.664081, -121.62476], [45.364447, -122.604449], [37.534865, -77.503427], [30.503776, -87.238775], [45.779932, -122.875374], [40.102794, -75.29618599999998], [35.144871, -80.937076], [30.603349, -87.114932], [39.431487, -77.996309], [36.83352, -76.1333], [34.213602, -83.530812], [35.832264, -78.579689], [34.06794, -117.858698], [37.913436, -122.065599], [32.766866, -117.153438], [30.233753000000004, -97.723554], [39.249987, -80.284926], [43.173855, -76.652973], [37.669333, -122.101697], [33.97552, -118.3847], [26.79742, -80.09066999999997], [45.182209, -93.029666], [37.62953, -122.42966], [27.475213, -82.46476700000002], [39.24481, -76.81515], [25.80988, -80.328417], [39.404876, -77.384266], [38.824029, -77.123948], [34.952671, -80.872656], [33.944115000000004, -118.220733], [35.547507, -120.793221], [34.03191, -117.327001], [33.528267, -112.043477], [38.662894, -123.227967], [45.943182, -95.595463], [25.899251, -80.190506], [40.820088, -111.916766], [37.640887, -77.570847], [38.554555, -77.342016], [44.124605, -121.284674], [37.99042, -122.06747], [45.200918, -123.135476], [29.03003, -82.158776], [39.760987, -105.65015], [42.11917, -75.94323], [40.693003, -111.796443], [46.844705, -92.449489], [28.438242, -81.40421500000002], [37.777796, -79.400549], [42.087031, -80.065639], [38.959368, -76.662807], [43.094517, -76.00833], [34.012565, -117.82111], [37.077447, -76.447061], [33.8919, -118.10477], [39.346193, -76.744962], [40.878101, -74.063237], [34.12399, -79.897356], [32.235284, -110.875424], [30.474494, -87.222502], [32.302819, -109.802867], [39.61468, -77.79375], [32.322764, -110.89702], [32.71921, -117.09664], [45.84138, -123.20911], [30.50215, -82.733698], [34.102925, -118.194952], [38.951884, -94.736873], [37.794887, -121.434624], [41.110381, -74.16441], [45.10143, -93.30034], [33.913174, -118.145738], [41.678577, -122.068148], [35.160662, -113.54769], [38.125426, -121.578911], [33.850981, -117.8145], [35.201454, -80.72327800000002], [38.27009, -122.05232], [35.540775, -82.753778], [39.29937, -84.52396999999998], [33.916115999999995, -117.098836], [39.367423, -77.19626600000002], [34.017378, -117.468752], [33.742044, -117.837326], [26.03376, -80.16464], [38.631776, -121.398031], [43.16048, -77.53945999999998], [38.222841, -85.504971], [42.50548, -83.75791], [35.126908, -80.656836], [27.441846, -82.568191], [34.010308, -117.823429], [41.44532, -81.59725], [25.698071, -80.162684], [41.55942, -83.6883], [36.273936, -86.797135], [45.707546, -121.502812], [45.02474, -117.92541], [34.012372, -117.980933], [27.951787, -82.795813], [36.220031, -86.774774], [34.204148, -117.145112], [35.41148, -119.053823], [46.872355, -113.929776], [40.771348, -73.87645699999999], [25.90939, -80.20987], [29.806756, -95.458929], [25.85586, -80.32247], [35.027334, -120.474777], [29.798061, -95.378023], [38.524866, -121.456208], [29.706178, -95.288795], [27.7036, -80.89527], [33.578272, -81.767211], [36.969695, -121.975638], [34.12148, -117.78941100000002], [41.695314, -92.766054], [34.56279, -92.60897], [25.78601, -80.25809], [30.370218, -97.734443], [32.499969, -93.735985], [41.24201400000001, -122.664642], [29.95887, -89.99243], [36.753886, -119.827519], [42.6889, -73.84269], [47.777312, -122.318112], [44.81036, -93.04079], [25.84566, -80.256036], [45.245876, -117.960085], [32.73124, -117.15464], [37.698207, -122.149007], [39.97933, -82.84357], [25.903166, -80.32439000000002], [29.77285, -95.23123], [34.064797, -118.158291], [35.019061, -82.479722], [33.9627, -118.11827], [37.78891, -122.2523], [39.424886, -77.42667800000002], [33.960141, -118.231589], [41.56743, -87.31864399999998], [47.36228, -93.79485], [35.967618, -83.978623], [39.69518, -75.401927], [33.044248, -80.083256], [34.145892, -117.670309], [39.610701, -77.799886], [32.817521, -96.805921], [34.4575, -86.27979], [38.530476, -121.749447], [40.646602, -74.015817], [28.001311, -82.327174], [42.153703, -88.033922], [45.242374, -93.496352], [38.91243, -77.22119], [40.731929, -74.130195], [37.711315, -122.395523], [36.677222, -121.641111], [38.871806, -76.98214300000002], [33.919405, -118.044288], [45.946649, -123.443787], [29.528257, -98.559264], [39.713999, -121.800194], [45.37638, -122.7552], [33.989259999999994, -83.427601], [43.05353, -83.759331], [34.066468, -117.331656], [37.617431, -120.990283], [40.71172, -111.9039], [27.996293, -82.389638], [33.897451000000004, -118.280075], [34.064984, -118.000338], [35.000440000000005, -85.28186], [29.310321, -81.131528], [34.053287, -81.194023], [33.680987, -117.170771], [43.887614, -85.562345], [39.486569, -76.24557800000002], [38.868739, -77.308854], [33.94119, -117.23809], [41.319311, -74.145537], [41.23524000000001, -73.02929], [41.74083, -88.06279], [40.71948, -111.86027], [33.383757, -117.253544], [40.68401400000001, -112.27346], [37.641917, -122.091397], [35.906176, -78.652956], [38.760269, -77.457065], [37.789451, -120.83632], [40.4054, -80.0188], [37.757065, -121.963588], [30.227276, -97.775373], [34.35537, -117.438961], [33.503803999999995, -111.88797], [37.99671, -121.78951], [30.488231, -86.122268], [42.394126, -88.155337], [42.948459, -123.328556], [33.525756, -117.16493], [39.737901, -84.26825699999998], [40.103837, -75.003389], [40.813233, -73.11193399999998], [30.183928, -81.632202], [25.440477, -80.501526], [40.73849000000001, -73.80940799999998], [32.731631, -117.111143], [30.456368, -84.25931700000002], [33.937825, -118.038825], [34.014381, -117.824443], [40.77149, -73.87561], [38.78418, -90.513167], [26.496652, -80.17265400000002], [37.358209, -121.840017], [37.966744, -109.357131], [43.660141, -93.198305], [33.89685, -117.48528], [44.007279, -94.170955], [40.610522, -74.098244], [40.083588, -74.93487900000002], [36.827272, -76.323769], [26.670763, -81.82255500000002], [35.3124, -81.18745], [36.784513, -76.105364], [32.354976, -93.713809], [25.807519, -80.258842], [28.546396, -81.658491], [40.232115, -77.130557], [40.323755, -75.605611], [35.104321, -106.599714], [47.618408, -122.188918], [35.404946, -119.025829], [39.267379, -76.62205300000002], [26.06663, -80.165297], [36.134682, -119.259183], [47.230144, -122.446954], [27.97761, -82.453804], [41.86926, -87.64449], [37.08964, -119.31719], [33.484772, -112.263997], [36.88534600000001, -79.86561999999998], [41.761548, -124.207004], [30.245843, -97.768883], [31.805022, -85.987383], [35.7355, -78.650336], [38.859306, -120.833253], [37.062737, -121.585818], [44.967827, -93.287929], [32.674204, -117.083239], [31.75638, -106.34221], [36.612702, -121.567154], [28.610838, -81.428926], [39.007569, -76.862229], [33.871424, -117.544833], [42.25538, -85.53629000000002], [34.037440999999994, -81.111088], [34.521297, -117.972103], [42.97388, -83.707263], [41.77426, -87.94644], [26.14227, -80.21941], [25.876154, -80.218346], [40.59206, -73.58702], [25.86818, -80.23726500000002], [37.42019000000001, -121.8822], [34.07245, -117.94127], [45.358731, -122.616099], [40.653256, -111.981606], [32.851127000000005, -96.776987], [39.00799, -76.40386], [44.22564000000001, -69.816678], [37.120037, -76.44903000000002], [25.651378, -80.330732], [40.560961, -74.26216600000002], [41.78967, -87.63064], [25.621899, -80.414446], [41.12295, -73.33556], [44.574623, -123.06171], [45.63374, -117.26831], [34.02046, -118.19567], [45.40156, -122.57253], [41.74276, -71.44491], [42.38504, -83.15213], [34.146552, -118.784093], [27.965386, -82.430637], [33.77929, -78.79155899999998], [37.250206, -93.301649], [35.012229999999995, -81.960095], [37.742187, -121.525826], [37.375235, -121.933632], [39.76185, -105.422221], [40.12402, -87.25007], [41.248538, -73.006167], [30.189786, -85.789732], [36.599198, -119.502403], [34.1678, -118.22395], [33.999013, -118.17584], [25.779975, -80.318014], [29.929617, -90.070206], [33.83511, -84.19717], [38.76811, -90.5241], [35.161155, -114.580866], [38.64643, -121.3702], [36.57884, -119.63201], [35.82180800000001, -78.569862], [39.91072, -75.14886], [44.950727, -93.099345], [32.414417, -93.814704], [39.80965, -120.25105], [40.101364, -75.354835], [32.23892, -110.875493], [33.861989, -118.041996], [39.78009, -104.935183], [32.786915, -96.761793], [45.370178, -119.458815], [25.878084, -80.357361], [34.193938, -118.405338], [30.48844, -91.1282], [35.074364, -81.97954200000002], [42.480567, -82.916739], [41.42595, -73.35046], [43.29517, -122.63181000000002], [37.463775, -119.949124], [34.691590000000005, -92.304421], [25.671643, -80.393191], [30.423382, -91.140614], [32.664252000000005, -97.242618], [34.066103000000005, -117.254322], [32.344685, -111.046979], [34.23389, -118.47298], [44.65702, -93.67529], [38.511639, -77.376655], [35.101329, -80.991396], [33.86659, -87.435733], [33.84788, -117.856112], [34.15453, -118.392544], [32.285526000000004, -110.995041], [38.99469000000001, -76.88884], [39.61838, -86.46571999999998], [25.709265, -80.283462], [36.254623, -119.36704], [38.854454, -77.21977199999998], [34.087143, -117.683056], [43.069417, -77.68947800000002], [43.412501, -121.721044], [33.985594, -118.280385], [35.290714, -80.767868], [37.784525, -77.891961], [36.75257, -119.700372], [41.218718, -96.090728], [32.792507, -96.684256], [40.603962, -74.05296899999998], [40.852303000000006, -121.771434], [30.271311, -97.691862], [33.397783000000004, -111.89132], [32.462687, -81.06610500000002], [33.952653000000005, -118.256184], [45.533791, -122.626229], [32.368203, -86.12731], [44.86442, -94.33338], [41.27371, -80.77642], [25.76124, -80.37618], [38.728823, -121.363838], [44.089854, -93.507062], [34.52115, -117.9749], [25.68608900000001, -80.395911], [34.134431, -117.957005], [25.613923, -80.34761999999998], [38.689079, -77.789148], [40.05827100000001, -75.32901700000002], [26.705656, -81.741578], [45.39292, -122.41941], [37.942272, -121.232216], [34.247806, -118.425826], [33.357543, -111.467584], [38.837174, -77.089959], [39.9982, -86.76815], [47.653948, -117.35424], [35.104257000000004, -80.770365], [33.39526, -84.761531], [35.120712, -81.108453], [39.085751, -94.59221], [35.383368, -119.005848], [34.864662, -82.33372800000002], [33.997133000000005, -118.358001], [40.670545, -73.80104], [45.79052, -95.08589], [41.86771, -72.66255], [34.04016, -81.024891], [25.78084, -80.19989], [35.016093, -94.120569], [25.829465, -80.24919], [41.88201, -87.64598000000002], [29.715251, -95.500299], [39.533668, -121.433826], [37.52501, -77.43774], [38.33427, -77.49749], [37.294806, -121.872878], [45.476413, -111.269906], [41.99263, -88.00313], [33.3857, -111.93489], [39.739277, -121.876759], [35.616074, -120.688241], [37.82624000000001, -122.30135], [34.135251000000004, -117.97777], [38.003695, -122.036666], [38.587353, -121.503699], [33.874884, -117.545206], [34.987471, -80.337063], [38.96268, -94.77619], [43.077266, -75.308673], [36.14227, -86.68068000000002], [28.577686, -81.474609], [34.99508, -81.99472], [35.011338, -81.859478], [40.960561, -73.850365], [42.67984000000001, -84.65735], [34.647477, -117.215956], [33.929882, -81.056737], [33.684981, -117.175541], [27.997487, -82.34410600000002], [25.671608, -80.335077], [34.819926, -83.046655], [30.011017, -90.013186], [25.912646, -80.210263], [26.100643, -80.258213], [34.251807, -83.468324], [42.364327, -83.43597], [37.539628, -77.436414], [30.449971, -91.103054], [44.05274, -121.30719], [37.739339, -122.408147], [41.119244, -73.38025], [39.9455, -111.80716], [38.643317, -121.114889], [31.184129, -82.84618], [28.538966, -81.311996], [36.234512, -81.73363499999998], [35.098581, -118.144329], [38.639826, -121.301728], [38.945334, -76.06357], [37.352688, -77.40476], [33.869502000000004, -118.195184], [39.085482, -78.21153000000002], [38.1911, -85.72438000000002], [39.012569, -120.989895], [42.004817, -122.64536], [36.156542, -86.775863], [32.23611, -110.87546], [28.02252, -82.45596], [37.289312, -77.415273], [33.90208, -118.10509], [33.462070000000004, -112.203272], [42.409966, -87.824883], [35.528564, -82.930799], [32.418982, -93.693687], [33.857859999999995, -117.9829], [34.78945, -82.41606], [33.876484999999995, -118.107693], [34.697744, -85.186819], [38.932066, -94.644155], [38.22054, -122.1325], [39.498087, -121.3396], [36.874109, -76.433328], [34.066422, -117.990881], [42.893526, -83.62910699999998], [38.41485, -77.42766400000002], [38.641616, -121.365163], [25.705933, -80.285414], [34.48618, -77.892562], [28.302903000000004, -81.350864], [36.46548, -77.61231], [33.61789, -117.71116], [28.428795, -81.40712099999998], [38.54120800000001, -121.472318], [34.19206, -118.474384], [27.895478000000004, -82.347646], [44.980655, -120.863825], [28.043835, -82.51346099999998], [25.76136, -80.36039], [38.612083, -121.538415], [40.19128, -78.639291], [36.151375, -86.796068], [37.680669, -122.079919], [30.340601, -81.760607], [38.370828, -77.454401], [26.108661, -80.290195], [34.225059, -117.409632], [33.88469, -117.52153], [25.684082, -80.457513], [32.235448, -110.926779], [32.32327, -110.9951], [33.644353, -112.235094], [33.3857, -111.93489], [36.29783, -119.384318], [35.064285, -81.77328299999998], [28.332256, -82.699363], [33.900962, -80.675812], [38.995488, -77.157937], [41.537279, -72.803828], [38.714458, -76.877853], [39.096157, -94.567397], [30.105746000000003, -81.705564], [46.216626, -93.045379], [37.193584, -77.573349], [44.9532, -93.09444], [25.70396400000001, -80.295851], [43.044216, -83.650581], [25.889398, -80.16383499999998], [37.45888, -122.13801], [33.936628000000006, -110.337163], [38.568429, -77.334636], [33.968144, -118.167655], [33.7417, -117.83709], [34.027425, -118.037575], [46.17131, -123.81544], [39.765726, -84.200463], [39.47592, -104.87261], [44.9532, -93.09444], [41.535991, -74.076014], [39.29576, -76.90158000000002], [47.2001, -122.25264], [41.574164, -74.085134], [35.076684, -89.99011800000002], [45.675498, -92.991811], [37.123088, -76.50775], [35.000829, -81.81747800000002], [33.508646, -86.79103], [37.461304, -122.142164], [29.468942, -98.475046], [40.307282, -79.59555], [31.135277, -97.331141], [45.736248, -111.066582], [39.81286, -104.98305], [35.010785, -85.21694699999998], [25.944221, -80.20534], [41.54059, -73.21745899999998], [35.020189, -81.896111], [36.052619, -86.671681], [34.02571, -117.80597], [45.656839, -121.51356], [38.540976, -121.475778], [25.86624, -80.20846999999998], [38.31425, -78.930233], [36.339095, -93.459564], [43.645798, -116.354391], [33.874123, -117.880506], [38.02137000000001, -78.42658], [32.989507, -117.083047], [25.882404, -80.253376], [33.86898, -117.73051], [28.06571, -82.45463000000002], [30.685452, -88.126835], [35.168418, -81.440665], [42.71934, -84.50439], [36.59529600000001, -120.225352], [27.099873, -82.43269599999998], [25.938449, -80.188624], [33.599442, -117.46023], [41.54354, -72.78522], [40.736817, -73.599298], [27.448743, -82.575404], [30.235483, -97.692633], [30.44640200000001, -91.057868], [40.82483, -73.93104], [26.166521, -80.159545], [35.718019, -78.583795], [34.415764, -119.579058], [47.64247, -122.37619], [35.964837, -78.517902], [36.987766, -121.941849], [32.250413, -110.991383], [37.361366, -118.424788], [37.687101, -122.1028], [33.39481, -111.89101], [36.962792, -76.27172900000002], [36.743651, -119.80989], [40.43586, -74.30134], [39.815827, -105.025324], [28.579433, -81.122929], [39.887884, -104.987679], [34.270019, -79.0406], [33.207478, -86.794219], [38.6056, -121.50745], [25.760878, -80.419588], [37.609022, -122.068418], [40.426737, -80.03092600000002], [40.411545, -80.075987], [36.137541, -85.632215], [33.859716, -118.295049], [44.310261, -93.309112], [33.91261, -118.15387], [35.032292, -85.10485600000001], [35.15809, -82.098742], [47.62952, -122.17506000000002], [28.661345, -81.825946], [39.42226, -75.65794], [32.799151, -96.793418], [43.97879, -94.43458], [34.156183, -117.660936], [44.05214, -123.1004], [38.905999, -77.07931500000002], [34.018889, -118.181304], [29.76916, -95.33565], [35.094719, -85.056485], [37.072087, -121.702648], [33.609106, -117.685804], [25.730087, -80.383992], [28.356195, -81.476036], [38.633916, -121.269209], [36.411462, -90.604479], [34.049541, -81.440852], [37.7019, -121.907981], [25.930896, -80.26090400000002], [43.016163, -83.679867], [39.042281, -94.362444], [45.562665, -122.586609], [33.073577, -80.033801], [30.212958, -97.658555], [41.748636, -71.44521800000003], [33.9649, -84.5232], [25.890664, -80.176586], [44.868818, -93.432444], [35.119973, -111.708107], [34.76268, -82.546837], [35.04792, -104.371823], [34.153366, -118.277791], [41.358736, -75.26938], [39.60641, -77.754846], [38.868739, -77.308854], [25.824091, -80.206629], [37.19801, -121.99304], [41.7652, -88.37554], [35.182095000000004, -80.887495], [25.687736, -80.36586899999998], [33.323711, -97.180541], [34.10514000000001, -118.810866], [33.628421, -117.72088], [40.595041, -74.273015], [33.996143, -117.88961299999998], [38.404873, -78.908578], [30.416815000000003, -91.097774], [39.93612, -82.25618], [32.699292, -96.44611], [34.121635, -118.063885], [37.36789, -77.41735], [34.00499, -117.721314], [33.039192, -80.66895500000003], [35.273033, -80.832113], [29.721940000000004, -95.4927], [44.74229, -92.85249], [36.789474, -119.799573], [36.09549000000001, -86.530085], [42.336126, -73.858906], [40.70357, -73.47945], [37.54998300000001, -122.025213], [35.318133, -80.778299], [40.03136, -76.306529], [38.544779, -121.47398], [39.947054, -122.053392], [35.211176, -80.683933], [30.28865, -81.982782], [37.248365, -121.809728], [39.848686, -75.382487], [47.09134, -122.63007], [33.698812, -84.261177], [45.67449000000001, -121.27179], [29.859389, -95.40282], [34.058328, -117.689534], [33.841218, -78.664529], [28.390114, -81.506372], [26.546544, -81.84304399999998], [43.20215, -77.698035], [47.397755, -92.51721], [39.745773, -86.037838], [41.546525, -95.917349], [36.728874, -119.782422], [28.5058, -81.421977], [29.778605, -95.122163], [29.92438, -90.01404000000002], [32.334786, -110.977343], [34.13497, -117.341298], [45.595342, -118.617229], [41.814427, -71.409664], [36.944067, -76.40336500000002], [35.27148, -80.83705], [41.90042800000001, -72.642921], [33.983022, -117.342966], [32.817234, -96.788872], [28.54766, -81.413605], [33.538791, -80.905883], [33.04077, -83.933755], [33.578748, -111.87395], [35.200622, -93.210506], [37.668957, -122.109386], [45.01758, -92.98477], [37.182875, -121.683245], [40.310972, -77.152765], [28.521096000000004, -81.385986], [35.31854600000001, -119.002943], [32.77551, -96.810997], [37.00189500000001, -121.53207], [37.779665, -122.239164], [32.89235, -117.206715], [33.927171, -117.288835], [34.754448, -92.427639], [41.76054, -71.48099], [36.393876, -119.636997], [35.20879199999999, -86.084738], [43.40646, -118.58933], [25.463358, -80.475211], [28.338919, -81.409591], [38.414844, -82.018486], [28.963158, -81.413503], [38.470717, -121.418933], [39.538818, -122.212107], [40.69763, -111.7954], [39.653978, -84.196488], [38.575599, -121.569061], [33.92321, -118.20573], [29.595539, -90.742713], [40.242994, -75.625945], [39.909843, -111.820725], [28.452939, -81.400159], [27.344691, -82.446821], [37.49867800000001, -79.749967], [34.142493, -80.942856], [38.756908, -122.972439], [38.638938, -121.378407], [30.248118, -97.849689], [40.901144, -74.140967], [28.485668, -81.41736], [32.029539, -85.121218], [28.552682, -81.415942], [33.617328, -117.70505], [37.607733, -120.999617], [45.922961, -120.699915], [40.42845, -111.88805], [28.534591, -81.310437], [35.237696, -80.776347], [40.314436, -74.18303900000002], [29.897304, -95.412238], [44.94849, -92.86918], [33.018506, -117.125038], [25.89281, -80.20962], [35.369719, -118.954149], [35.066596000000004, -85.15722199999998], [42.471841, -123.338954], [30.202692, -85.658211], [34.067440000000005, -117.53243], [36.876352, -76.194626], [33.80608, -117.8801], [33.71191, -84.22014], [40.474271, -122.62003], [40.765789, -111.935631], [32.676225, -97.182537], [40.113658, -75.349877], [47.42902, -122.27425], [44.034223, -116.954901], [34.080358000000004, -117.297729], [44.955795, -93.091248], [28.487852, -81.437888], [38.746129, -77.522953], [45.18467, -93.32193], [33.857023, -81.068078], [34.14556, -117.300804], [38.825188, -123.014843], [41.750004, -77.571783], [29.81318, -95.33532], [35.808166, -78.814684], [43.40508, -73.71540999999998], [47.26931, -122.26078], [44.77678, -93.37825], [34.753132, -92.367215], [33.876389, -118.343809], [34.081571999999994, -117.722993], [44.03045, -116.95114], [39.28459, -76.54473], [45.40719, -94.24115], [43.764901, -122.53204], [40.731798, -74.04203299999998], [32.76212, -117.16371], [25.891627, -80.163146], [40.93412, -124.100883], [42.44705, -94.139234], [36.125138, -86.733638], [47.473191, -121.90381200000002], [38.87902, -77.25445], [38.879551, -77.24539399999998], [38.59207, -121.55241399999998], [34.249376, -117.442305], [37.35594, -77.97306], [33.77888, -78.79211], [26.005882, -80.166751], [26.634685, -81.80313100000002], [35.362383, -80.748492], [25.70129, -80.430686], [38.91335, -77.00909], [42.47153, -83.11013], [40.82479, -74.03235], [41.32078, -87.82066], [39.279504, -76.727171], [39.825902, -85.662329], [47.036193, -122.877649], [35.83823, -78.6416], [28.335588, -81.40363599999998], [38.49947, -121.44973], [28.026927, -82.160342], [38.630631, -121.217583], [34.721270000000004, -86.6215], [39.921229, -86.11198], [30.196045, -97.789678], [33.175717, -87.489873], [29.693173, -95.411663], [32.763458, -96.698094], [33.928429, -118.280448], [47.531252, -116.081631], [33.791046, -84.489725], [40.257753, -75.656289], [34.60909, -111.867009], [37.58581, -122.051591], [28.94546, -80.9485], [33.96575900000001, -118.164984], [25.687938, -80.41644000000002], [40.80567, -73.92144], [28.027781, -82.21593399999998], [40.32790900000001, -76.523494], [26.045787, -80.162475], [41.176501, -73.17174200000002], [34.30615, -110.950595], [33.85608, -118.02469], [28.566847, -81.20678000000002], [39.77021, -104.9917], [41.832346, -122.59089], [40.65069, -74.758669], [34.29309, -118.84762], [33.17855, -117.228723], [34.135798, -86.536118], [45.511046, -117.460981], [36.109067, -95.861733], [40.782699, -73.94408100000003], [39.673516, -75.596954], [28.55191, -81.4916], [32.84097, -97.11847], [38.38512100000001, -81.83544599999998], [38.956016, -77.070412], [37.49881, -77.4703], [34.36132, -117.633792], [37.014358, -76.38864699999998], [44.962481, -93.344446], [28.56266, -81.55917], [45.01168300000001, -93.055604], [40.611141, -111.90616], [39.887295, -74.742424], [30.347867, -91.701619], [41.530476, -72.768856], [43.047288, -89.47567099999998], [38.865503, -77.05975600000002], [38.665062, -121.355527], [45.330239, -122.5758], [38.70228400000001, -121.331718], [34.371085, -79.850224], [34.136353, -117.406576], [37.826521, -122.277336], [40.779243, -73.943556], [33.498246, -117.18289], [33.729448, -78.909663], [42.49577, -88.02515], [37.822692, -122.3201], [25.889191, -80.235159], [38.999329, -123.327831], [34.692104, -117.969729], [38.207604, -122.159374], [34.419339, -118.581393], [34.035712, -118.170145], [33.560536, -83.122752], [29.466897, -98.515764], [38.988536, -76.52897], [25.939205, -80.294666], [40.80244, -73.43782], [37.173324, -121.013234], [26.426567, -80.090295], [42.981372, -85.680059], [29.725273, -95.369751], [34.15297, -118.27965], [39.91569000000001, -77.956784], [28.04055, -82.73816], [33.882348, -117.457427], [33.583594, -117.180797], [28.690697, -81.388449], [39.049111, -77.43568499999998], [42.27477, -71.05026], [43.410319, -124.047242], [46.914202, -101.428767], [33.87425, -118.194705], [38.8019, -90.58988], [36.941037, -121.769416], [40.850782, -111.911846], [28.526365, -81.386013], [33.487926, -86.824597], [40.976461, -73.69984000000002], [29.520417, -98.498061], [37.773389, -122.39746], [41.223646, -96.013323], [33.74345, -84.38338], [34.308186, -118.429456], [40.109375, -121.585387], [39.990988, -76.734255], [34.477764, -120.228522], [34.329284, -118.11977], [39.03159, -94.36079], [33.516521999999995, -112.206577], [39.929007, -123.761357], [34.065093, -117.305824], [40.819355, -73.930628], [40.42476, -76.52409], [41.735967, -74.065773], [35.633672, -79.055696], [28.402359000000004, -81.686523], [25.889471, -80.162038], [41.39947, -72.85128], [25.755841, -80.351967], [37.609995, -122.069136], [45.56931, -92.99194], [37.963316, -122.290662], [38.708886, -77.191024], [32.79111, -117.159136], [41.122542, -73.353615], [44.978917, -92.959452], [34.067208, -117.191197], [35.78638, -78.72063], [34.323567, -118.460295], [30.460269, -91.127727], [33.586727, -112.260919], [41.454774, -73.23875699999998], [40.712982, -111.817034], [35.10755, -106.61522], [25.497569, -80.412242], [34.22153, -119.09839], [37.46783, -77.52277], [30.417404, -91.090313], [32.894312, -96.71595], [28.576429, -81.45146899999997], [34.283543, -118.46868700000002], [33.17143, -97.08695], [34.14805, -118.074327], [32.841771, -117.132765], [40.710386, -73.961259], [40.713347, -74.275163], [25.762768, -80.350594], [44.330507, -123.06129], [27.479392, -82.466737], [44.790352, -93.23795], [34.072414, -118.072922], [32.762895, -117.130849], [39.92825, -86.13619], [37.385176, -76.762772], [28.32624, -81.40371], [35.987075, -119.958061], [33.388248, -91.309202], [32.062311, -103.164969], [42.104925, -122.610807], [38.503984, -121.432775], [38.74412, -77.51284], [41.78216, -88.09259], [40.447057, -74.268726], [34.982689, -82.00269300000002], [41.70564, -72.8031], [38.24257100000001, -121.515605], [44.966423, -93.22547], [27.447751, -82.573305], [25.747513, -80.33807900000002], [25.83122, -80.241062], [33.90504, -118.18406], [33.35947, -84.66174000000002], [38.61129, -90.20423], [45.079289, -93.176683], [37.575055, -77.476991], [25.77549500000001, -80.367024], [25.88019, -80.20895], [37.496969, -122.235536], [35.313039, -94.200411], [37.613847, -121.042701], [45.05622, -93.13124], [40.89041, -74.0986], [25.760882, -80.420301], [29.68683900000001, -95.379749], [42.10571, -87.84904], [33.992087, -117.353868], [38.617967, -121.397405], [42.74103, -84.61336999999997], [36.15256, -86.78708], [34.276959999999995, -118.42298], [34.277975, -118.420308], [41.84462, -87.94964], [37.869528, -122.304762], [34.051023, -118.185447], [45.15933, -122.91049], [25.900215, -80.29214499999998], [34.119826, -117.838639], [27.983641, -82.763058], [39.696363, -75.651859], [37.25556, -121.86707], [33.66983, -112.186822], [43.977384, -92.239109], [39.747095, -122.205407], [35.57355, -97.67403], [25.883868, -80.122422], [32.744696999999995, -117.156411], [44.06073, -93.83839], [32.837667, -96.770107], [37.491524, -122.219604], [32.907902, -80.003568], [45.082473, -93.180333], [33.779247, -117.269881], [37.635202, -122.403548], [34.036935, -118.30021200000002], [36.00881, -83.9698], [35.058222, -120.503976], [33.901056, -117.469776], [38.23435900000001, -122.619662], [42.9806, -71.47029], [25.907324, -80.17120899999998], [28.1858, -82.55352099999998], [37.4069, -122.026097], [39.97435, -75.11859], [42.28158, -83.75399999999998], [43.95651, -91.68157], [26.544190000000004, -80.07185], [37.574638, -77.461201], [38.891848, -77.062751], [37.093362, -76.486721], [28.534553, -81.52899000000002], [32.721385999999995, -96.760876], [27.335728000000003, -82.546679], [29.955587, -90.074849], [45.796524, -123.965283], [28.569417, -81.268046], [38.98719000000001, -94.55179], [34.807375, -82.422724], [37.36411, -121.902], [43.260601, -86.20603], [38.763896, -76.80581600000002], [33.26715, -84.09935], [29.681573, -98.144475], [34.820625, -82.25639100000002], [38.681985, -77.25848], [25.76861, -80.367676], [39.305856, -77.34235], [34.571002, -117.286123], [34.107018, -117.920509], [40.8248, -73.86966], [32.700145, -96.52084], [41.929701, -91.683285], [26.40183, -80.090085], [32.917959, -117.234492], [39.085482, -78.21153000000002], [38.98611500000001, -77.143405], [35.004805, -85.329412], [42.97323, -85.68034], [37.556105, -77.409935], [25.766571, -80.352856], [33.9202, -84.32015], [26.08325, -80.17908], [38.560606, -78.745375], [30.680405, -87.350953], [34.036556, -118.37518500000002], [40.38415, -74.30813], [37.708482, -122.090571], [41.87559, -87.66181999999998], [25.895086, -80.209411], [33.973442, -81.24283199999998], [25.699599, -80.382101], [30.42396500000001, -91.074987], [41.76242, -72.66672], [37.555279, -122.012111], [37.25810300000001, -121.963133], [40.669844, -111.901564], [41.624543, -85.70522], [34.143725, -118.184885], [37.363715, -121.898002], [35.010779, -85.319616], [38.131679, -85.70366899999998], [41.07259000000001, -73.91758], [42.0482, -87.96025], [44.73047, -93.28293], [34.135604, -117.9727], [40.168992, -74.918673], [37.9752, -122.520981], [33.884409999999995, -117.52261], [38.351935, -121.340446], [44.862488, -93.2157], [40.067808, -75.675543], [37.327069, -79.988483], [34.06743, -117.42777], [34.07995, -117.73771], [33.925852, -117.981393], [33.853894, -117.535188], [43.03982, -124.051619], [33.76001, -117.83117], [46.32608, -95.08388], [37.69229, -121.2151], [25.823117, -80.206385], [34.02511, -117.727285], [44.448183, -118.761187], [28.784576, -81.977287], [28.36192, -81.422793], [35.27033, -80.772185], [32.192287, -110.999267], [36.327896, -119.466384], [28.612801, -81.432547], [36.90694000000001, -76.89365], [30.311053, -81.648899], [29.948281, -82.567689], [32.751182, -96.815642], [47.71842, -122.18767], [45.789968, -123.449898], [33.866485, -79.754715], [32.780638, -96.803058], [25.734115, -80.335885], [37.966132, -122.321598], [34.287791, -82.167546], [40.561978, -74.322552], [38.60432700000001, -121.268168], [36.530983, -97.342786], [27.794504, -82.728545], [35.683593, -78.568704], [29.7299, -95.4273], [39.877785, -75.009745], [42.981444, -78.91019200000002], [39.748975, -84.133762], [28.338766, -81.389352], [34.186754, -118.474275], [41.10812, -80.23945], [47.465872, -122.232219], [40.81375900000001, -73.93127], [45.650178, -110.608538], [38.560203, -121.47973600000002], [34.480585999999995, -79.33883], [32.78869, -97.05824], [43.683694, -123.300272], [39.256488, -121.091142], [36.84457, -76.2006], [44.89656, -93.24896], [37.368064, -121.825982], [33.938653, -118.309021], [32.866352, -96.86438], [38.743713, -90.529574], [33.915792, -118.189276], [37.371857, -79.916207], [37.872729, -122.305758], [25.838902, -80.21695600000002], [34.020339, -117.987689], [38.773294, -121.035903], [43.939455, -92.465397], [32.15933, -110.91225], [41.05903, -73.838306], [40.738149, -114.04367], [36.593991, -120.571898], [27.405389000000003, -82.568197], [41.099841, -73.951649], [39.631584, -76.273979], [46.322095, -111.481183], [45.802923, -108.43708], [27.981548, -82.45384], [48.458327, -114.35716200000002], [40.97575300000001, -78.04849499999997], [45.098102, -93.05134], [40.20247, -89.682339], [34.235996, -117.287627], [35.2643, -118.658341], [33.8802, -118.284755], [25.934513, -80.126231], [37.75249, -122.40303], [33.023990000000005, -96.710103], [36.141299, -86.731852], [34.17088, -118.57432], [34.23274, -118.47299], [45.51669, -122.68791], [29.606792, -95.614098], [28.421394, -81.400216], [40.72096, -111.986208], [42.34487, -88.03322], [37.92576, -121.73296], [28.487925, -81.417511], [30.43795200000001, -84.31443], [38.68491, -121.33939], [34.81298, -82.339171], [34.747698, -83.099721], [37.205203, -121.716252], [47.118275, -122.43483], [38.641789, -121.369459], [37.166049, -122.030383], [30.424603, -91.150836], [34.145434, -117.292335], [28.33285, -81.47973], [40.437015, -76.50822], [33.70194, -80.24746999999998], [38.74006, -77.1633], [27.557791, -82.528085], [35.026871, -85.15736600000002], [41.55559, -73.77853], [28.030040000000003, -82.13958000000002], [30.496846, -97.779891], [27.269240000000003, -82.498888], [38.988643, -76.883236], [41.429306, -76.49022], [25.694972, -80.301057], [38.008818, -85.698362], [45.38581, -122.75158], [27.11618, -80.274001], [36.497437, -121.751196], [40.822691, -77.840487], [40.57542, -75.62048], [37.34704, -121.859292], [45.376497, -122.60201], [35.54883, -82.88628], [34.864194, -118.171504], [33.955467, -117.86314099999998], [28.523843, -81.311325], [38.19109, -85.71845], [34.15687, -82.14788100000001], [44.41278, -119.06478], [35.199283, -91.737459], [32.815609, -96.850616], [32.80201, -96.83], [45.253293, -92.999043], [34.807034, -82.233326], [45.516847, -122.66724], [34.315584, -119.126641], [33.932365000000004, -80.33753100000001], [25.868053, -80.243527], [32.778689, -96.873757], [33.720184, -117.971955], [47.97646, -122.21289], [32.90287, -96.72197], [42.93061, -85.734137], [43.15367, -77.506463], [40.270812, -75.35663100000002], [37.49847000000001, -77.54048], [38.955898, -76.71186800000002], [26.315286, -81.804932], [26.70618, -80.05750400000002], [33.645257, -117.114682], [27.915879, -82.762335], [40.34999000000001, -121.626865], [36.70605, -119.7547], [39.597181, -76.75676800000002], [38.9586, -77.20499000000002], [40.6218, -89.30107], [29.784990000000004, -95.70748], [34.419788, -119.684314], [30.764693, -86.600819], [28.53487800000001, -81.364199], [32.879638, -96.689637], [34.166076000000004, -118.618193], [37.254306, -121.880253], [33.777593, -78.985295], [29.730493, -95.415795], [34.262994, -118.440806], [43.431926, -73.46489100000002], [33.710871000000004, -84.212683], [34.140646999999994, -117.24801399999998], [28.451105, -81.470832], [33.974775, -118.256334], [29.72737, -95.5576], [32.722037, -117.102444], [33.546613, -86.783055], [34.067439, -117.9819], [40.74851, -111.90829], [40.718801, -112.061739], [33.767025, -117.921314], [39.424392, -76.449281], [39.067221, -94.620383], [37.376667, -121.941891], [35.900906, -78.780759], [45.332335, -93.731735], [37.473137, -77.525161], [41.652757, -93.570071], [24.57033, -81.751126], [37.186283, -76.558238], [29.657225, -95.497481], [27.926622, -82.40187900000002], [37.361925, -120.649827], [34.130168, -80.707077], [38.904903, -77.023988], [34.054207, -118.203211], [36.175729, -79.881361], [35.565308, -82.590612], [28.076173, -82.354039], [33.912541999999995, -117.440267], [35.204148, -80.847602], [25.988878, -80.16583], [39.45083, -74.53704], [39.989558, -75.206168], [38.657407, -121.382913], [41.24428, -111.9779], [42.218832, -120.14319], [27.193919, -82.439807], [40.69119, -73.40109], [28.449911, -81.480513], [34.052204, -117.715303], [40.835516, -73.374521], [38.22054, -122.1325], [36.01933, -79.70777700000002], [25.763717, -80.25911500000002], [34.265123, -79.727236], [41.9066, -87.92364], [38.611915, -90.214182], [44.425761, -121.737778], [38.823866, -122.563227], [40.907195, -74.499868], [34.01704, -117.341548], [35.484253, -77.567981], [27.980931, -82.385216], [40.815942, -73.96119], [26.16192, -81.69296999999997], [42.915905, -83.72625], [34.70859, -81.03048000000003], [37.518172, -77.38424300000001], [27.523831, -80.600177], [39.798256, -74.927285], [34.079879, -117.627514], [41.22665, -111.9481], [34.07039, -84.28671999999997], [37.988061, -121.256278], [34.145804, -118.76032], [40.736926, -73.906929], [34.05103, -117.302491], [34.0453, -118.27086], [33.895751000000004, -117.497781], [39.114214, -77.83625699999997], [34.081485, -117.728209], [34.06091, -117.804712], [27.388764, -82.456816], [33.810471, -118.290949], [33.926058000000005, -117.97843600000002], [37.390098, -121.991977], [38.628571, -90.312281], [39.082199, -94.49073], [41.59412, -72.16228000000002], [43.605133, -116.58983899999998], [37.649757, -122.452394], [32.16314000000001, -110.92629], [45.56601, -122.55605], [25.528255, -80.504341], [28.154354, -81.440099], [33.87432800000001, -117.60438899999998], [45.442764, -122.775321], [36.07477100000001, -86.63505699999996], [34.07288, -117.776], [37.742983, -81.123046], [37.72, -121.65893], [32.77471, -117.13354], [29.7302, -95.45506], [33.895937, -117.881029], [44.86191, -93.30487], [43.708795, -123.217495], [36.093302, -86.736226], [44.93484, -123.22795], [38.510862, -121.33503799999998], [38.555961, -121.398894], [34.251059999999995, -119.20834], [28.215844, -81.922341], [32.736470000000004, -114.646673], [33.755032, -111.497448], [47.46172, -122.21763], [38.26224000000001, -122.461722], [39.058836, -76.92579599999998], [44.94545, -93.34805], [44.215887, -121.422328], [32.939329, -80.050653], [40.617433, -111.905079], [27.683326, -80.534774], [38.66959, -77.25753], [42.680887, -73.773077], [40.69916, -74.15581], [34.774573, -118.500114], [36.145673, -119.026983], [41.88829000000001, -87.81619], [25.9423, -80.309174], [32.791942, -96.729131], [42.187313, -88.101686], [38.700407, -121.265717], [27.388202000000003, -82.47063299999998], [38.07577, -112.958024], [34.17325, -118.539206], [28.557922, -81.380872], [40.467933, -122.312211], [32.64516, -96.78961], [41.583489, -88.169185], [29.81318, -95.33532], [40.665218, -73.56855999999998], [35.80893, -78.69377], [39.836136, -75.091756], [39.934948, -74.948247], [38.984802, -121.293321], [34.05555, -118.00372], [35.408602, -119.032114], [30.439645, -91.200141], [33.553023, -112.112492], [42.832323, -123.256951], [41.87548, -87.64197], [28.610728, -81.41579300000002], [27.38891, -82.448593], [40.005547, -75.23548000000002], [37.407127, -121.910165], [35.79425999999999, -78.612799], [28.452192, -81.400388], [27.799161, -82.687735], [36.769311, -76.260308], [40.907453, -73.886393], [37.39957, -122.06958], [32.697256, -117.137212], [35.10405, -106.70975], [39.16883, -120.970509], [44.05151, -121.19795], [38.673924, -121.728955], [45.400153, -122.745534], [40.00613, -75.78584000000002], [34.030635, -117.328699], [42.969919, -85.677902], [38.222928, -122.129022], [37.159983, -93.287433], [35.135525, -80.891856], [39.015941, -77.016397], [40.217471, -76.079288], [32.874775, -80.760928], [35.74881, -78.64886], [38.2998, -122.03409], [40.688479, -111.93892], [34.265903, -118.472621], [25.91276400000001, -80.23603299999998], [35.515449, -82.58934], [39.406231, -77.43328199999998], [25.49949, -80.415423], [37.53275, -77.43208800000002], [38.8564, -104.72007], [34.14589, -118.134998], [34.545125, -118.434967], [32.56409, -116.96834], [25.893601, -80.261645], [35.29052100000001, -80.76774], [30.430191, -91.056703], [39.78432, -105.11509], [36.987356, -121.98793899999998], [41.824738, -71.419184], [43.08069, -121.82506], [33.77678, -84.60206], [45.341023, -123.154171], [39.45074, -77.37716], [36.082771, -79.966374], [39.58628, -75.084775], [42.46631, -88.06241999999996], [41.844316, -87.967888], [40.82322, -73.02514000000002], [33.46601500000001, -112.199492], [33.85557, -117.786759], [40.72267, -122.92936], [39.69697, -86.18299999999998], [33.784107, -117.49201200000002], [47.35878, -122.24458], [32.837308, -117.171729], [28.068091, -82.758016], [30.30533, -97.71316], [32.275136, -90.205412], [36.06682, -86.68665], [39.825879, -85.62299200000002], [33.766090000000005, -84.38998000000002], [34.03662, -118.162003], [46.705357, -92.286671], [25.846452, -80.1463], [44.222041, -93.276039], [28.369411, -80.872107], [39.318271, -76.513307], [37.29176, -121.87164], [34.346834, -119.066036], [30.263997, -81.51938], [33.837024, -117.305731], [41.864637, -87.91775799999998], [39.242546, -76.671231], [44.23323900000001, -121.202176], [33.858413, -98.542762], [42.42847, -83.0942], [37.21177, -76.58537], [37.514244, -77.17697], [29.968979, -90.100764], [39.275513, -77.527422], [32.689722, -117.165981], [43.30237, -124.2113], [25.985514, -80.151961], [33.935349, -118.088879], [40.823622, -74.125309], [46.306932, -95.718241], [39.11209, -94.564874], [41.24495, -112.02534], [26.203659, -80.14399], [30.443967, -91.12027], [38.588849, -85.059889], [25.682907, -80.41640799999998], [44.05291, -123.2469], [38.296251, -77.50128199999997], [47.507554, -121.895638], [33.929487, -118.245447], [33.520842, -117.664697], [34.236053000000005, -118.079873], [40.002077, -75.22466999999997], [47.23948, -122.40684], [25.51988, -80.416641], [44.950915, -93.105], [33.549654, -117.140409], [36.782773, -76.23688800000002], [25.988878, -80.16583], [38.560503, -121.466431], [40.827291, -72.947321], [28.177709000000004, -82.745024], [47.713998, -122.326852], [46.18308, -123.065139], [34.071081, -93.121694], [30.436740000000004, -91.05749], [32.77742, -96.765292], [35.462011, -94.352442], [29.72897, -95.2803], [33.94232, -118.291574], [38.13156, -79.030934], [33.712659, -81.110509], [32.878820000000005, -96.51348], [32.760126, -97.229195], [33.808806, -118.156367], [39.16064, -84.39305999999998], [38.417747, -82.018561], [39.18218, -94.58836], [32.86635, -97.00182], [30.775865000000003, -85.56637099999998], [34.161477000000005, -118.081122], [37.711194, -121.013071], [34.018005, -118.239665], [33.673206, -117.755742], [38.417216, -77.42510300000002], [39.52185, -110.564326], [35.90137100000001, -78.492684], [45.332, -122.57519], [40.785022, -77.784616], [38.581364, -121.463439], [45.543791, -122.675217], [33.74555, -84.33967], [36.374291, -86.984756], [42.436441, -122.840827], [40.284617, -112.262791], [35.148053000000004, -80.829296], [32.806959, -97.21061], [38.9519, -77.02741999999998], [38.79302, -77.033064], [37.603428, -122.064142], [35.50758, -97.56567], [45.85223, -93.33819], [33.94023, -84.15436], [29.947324, -90.082107], [34.140839, -118.277752], [43.02441, -123.68093], [28.294709, -82.68231800000002], [29.917154, -95.412455], [29.86778, -95.40685], [45.116028, -123.2062], [37.034632, -76.351176], [47.034156, -114.334007], [34.181253000000005, -118.168899], [39.01689, -94.78555], [34.660168, -118.20626], [45.514729, -122.795538], [33.831375, -118.0839], [28.688279, -81.38885], [33.964275, -118.120211], [33.902101, -118.265363], [25.627579, -80.414624], [47.808565, -124.250953], [44.803994, -93.398004], [25.627905, -80.34143399999998], [42.94462, -78.76643], [46.898242, -114.037549], [37.574799, -77.476954], [36.937277, -121.77081], [36.864141, -76.195195], [37.525681, -77.271834], [34.023571000000004, -117.747123], [42.386895, -91.889622], [38.552072, -121.43299], [34.086511, -118.303147], [33.91642, -118.274254], [25.81033, -80.14402], [41.041949, -111.519716], [43.036, -87.92885], [33.88861, -118.35795], [34.103039, -117.837642], [34.420309, -79.41682800000002], [37.084111, -121.9775], [34.471276, -82.651338], [25.929874, -80.18833000000002], [33.878153000000005, -117.88046], [33.864539, -78.722201], [36.687432, -121.683723], [40.958588, -115.46541], [34.15142, -118.23543], [38.741065, -121.272615], [43.088955, -75.279252], [47.602783, -122.326208], [33.825581, -117.876301], [34.947627000000004, -89.99662], [32.922238, -117.115255], [32.79575, -96.6922], [34.236252, -117.657752], [33.06795, -84.4601], [32.69119, -96.873747], [28.540773, -81.285702], [37.235798, -93.31121], [43.130568, -77.400468], [40.809324, -77.906654], [26.713547, -81.902883], [38.452543, -121.374547], [38.164347, -78.263933], [39.09460900000001, -94.543138], [37.549034000000006, -122.291983], [33.687407, -117.890505], [28.538172, -81.475728], [41.493076, -94.639095], [35.332213, -119.00308], [29.935282, -90.102842], [44.77519, -93.28849], [33.947523, -118.279706], [28.286416, -81.342775], [44.384948, -123.061455], [35.158648, -85.248487], [44.95623, -93.1924], [25.905895, -80.12294399999998], [40.205165, -78.99646800000002], [28.381294, -81.424551], [34.030047, -117.702501], [42.15554, -87.87447], [31.74929, -106.33977], [28.15091, -82.4615], [32.794963, -116.977111], [29.835271, -95.545134], [28.49197, -82.48868], [40.131222, -111.647025], [32.405842, -80.90577900000002], [33.56752, -112.18629], [45.575468, -93.559452], [42.02528, -88.20296], [35.891511, -78.56056600000002], [30.286681, -87.49131], [34.023531, -117.811449], [47.936132, -122.196236], [39.868162, -76.699241], [41.12004, -73.37822], [45.779967, -95.38801], [39.92397800000001, -75.147481], [33.94419, -84.50973], [34.13085, -117.92904], [38.49434, -121.397669], [36.55294, -82.58200699999998], [35.0902, -89.93108000000002], [28.565889, -81.286078], [30.444956, -87.299971], [30.429378000000003, -97.723098], [40.855174, -73.970653], [33.607776, -117.689049], [37.275592, -121.946364], [37.458306, -122.137374], [39.9469, -78.22901800000002], [44.63038, -117.519968], [25.75485, -80.38499], [34.06213, -117.19307], [25.812314, -80.205926], [25.824522, -80.369827], [42.26737, -84.61729], [33.80583, -118.14251000000002], [28.452476, -81.47081800000002], [35.28022100000001, -82.397686], [38.295087, -75.375518], [33.175561, -87.524435], [39.0988, -94.60951], [34.05813, -118.21426], [36.87155, -76.43307], [33.1696, -117.21926], [38.008166, -122.030414], [33.921890000000005, -118.28151], [27.806899, -82.646412], [25.698141, -80.38216800000002], [39.64614, -106.31176], [26.063399, -81.69921], [32.88619, -96.98426], [29.848101, -95.342839], [30.299874, -97.716661], [39.195, -77.15313], [44.783122, -93.431083], [36.990849, -122.012106], [37.72323, -97.42619], [45.535057, -122.583292], [41.53286, -72.792895], [40.044254, -104.671028], [36.313426, -119.807752], [27.447425, -82.52096], [34.065782, -81.116584], [41.390305, -73.476636], [37.87118, -76.45600999999998], [42.479379, -83.088411], [47.63967, -122.1867], [46.337669, -94.645893], [41.91964, -87.67369000000002], [35.163378, -80.87602199999998], [33.800046, -117.878158], [28.765092, -82.092434], [30.477071, -81.644758], [35.89171, -119.05348], [32.77851500000001, -96.842089], [38.85719, -77.372772], [29.829023, -95.340071], [37.72401, -122.401464], [41.094786, -73.934218], [39.780792, -104.992666], [44.970399, -93.346907], [25.939205, -80.294666], [29.94441500000001, -90.090851], [33.13877100000001, -117.331362], [25.883236, -80.170025], [38.12912, -122.226576], [45.542216, -122.673152], [34.015949, -118.170823], [40.02573, -75.327023], [28.552699, -81.414627], [39.7755, -104.864359], [42.362623, -122.907894], [37.266558, -77.396061], [42.63295, -73.768461], [40.707976, -73.957491], [42.366499, -73.44670699999998], [39.374628, -76.74586500000002], [30.484704, -87.201326], [38.025261, -120.223924], [41.176504, -73.18656800000002], [34.538352, -82.316248], [32.80553, -96.81738], [36.1483, -86.77762], [35.83889600000001, -78.77892299999998], [38.116975, -85.701813], [33.9322, -118.36182], [33.913225, -84.204738], [32.778532, -117.112207], [38.568688, -121.511459], [37.686076, -122.045935], [39.05709, -84.5421], [34.021171, -118.277682], [28.247389, -81.306473], [38.35989, -81.71436], [32.919276, -96.853119], [35.80734, -78.59886999999998], [26.08379200000001, -80.192687], [44.070239, -121.306146], [33.568776, -81.756873], [37.649617, -77.602522], [40.645104, -78.775873], [35.091481, -85.221012], [34.038070000000005, -118.27273999999998], [40.194654, -75.259576], [45.464204, -123.777326], [34.152228, -118.282411], [34.334696, -119.086071], [38.943308, -76.91012099999998], [32.6968, -117.09082], [37.49089, -122.21782], [44.905453, -93.065661], [33.895751000000004, -117.497781], [25.477354, -80.493703], [30.357662, -97.70011], [33.780724, -117.831217], [33.903574, -118.194981], [32.310848, -95.349585], [45.505518, -122.677094], [33.087412, -117.07746000000002], [35.024193, -82.496668], [28.417487, -81.422933], [33.49136, -112.11313], [44.833143, -123.968067], [28.571974, -81.556116], [34.399053, -119.51319], [27.91971, -82.60977], [30.038146, -89.974195], [41.74962, -72.7122], [32.719372, -96.616224], [38.116282, -79.0531], [35.21561, -80.78075], [28.712242, -82.054556], [29.602457, -98.443064], [33.103877000000004, -80.12666999999998], [33.775237, -118.086443], [44.925082, -93.451426], [44.06557, -116.99539], [41.169816, -73.195627], [40.836939, -73.873666], [42.37719600000001, -88.139866], [28.618673, -81.386196], [32.929032, -80.170613], [29.965363, -90.0642], [38.337188, -77.495852], [25.764825, -80.345051], [34.120219, -117.807201], [33.889621000000005, -118.192954], [36.923471, -121.795345], [37.638267, -121.062739], [36.587815, -121.882144], [39.172599, -121.054165], [43.033789, -118.149496], [42.48249000000001, -83.42867], [40.811831, -74.00409599999998], [36.971073, -121.893631], [30.21755, -97.684306], [41.3408, -82.76578], [40.914181, -73.78356099999998], [34.035688, -118.098611], [45.55809, -93.152102], [35.009297, -117.656493], [39.51375, -75.71174599999998], [32.836812, -96.919578], [25.761065, -80.414947], [35.437868, -80.869551], [40.96691, -111.89136], [44.75702, -122.43714], [34.569595, -118.687988], [36.354299, -86.720085], [41.94788, -71.48231], [35.305066, -80.725177], [34.033344, -118.180973], [34.005407, -117.39963], [28.604525, -81.307314], [30.602611, -87.08164000000002], [44.74992, -93.37967], [28.482753, -81.464828], [38.91800900000001, -76.943475], [34.070888000000004, -118.465179], [35.026556, -81.87602199999998], [28.070208, -82.738972], [38.74267, -76.9917], [33.38563, -111.8956], [34.087298, -117.684207], [37.546173, -122.325199], [38.105921, -121.701051], [40.753322, -74.211026], [32.705719, -96.762815], [32.72018, -96.764834], [45.636155, -118.680255], [39.751141, -105.01687], [33.935228, -118.09248], [33.92038400000001, -84.32076500000002], [40.77139, -73.876329], [36.76313, -89.53823], [33.961684000000005, -118.36929], [36.794913, -76.10262900000002], [44.626049, -123.06186], [33.045206, -80.114972], [30.50468900000001, -87.081237], [35.30591, -80.74973], [33.232583, -117.145153], [29.971491, -90.03729], [36.259391, -86.713204], [38.682946, -121.262498], [41.072322, -81.50435], [45.003984, -93.212291], [25.761489, -80.353933], [44.62216, -123.721253], [35.063393, -85.140429], [33.461859999999994, -112.100678], [44.256824, -121.181076], [40.087071, -75.180563], [40.09985, -75.302728], [33.825417, -118.228404], [46.004463, -112.573552], [41.542643, -72.785443], [32.336096999999995, -95.264818], [25.734056, -80.287787], [40.051301, -75.52539300000002], [40.01429, -82.98144], [42.34674, -83.21634], [32.783884, -96.815275], [27.400749, -80.396951], [36.893523, -119.79255], [34.820217, -82.434986], [29.59671, -95.40614], [29.717718, -95.5377], [39.196658, -122.037142], [33.356543, -117.201978], [34.202568, -117.415271], [41.904241, -88.47233], [39.97077, -75.12454], [37.35059, -122.10495], [36.042363, -86.654087], [34.152453, -118.121951], [40.52231, -111.944956], [37.965241, -120.393387], [37.85515, -122.02963], [33.42882, -112.06004], [40.624084, -74.30765600000002], [33.094564, -117.084635], [33.989137, -118.288942], [34.151266, -118.13228], [41.29708, -124.073039], [27.945989, -80.607901], [40.015954, -75.17614499999998], [40.917366, -74.087988], [36.57897, -121.90638], [34.805745, -82.455525], [37.99562, -121.78071], [36.765822, -76.581627], [34.816794, -82.451229], [39.102803, -77.090184], [33.958559, -118.231222], [44.779039, -93.37807], [35.218069, -80.904669], [35.231206, -85.144296], [41.76826, -72.65899], [39.189537, -94.608908], [35.901141, -78.65395699999998], [35.8842, -78.74081], [28.50514, -82.52210600000002], [37.14435, -121.98468], [33.975561, -118.282678], [36.151322, -86.786314], [36.677742, -119.546747], [33.138659999999994, -80.313845], [38.841165, -77.084616], [32.691252, -96.887395], [29.498909, -82.29582099999998], [27.475279, -82.351354], [46.984598, -114.406217], [35.07651, -80.74358000000002], [26.661361, -80.070515], [26.00525, -80.16678], [38.935643, -77.247973], [32.17831, -110.96829], [45.51853, -122.56559], [37.080194, -119.421633], [25.765648, -80.374786], [33.937811, -118.0985], [45.562666, -122.571283], [38.884726, -77.01270500000003], [33.507560999999995, -112.08248], [34.011505, -118.419783], [35.024096, -85.268314], [40.64732, -74.5252], [39.2221, -76.65351], [32.754803, -96.754478], [25.701173, -80.16134699999998], [35.32574, -80.94506], [32.82827, -96.62071], [43.24201, -77.64683000000002], [35.23595, -80.88046999999997], [39.388378, -76.727324], [35.025865, -85.364324], [33.989034000000004, -118.06487], [34.774751, -77.389451], [36.707585, -119.720668], [41.55293, -81.59971999999998], [35.996907, -86.796959], [36.1605, -94.059153], [39.012973, -77.134817], [41.86445, -88.05282], [45.60484, -117.62997], [37.777806, -121.556051], [46.226445, -92.827745], [45.882371, -111.906062], [25.942289, -80.30781999999998], [36.15592, -86.82674], [29.78452, -95.60245], [33.873518, -118.248778], [37.74133, -121.58089], [37.520831, -77.431985], [38.362337, -81.737133], [25.891627, -80.163146], [36.73455300000001, -119.777453], [35.062667, -85.30856], [42.82991, -74.011255], [47.271504, -111.70798], [34.156323, -118.300369], [29.940564, -90.101547], [47.74689, -122.32937], [34.03441, -118.344351], [38.6111, -121.429391], [35.295885, -118.985399], [33.881798, -117.620805], [39.013271, -77.041988], [40.92779, -73.8401], [28.005148, -82.30852900000002], [33.9258, -118.17773], [34.011462, -118.13083], [33.443595, -112.697442], [45.03231, -92.9674], [38.442946, -122.884702], [44.96548, -93.26765], [40.349935, -79.731398], [40.672073, -75.689183], [38.583966, -86.905309], [34.87885, -81.965638], [33.78272800000001, -118.207741], [28.551744, -81.505862], [38.237174, -122.619985], [38.360513, -78.925427], [45.52585, -122.56516], [39.902547, -75.150851], [39.04986, -121.09384], [44.94929000000001, -92.95904], [34.833701, -118.865065], [37.616444, -122.15718], [42.46903, -96.32383], [37.854472, -122.219756], [37.323549, -121.892398], [37.981943, -120.286303], [37.970799, -122.320338], [38.375616, -121.36143], [41.31098400000001, -74.122226], [33.58017, -117.6716], [42.122361, -122.493649], [32.9505, -117.242192], [38.639495, -122.594567], [25.887045, -80.154831], [37.70439, -121.73449], [45.226253, -93.027961], [34.083848, -118.22241499999998], [34.198931, -118.337948], [30.328435, -81.667402], [41.149247, -77.467437], [38.80544, -77.21318000000002], [38.118814, -122.105966], [33.846675, -118.205584], [36.797192, -76.149199], [36.985468, -119.714283], [41.737504, -72.739825], [37.502758, -77.63735], [45.546572, -122.537421], [40.725135, -73.933018], [39.403828, -122.195482], [34.18238, -118.31484], [32.512498, -93.738267], [38.637992, -121.40508], [40.68179, -74.00546999999997], [33.83118, -118.081819], [32.511659, -93.740036], [34.1168, -118.269062], [25.626241, -80.342207], [37.651302, -77.611902], [26.494272, -81.93180699999998], [38.22281, -85.64833], [40.88748, -73.89437], [43.19718, -76.244848], [33.985358000000005, -81.055363], [41.92563, -87.637625], [30.224128000000004, -81.57321800000003], [38.564468, -121.339734], [30.78635, -85.347608], [35.220349, -80.870121], [43.644529, -73.949457], [46.661049, -92.480067], [40.02728, -82.99433], [29.806761, -95.263014], [39.75143900000001, -86.22898599999998], [29.77909600000001, -95.94488], [39.138461, -94.586824], [37.756339, -122.14864], [30.335419, -81.536399], [41.825725, -71.426569], [33.930777, -117.879921], [42.430375, -123.252688], [39.974352, -76.622875], [34.698734, -81.149795], [38.36536, -121.5199], [33.41333, -86.80903], [40.59297, -75.362768], [46.77276, -92.11435], [36.977936, -121.910097], [42.38536, -123.46552], [32.289518, -110.984931], [34.156978, -118.448332], [37.87739600000001, -121.342358], [27.791190000000004, -82.72715], [41.89023, -87.96216], [37.753132, -122.402833], [33.886781, -117.517071], [34.727587, -117.345205], [39.83336, -84.27319], [45.65181, -123.312093], [44.95172, -93.40052], [30.584876, -87.01181899999996], [38.80229, -90.70362], [39.718312, -84.21543], [40.873579, -74.06112900000002], [34.015457, -80.987103], [35.280853, -80.805583], [32.794243, -96.698194], [37.90731, -122.31508], [40.276017, -124.070798], [34.066663, -117.251286], [41.720627, -85.55404200000002], [37.93940300000001, -122.324946], [25.9258, -80.25544000000002], [27.338399, -82.514037], [41.801034, -88.240874], [41.28436, -72.94815], [32.20693, -110.903075], [39.33004, -121.53623600000002], [34.038042, -118.279959], [40.559465, -122.275764], [41.897095, -87.919248], [37.76041, -122.40648], [33.890394, -118.046601], [39.785737, -86.137187], [25.807606, -80.290476], [40.69057, -73.99886], [34.778663, -92.202767], [39.85353900000001, -121.605034], [37.726347, -75.672966], [41.643857, -73.56541800000002], [36.798163, -119.519607], [34.112285, -118.265603], [41.3755, -72.19277], [30.40845, -81.75215], [29.701749, -95.369801], [39.183735, -76.77956999999998], [30.740851, -88.107529], [34.06832, -118.25754], [26.542968, -81.852604], [38.900819, -77.193475], [35.54153, -82.92005999999998], [45.270794, -111.294403], [34.105861, -118.807471], [37.666615, -77.484287], [41.133483, -83.303373], [35.774242, -78.685485], [28.53901, -81.31065], [38.86093, -77.00259], [36.965133, -81.06563], [32.011724, -90.363782], [40.593248, -111.902629], [40.219005, -123.82067], [42.947706, -85.675221], [35.810905, -78.572753], [34.151132000000004, -79.874301], [28.381919, -82.19905], [37.77803, -79.98581], [38.294442, -77.480593], [30.488702000000004, -84.363058], [45.0011, -93.22074], [42.994895, -85.6705], [40.971982, -74.080415], [41.22376, -96.036933], [45.03753, -93.03652], [39.27819, -84.86321], [36.174047, -86.605776], [38.934248, -94.406515], [47.107442, -122.580876], [33.938782, -84.156318], [36.663131, -76.977871], [33.928581, -118.28914], [32.910711, -96.884147], [46.727244, -113.674228], [29.178837, -81.436581], [37.700442, -122.064242], [37.540597, -121.924671], [40.850603, -73.946782], [40.71431, -74.28163], [37.750689, -122.151759], [39.899006, -75.109913], [40.4289, -79.932208], [32.648866, -96.776145], [27.338664, -82.383521], [34.97963, -81.97831], [38.733588, -77.547405], [25.628988, -80.338654], [39.951261, -83.86435300000002], [37.171161, -93.279359], [32.853831, -117.181774], [40.575391, -124.147783], [45.205064, -93.389767], [39.1085, -77.18513], [42.961338, -77.040177], [35.939703, -86.537148], [45.480085, -123.12965], [39.15965, -94.645999], [33.77385, -117.99268], [40.346549, -111.76386200000002], [29.733122, -95.501305], [35.018787, -82.412761], [37.784863, -121.306705], [30.251551, -81.583861], [37.413076, -122.081164], [33.447315, -86.817666], [39.453932, -76.316152], [26.153739, -80.202976], [47.288979, -122.561883], [25.85456, -80.322404], [34.78745, -82.28081], [33.996012, -117.968048], [39.17584, -76.793671], [27.429354, -82.554985], [43.87833, -120.91567], [34.061726, -117.182294], [35.908931, -80.06427099999998], [36.087637, -95.922154], [29.847528000000004, -95.384485], [32.935098, -96.752733], [36.07519, -80.10471], [30.327719, -97.691172], [40.315043, -75.32481], [38.687013, -90.247117], [41.021715, -73.727906], [25.930062, -80.293485], [35.72522199999999, -78.82665300000002], [35.957125, -78.54515500000002], [25.78165, -80.20067], [34.309862, -118.485976], [34.013132, -86.578264], [39.013427, -77.038782], [37.75249, -122.40303], [41.173174, -73.188951], [34.61658, -118.152161], [35.223151, -118.566076], [30.213137, -97.753515], [33.744640000000004, -84.39252900000002], [35.116992, -118.20395], [29.97505, -90.06348], [39.125862, -121.571663], [28.422017, -81.474078], [40.8116, -73.83595], [34.026103000000006, -118.271473], [39.282179, -120.104537], [42.65878, -122.71771], [42.272598, -73.723275], [33.4805, -112.1344], [34.378813, -118.915747], [34.01288, -117.43998], [35.075021, -106.511625], [39.99215, -76.02126], [34.048839, -117.158596], [37.141823, -93.296155], [38.765977, -111.468154], [37.75851, -103.429486], [33.906501, -118.286372], [42.87652, -71.34351], [34.779342, -82.669652], [38.627614, -121.05862], [34.026235, -80.943585], [34.898841, -82.193881], [38.008865, -77.49815500000003], [41.772683, -124.200444], [29.401956, -98.70571], [35.265656, -118.914435], [39.256521, -76.636344], [33.763897, -117.92021], [34.03419, -118.35024], [28.504848, -81.285579], [37.614666, -120.980833], [41.355446, -75.717869], [28.357449, -81.495717], [34.72753, -86.62748], [39.934882, -75.071125], [42.56396, -84.839776], [36.721973, -119.789118], [35.106255, -120.616393], [37.618464, -122.150663], [38.800846, -77.083286], [37.86748, -121.638388], [36.158907, -115.118771], [38.512836, -122.777711], [40.033682, -75.360561], [33.744574, -84.389093], [38.596947, -121.265604], [41.595916, -124.100845], [38.791855, -77.174824], [32.83148, -96.688503], [34.039972, -118.299314], [45.23862, -122.80355], [37.863905, -122.303047], [40.739424, -73.900859], [29.799406, -95.027026], [34.034126, -118.283986], [36.78894, -119.790608], [25.97209, -80.25248], [37.403029, -122.04691499999998], [45.600031, -118.503781], [35.488279, -82.562566], [36.041661, -86.65287099999998], [39.536496, -119.79566], [39.78088, -86.14154], [30.33121, -97.715709], [44.8345, -93.16298], [42.43682, -123.265455], [32.426312, -93.718672], [33.385059000000005, -117.231372], [33.550523, -84.567341], [46.68184, -113.662759], [34.273115000000004, -118.358981], [35.379763, -82.482465], [30.426356, -91.106318], [42.78475200000001, -121.836359], [38.384988, -75.06635], [43.806838, -122.570669], [33.92772, -118.246252], [30.5264, -83.100672], [41.562426, -75.092014], [39.774659, -104.852002], [28.523322, -82.278228], [35.272633, -80.846419], [37.30852700000001, -77.39989200000002], [38.112767, -122.10598600000002], [41.324744, -76.973353], [27.273439, -82.564258], [41.667481, -86.340455], [28.468802, -81.417358], [34.06392, -117.8148], [45.531691, -122.568276], [41.61351, -93.776323], [38.937896, -94.40748], [35.211771, -80.756537], [37.881911, -122.308246], [27.905896, -82.633098], [45.525358, -122.665411], [34.12827, -117.50597], [37.701676, -121.882782], [25.617349, -80.378462], [32.759107, -96.809615], [38.88566, -77.09738], [28.607572, -81.49685], [42.36147, -83.07294], [38.567014, -121.505202], [34.136399, -117.554022], [41.488275, -72.767222], [44.812513, -117.333308], [45.54128, -122.413798], [40.088257, -77.022269], [45.66367, -111.282743], [43.154121, -77.614273], [34.067609999999995, -117.56668], [29.778336, -95.421992], [34.149011, -118.050213], [40.115593, -75.34939399999998]],\n",
              "                {\n",
              "                    minOpacity: 0.5,\n",
              "                    maxZoom: 18,\n",
              "                    max: 1.0,\n",
              "                    radius: 25,\n",
              "                    blur: 15,\n",
              "                    gradient: null\n",
              "                    })\n",
              "                .addTo(map_a0bb1e93060b73cf0212d84f0a3cec14);\n",
              "        \n",
              "&lt;/script&gt;\" style=\"position:absolute;width:100%;height:100%;left:0;top:0;border:none !important;\" allowfullscreen webkitallowfullscreen mozallowfullscreen></iframe></div></div>"
            ]
          },
          "metadata": {},
          "execution_count": 39
        }
      ]
    },
    {
      "cell_type": "markdown",
      "source": [
        "##Weather Condition"
      ],
      "metadata": {
        "id": "ji9ZUOUIBalp"
      }
    },
    {
      "cell_type": "code",
      "source": [
        "df.Weather_Condition"
      ],
      "metadata": {
        "colab": {
          "base_uri": "https://localhost:8080/"
        },
        "id": "VfI8QKuv3vkg",
        "outputId": "b67b7abd-94b9-4e71-babf-6754ed71ccc7"
      },
      "execution_count": 40,
      "outputs": [
        {
          "output_type": "execute_result",
          "data": {
            "text/plain": [
              "0             Light Rain\n",
              "1             Light Rain\n",
              "2               Overcast\n",
              "3               Overcast\n",
              "4             Light Rain\n",
              "               ...      \n",
              "2845337             Fair\n",
              "2845338             Fair\n",
              "2845339    Partly Cloudy\n",
              "2845340             Fair\n",
              "2845341             Fair\n",
              "Name: Weather_Condition, Length: 2845342, dtype: object"
            ]
          },
          "metadata": {},
          "execution_count": 40
        }
      ]
    },
    {
      "cell_type": "code",
      "source": [
        "\n",
        "df2 = df.groupby(['Weather_Condition','State'])['Weather_Condition'].count().sort_values(ascending=False)\n",
        "print(df2)"
      ],
      "metadata": {
        "colab": {
          "base_uri": "https://localhost:8080/"
        },
        "id": "nUHmcJp-7mIc",
        "outputId": "0060a57d-c27e-486e-cefe-c728c35aedfb"
      },
      "execution_count": 41,
      "outputs": [
        {
          "output_type": "stream",
          "name": "stdout",
          "text": [
            "Weather_Condition             State\n",
            "Fair                          CA       401772\n",
            "                              FL       163753\n",
            "Cloudy                        CA        78168\n",
            "Mostly Cloudy                 FL        74170\n",
            "                              CA        64487\n",
            "                                        ...  \n",
            "Low Drifting Snow             UT            1\n",
            "Light Thunderstorms and Snow  IN            1\n",
            "Light Thunderstorms and Rain  NV            1\n",
            "                              NH            1\n",
            "Wintry Mix / Windy            VA            1\n",
            "Name: Weather_Condition, Length: 2419, dtype: int64\n"
          ]
        }
      ]
    },
    {
      "cell_type": "code",
      "source": [
        "df['Weather_Condition'].value_counts(normalize = True ,sort=False, dropna = True).plot.bar(rot=0)\n"
      ],
      "metadata": {
        "colab": {
          "base_uri": "https://localhost:8080/",
          "height": 286
        },
        "id": "UlS17SbmNj4G",
        "outputId": "ab20946d-1c53-420f-f7df-67cd771090bc"
      },
      "execution_count": 55,
      "outputs": [
        {
          "output_type": "execute_result",
          "data": {
            "text/plain": [
              "<matplotlib.axes._subplots.AxesSubplot at 0x7fce5ba9abd0>"
            ]
          },
          "metadata": {},
          "execution_count": 55
        },
        {
          "output_type": "display_data",
          "data": {
            "text/plain": [
              "<Figure size 432x288 with 1 Axes>"
            ],
            "image/png": "[encoded data removed]"
          },
          "metadata": {}
        }
      ]
    },
    {
      "cell_type": "code",
      "source": [
        "import pandas as pd\n",
        "import seaborn as sns\n",
        "sns.set()\n",
        "\n",
        "sns.countplot(df['Weather_Condition'])\n"
      ],
      "metadata": {
        "colab": {
          "base_uri": "https://localhost:8080/",
          "height": 370
        },
        "id": "PUefoQm18d5n",
        "outputId": "2e2d0e5f-4852-40ee-920d-c8de6eb3d690"
      },
      "execution_count": 48,
      "outputs": [
        {
          "output_type": "stream",
          "name": "stderr",
          "text": [
            "/usr/local/lib/python3.7/dist-packages/seaborn/_decorators.py:43: FutureWarning: Pass the following variable as a keyword arg: x. From version 0.12, the only valid positional argument will be `data`, and passing other arguments without an explicit keyword will result in an error or misinterpretation.\n",
            "  FutureWarning\n"
          ]
        },
        {
          "output_type": "execute_result",
          "data": {
            "text/plain": [
              "<matplotlib.axes._subplots.AxesSubplot at 0x7fce5e361e90>"
            ]
          },
          "metadata": {},
          "execution_count": 48
        },
        {
          "output_type": "display_data",
          "data": {
            "text/plain": [
              "<Figure size 432x288 with 1 Axes>"
            ],
            "image/png": "[encoded data removed]"
          },
          "metadata": {}
        }
      ]
    },
    {
      "cell_type": "code",
      "source": [
        ""
      ],
      "metadata": {
        "colab": {
          "base_uri": "https://localhost:8080/",
          "height": 411
        },
        "id": "q8sTMf0qKFJS",
        "outputId": "2d49d3ca-6055-4786-89f7-491a1aadf3c7"
      },
      "execution_count": 44,
      "outputs": [
        {
          "output_type": "error",
          "ename": "ValueError",
          "evalue": "ignored",
          "traceback": [
            "\u001b[0;31m---------------------------------------------------------------------------\u001b[0m",
            "\u001b[0;31mValueError\u001b[0m                                Traceback (most recent call last)",
            "\u001b[0;32m<ipython-input-44-2849815612cd>\u001b[0m in \u001b[0;36m<module>\u001b[0;34m()\u001b[0m\n\u001b[0;32m----> 1\u001b[0;31m \u001b[0msns\u001b[0m\u001b[0;34m.\u001b[0m\u001b[0mcountplot\u001b[0m\u001b[0;34m(\u001b[0m\u001b[0mx\u001b[0m \u001b[0;34m=\u001b[0m\u001b[0;34m'Weather_Condition'\u001b[0m\u001b[0;34m,\u001b[0m \u001b[0my\u001b[0m\u001b[0;34m=\u001b[0m\u001b[0;34m'State'\u001b[0m\u001b[0;34m,\u001b[0m \u001b[0mdata\u001b[0m \u001b[0;34m=\u001b[0m \u001b[0mdf2\u001b[0m\u001b[0;34m)\u001b[0m\u001b[0;34m\u001b[0m\u001b[0;34m\u001b[0m\u001b[0m\n\u001b[0m\u001b[1;32m      2\u001b[0m \u001b[0;34m\u001b[0m\u001b[0m\n\u001b[1;32m      3\u001b[0m \u001b[0;31m# Show the plot\u001b[0m\u001b[0;34m\u001b[0m\u001b[0;34m\u001b[0m\u001b[0;34m\u001b[0m\u001b[0m\n\u001b[1;32m      4\u001b[0m \u001b[0mplt\u001b[0m\u001b[0;34m.\u001b[0m\u001b[0mshow\u001b[0m\u001b[0;34m(\u001b[0m\u001b[0;34m)\u001b[0m\u001b[0;34m\u001b[0m\u001b[0;34m\u001b[0m\u001b[0m\n",
            "\u001b[0;32m/usr/local/lib/python3.7/dist-packages/seaborn/_decorators.py\u001b[0m in \u001b[0;36minner_f\u001b[0;34m(*args, **kwargs)\u001b[0m\n\u001b[1;32m     44\u001b[0m             )\n\u001b[1;32m     45\u001b[0m         \u001b[0mkwargs\u001b[0m\u001b[0;34m.\u001b[0m\u001b[0mupdate\u001b[0m\u001b[0;34m(\u001b[0m\u001b[0;34m{\u001b[0m\u001b[0mk\u001b[0m\u001b[0;34m:\u001b[0m \u001b[0marg\u001b[0m \u001b[0;32mfor\u001b[0m \u001b[0mk\u001b[0m\u001b[0;34m,\u001b[0m \u001b[0marg\u001b[0m \u001b[0;32min\u001b[0m \u001b[0mzip\u001b[0m\u001b[0;34m(\u001b[0m\u001b[0msig\u001b[0m\u001b[0;34m.\u001b[0m\u001b[0mparameters\u001b[0m\u001b[0;34m,\u001b[0m \u001b[0margs\u001b[0m\u001b[0;34m)\u001b[0m\u001b[0;34m}\u001b[0m\u001b[0;34m)\u001b[0m\u001b[0;34m\u001b[0m\u001b[0;34m\u001b[0m\u001b[0m\n\u001b[0;32m---> 46\u001b[0;31m         \u001b[0;32mreturn\u001b[0m \u001b[0mf\u001b[0m\u001b[0;34m(\u001b[0m\u001b[0;34m**\u001b[0m\u001b[0mkwargs\u001b[0m\u001b[0;34m)\u001b[0m\u001b[0;34m\u001b[0m\u001b[0;34m\u001b[0m\u001b[0m\n\u001b[0m\u001b[1;32m     47\u001b[0m     \u001b[0;32mreturn\u001b[0m \u001b[0minner_f\u001b[0m\u001b[0;34m\u001b[0m\u001b[0;34m\u001b[0m\u001b[0m\n\u001b[1;32m     48\u001b[0m \u001b[0;34m\u001b[0m\u001b[0m\n",
            "\u001b[0;32m/usr/local/lib/python3.7/dist-packages/seaborn/categorical.py\u001b[0m in \u001b[0;36mcountplot\u001b[0;34m(x, y, hue, data, order, hue_order, orient, color, palette, saturation, dodge, ax, **kwargs)\u001b[0m\n\u001b[1;32m   3594\u001b[0m         \u001b[0my\u001b[0m \u001b[0;34m=\u001b[0m \u001b[0mx\u001b[0m\u001b[0;34m\u001b[0m\u001b[0;34m\u001b[0m\u001b[0m\n\u001b[1;32m   3595\u001b[0m     \u001b[0;32melif\u001b[0m \u001b[0mx\u001b[0m \u001b[0;32mis\u001b[0m \u001b[0;32mnot\u001b[0m \u001b[0;32mNone\u001b[0m \u001b[0;32mand\u001b[0m \u001b[0my\u001b[0m \u001b[0;32mis\u001b[0m \u001b[0;32mnot\u001b[0m \u001b[0;32mNone\u001b[0m\u001b[0;34m:\u001b[0m\u001b[0;34m\u001b[0m\u001b[0;34m\u001b[0m\u001b[0m\n\u001b[0;32m-> 3596\u001b[0;31m         \u001b[0;32mraise\u001b[0m \u001b[0mValueError\u001b[0m\u001b[0;34m(\u001b[0m\u001b[0;34m\"Cannot pass values for both `x` and `y`\"\u001b[0m\u001b[0;34m)\u001b[0m\u001b[0;34m\u001b[0m\u001b[0;34m\u001b[0m\u001b[0m\n\u001b[0m\u001b[1;32m   3597\u001b[0m \u001b[0;34m\u001b[0m\u001b[0m\n\u001b[1;32m   3598\u001b[0m     plotter = _CountPlotter(\n",
            "\u001b[0;31mValueError\u001b[0m: Cannot pass values for both `x` and `y`"
          ]
        }
      ]
    },
    {
      "cell_type": "code",
      "source": [
        ""
      ],
      "metadata": {
        "id": "JuYlC3m-KE_H"
      },
      "execution_count": null,
      "outputs": []
    },
    {
      "cell_type": "code",
      "source": [
        ""
      ],
      "metadata": {
        "id": "TwRlYBhNKE7i"
      },
      "execution_count": null,
      "outputs": []
    },
    {
      "cell_type": "markdown",
      "source": [
        "## QnA\n",
        "\n",
        "1.   Are there more accidents in warmer or colder ares?\n",
        "2.   Which 5 states have the highest number of accidents?\n",
        "3.   Among the top 100 cities in number of accidents, which states do they belong to most frequently?\n",
        "4.   What time of the day are accidents most frequnt in?\n",
        "5.   Which days of the week have the most accidents?\n",
        "6.   which months have the most accidents?\n",
        "7.   What is the trend of accidents year over year?\n",
        "\n",
        "\n",
        "\n",
        "\n",
        "\n"
      ],
      "metadata": {
        "id": "k-v6dPTtsLBm"
      }
    },
    {
      "cell_type": "code",
      "source": [
        ""
      ],
      "metadata": {
        "id": "fYwgZpr8sPnN"
      },
      "execution_count": null,
      "outputs": []
    },
    {
      "cell_type": "code",
      "source": [
        ""
      ],
      "metadata": {
        "id": "A37KHPsesPkE"
      },
      "execution_count": null,
      "outputs": []
    },
    {
      "cell_type": "markdown",
      "source": [
        "##Conclusion"
      ],
      "metadata": {
        "id": "JY1YCIYNsQLG"
      }
    },
    {
      "cell_type": "markdown",
      "source": [
        "- No data availabe for New York city as well as New York state.\n",
        "- The number of accidents per city decreases exponentially\n",
        "- Less than 5% of the cities have more than 1000 yearly accidents.\n",
        "- Over 1100 cities have reported just 1 accident.\n",
        "- More number of accidents in the coastal region"
      ],
      "metadata": {
        "id": "-aMUGuf13J-u"
      }
    },
    {
      "cell_type": "code",
      "source": [
        ""
      ],
      "metadata": {
        "id": "u6G-Rc53sUGj"
      },
      "execution_count": null,
      "outputs": []
    },
    {
      "cell_type": "code",
      "execution_count": null,
      "metadata": {
        "id": "SjXwtESjb1dv"
      },
      "outputs": [],
      "source": [
        ""
      ]
    }
  ]
}